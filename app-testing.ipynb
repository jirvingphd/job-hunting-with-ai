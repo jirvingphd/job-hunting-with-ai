{
 "cells": [
  {
   "cell_type": "code",
   "execution_count": 10,
   "metadata": {},
   "outputs": [],
   "source": [
    "import streamlit as st\n",
    "# from langchain import LangChain\n",
    "import PyPDF2\n",
    "# import pypdf2 as PyPDF2\n",
    "from io import StringIO\n",
    "from langchain_openai import ChatOpenAI\n",
    "from langchain.schema import HumanMessage, SystemMessage, AIMessage\n",
    "from langchain.prompts import  MessagesPlaceholder, PromptTemplate, ChatPromptTemplate\n",
    "from langchain.chains import ConversationChain\n",
    "from langchain.memory import ConversationBufferWindowMemory\n",
    "import os"
   ]
  },
  {
   "cell_type": "code",
   "execution_count": 11,
   "metadata": {},
   "outputs": [],
   "source": [
    "\n",
    "ai_avatar  = \"🤖\"\n",
    "user_avatar = \"💬\"\n",
    "def read_pdf(file):\n",
    "    \n",
    "    # stringio = StringIO(file.getvalue().decode(\"utf-8\"))\n",
    "     # To read file as bytes:\n",
    "    # bytes_data = file.getvalue()\n",
    "    # To convert to a string based IO:\n",
    "    # stringio = StringIO(file.getvalue())#.decode(\"utf-8\"))\n",
    "\n",
    "    # pdf_file_obj = open(file.name, 'rb')\n",
    "    # pdf_file_obj = open(file.getvalue(),'rb')\n",
    "    pdf_reader = PyPDF2.PdfReader(file)\n",
    "    text = \"\"\n",
    "    for page_num in range(len(pdf_reader.pages)):\n",
    "        # page_obj = pdf_reader.getPage(page_num)\n",
    "        page_obj = pdf_reader.pages[page_num]\n",
    "        text += page_obj.extract_text()\n",
    "    # pdf_file_obj.close()\n",
    "    return text"
   ]
  },
  {
   "cell_type": "code",
   "execution_count": 12,
   "metadata": {},
   "outputs": [],
   "source": [
    "def get_template_string():\n",
    "    \n",
    "    return \"\"\"You are a a specialized career coach for the data science and analytics sector, focused on delivering tailored, concise job application advice. \n",
    "    You are proficient in resume analysis, cover letter guidance, and interview preparation, adapting to each user's unique requirements.\n",
    "    When analyzing a resume vs. a job listing, start by categorizing a user's fit for a job as 'perfect,' 'great,' 'good,' or 'non-ideal' based on the resume and job listing comparison before going into detail.\n",
    "    You maintain a professional, friendly tone, and encouraging tone, ensuring advice is efficient, clear, and easily understandable, with the goal of enhancing user confidence and aiding their career progression.\n",
    "    \"\"\""
   ]
  },
  {
   "cell_type": "code",
   "execution_count": 13,
   "metadata": {},
   "outputs": [],
   "source": [
    "model_type = st.sidebar.radio(\"GPT Model\", options=[\"gpt-3.5-turbo-0125\", \"gpt-3.5-turbo-instruct\",\"gpt-4-turbo-preview\"],\n",
    "                              index=0)\n",
    "\n",
    "def get_llm(model_type=model_type, temperature=0.1, #verbose=False,\n",
    "             template_string_func=get_template_string):\n",
    "\n",
    "    ## get prompt string\n",
    "    system_prompt = template_string_func()\n",
    "    \n",
    "    prompt_template =system_prompt+\"\"\"\n",
    "    Current conversation:\n",
    "    {history}\n",
    "    Human: {input}\n",
    "    AI:\"\"\"\n",
    "    prompt = ChatPromptTemplate.from_template(prompt_template)\n",
    "    llm = ChatOpenAI(temperature=.1, model=model_type)\n",
    "    llm_chain = ConversationChain(prompt=prompt, llm=llm, memory=ConversationBufferWindowMemory(),#ConversationBufferMemory(memory_key=\"history\"),\n",
    "                                  verbose=True, output_key=\"response\")#,#callbacks=callbacks)\n",
    "    \n",
    "    # llm_chain.memory.chat_memory.add_sy (template)\n",
    "    return llm_chain\n"
   ]
  },
  {
   "cell_type": "markdown",
   "metadata": {},
   "source": []
  },
  {
   "cell_type": "code",
   "execution_count": 14,
   "metadata": {},
   "outputs": [],
   "source": [
    "\n",
    "def fake_streaming(response):\n",
    "    import time\n",
    "    for word in response.split(\" \"):\n",
    "        yield word + \" \"\n",
    "        time.sleep(.05)\t\t\n",
    "        \n",
    "            \n",
    "    \n",
    "## For steramlit try this as raw code, not a function\n",
    "def print_history(llm_chain):\n",
    "    # Simulate streaming for final message\n",
    "\n",
    "    session_state_messages = llm_chain.memory.buffer_as_messages\n",
    "    for msg in session_state_messages:#[:-1]:\n",
    "        if isinstance(msg, AIMessage):\n",
    "            # notebook\n",
    "            print(f\"Assistant: {msg.content}\")\n",
    "            # streamlit\n",
    "            st.chat_message(\"assistant\", avatar=ai_avatar).write(msg.content)\n",
    "        \n",
    "        elif isinstance(msg, HumanMessage):\n",
    "            # notebook\n",
    "            print(f\"User: {msg.content}\")\n",
    "            # streamlit\n",
    "            st.chat_message(\"user\", avatar=user_avatar).write(msg.content)\n",
    "        print()\n",
    "\n",
    "\n",
    "\n",
    "\n",
    "def get_context_strings(context_resume=None, context_job=None,):\n",
    "    if context_resume is None:\n",
    "        context_resume = st.session_state.resume_text\n",
    "    \n",
    "    if context_job is None:\n",
    "        context_job = st.session_state.job_listing_text\n",
    "    # task_prompt_dict = get_task_options(options_only=False)\n",
    "    # system_prompt = task_prompt_dict[selected_task]\n",
    "    \n",
    "    # template_assistant = \"You are a helpful assistant data scientist who uses NLP analysis of customer reviews to inform business-decision-making:\"\n",
    "    # product_template = f\" Assume all user questions are asking about the content in the user reviews. Note the product metadata is:\\n```{product_string}```\\n\\n\"\n",
    "    # template_starter = get_template_string()\n",
    "    context = f\"\\nHere is my resume: \\n\\n-------------\\n {context_resume}.\\n\\n Here is the job listing:\\n\\n-------------\\n{context_job}.\\n\\n\"\n",
    "    # context += f\"Use the {context_type} first before using the retrieved documents.\"\n",
    "    # template_assistant=template_starter+ context\n",
    "    return context\n",
    "\n",
    "\n",
    "def get_task_options(options_only=False):\n",
    "    task_prompt_dict= {\n",
    "        # \"Summary of Customer Sentiment\":'Provide a summary list of what 1-star reviews did not like and a summary of what did 5-star reviews liked.',\n",
    "                   'Compare Resume vs. Job':'How does my resume compare against this job listing? Provide a detailed break down list comparing my resume vs. the listing. Highlight any weaknesses.',\n",
    "                   'Craft Covert Letter':'Write a cover letter for this job. Use a non-traditional opening sentence that is very enthusiastic about the job and memorable (you can even use !). The reamining portions of the letter should be high quality and speak to my experience.',\n",
    "                   \"Interview Prep\":'Help me prepare for an interview. Start with a question that I should expect in the interview.',\n",
    "                   \"Resume Analysis\":'Analyze my resume. Start with a summary of my resume.',}\n",
    "\n",
    "    if options_only:\n",
    "        return list(task_prompt_dict.keys())\n",
    "    else:\n",
    "        return task_prompt_dict\n"
   ]
  },
  {
   "cell_type": "code",
   "execution_count": 15,
   "metadata": {},
   "outputs": [
    {
     "data": {
      "text/plain": [
       "{'Compare Resume vs. Job': 'How does my resume compare against this job listing? Provide a detailed break down list comparing my resume vs. the listing. Highlight any weaknesses.',\n",
       " 'Craft Covert Letter': 'Write a cover letter for this job. Use a non-traditional opening sentence that is very enthusiastic about the job and memorable (you can even use !). The reamining portions of the letter should be high quality and speak to my experience.',\n",
       " 'Interview Prep': 'Help me prepare for an interview. Start with a question that I should expect in the interview.',\n",
       " 'Resume Analysis': 'Analyze my resume. Start with a summary of my resume.'}"
      ]
     },
     "execution_count": 15,
     "metadata": {},
     "output_type": "execute_result"
    }
   ],
   "source": [
    "task_options = get_task_options(options_only=False)\n",
    "task_options"
   ]
  },
  {
   "cell_type": "markdown",
   "metadata": {},
   "source": [
    "### Rethinking the Prompt"
   ]
  },
  {
   "cell_type": "code",
   "execution_count": 16,
   "metadata": {},
   "outputs": [
    {
     "name": "stdout",
     "output_type": "stream",
     "text": [
      "How does my resume compare against this job listing? Provide a detailed break down list comparing my resume vs. the listing. Highlight any weaknesses.\n"
     ]
    }
   ],
   "source": [
    "selected_task = 'Compare Resume vs. Job'\n",
    "prompt_text =  task_options[selected_task]\n",
    "print(prompt_text)\n"
   ]
  },
  {
   "cell_type": "code",
   "execution_count": 17,
   "metadata": {},
   "outputs": [
    {
     "name": "stdout",
     "output_type": "stream",
     "text": [
      "JAMES M. IRVING, PH.D. 8222 Spadderdock Way, Laurel, MD, 20724 | (518) 322-6750 | james.irving.phd@gmail.com |  LINKEDIN: james-irving-phd | GITHUB: https://github.com/jirvingphd  SUMMARY Innovative and enterprising data scientist. Experienced in applying advanced data science techniques to real-world problems, including statistical modeling, machine learning, and data visualization. Skilled at extracting valuable insights from complex datasets and supporting data-driven decision-making. Adept Python programmer with the demonstrated ability to rapidly master and apply new technologies. A highly analytical professional committed to continuous learning and leveraging the value of data to innovate and transform. Former neuroscience researcher with a solid foundation in science, experimental design, and cognitive neuroscience. COMPETENCIES • Data Analysis • Statistical Modeling • Machine Learning • Data Visualization • Experimental Design • Quantitative Research Methods • Time Series Analy\n"
     ]
    }
   ],
   "source": [
    "resume = read_pdf('data/James Irving Resume 2024.pdf')\n",
    "print(resume[:1000])"
   ]
  },
  {
   "cell_type": "code",
   "execution_count": 18,
   "metadata": {},
   "outputs": [
    {
     "name": "stdout",
     "output_type": "stream",
     "text": [
      "4/4/24, 2:48 PM Data Scientist - Focus School Software | Remote\n",
      "https://www.simplyhired.com/job/lxgFxvpAXhH6zOMvh9G6pzooFKCORCgkfSudwEuQZAQjF7dORlMCSw?from=smart-apply 1/4Post Jobs\n",
      "D\u0000t\u0000 Scientist\n",
      "Focus School Softw\u0000re\n",
      "Remote\n",
      "Job Det\u0000ils\n",
      "Full-time\n",
      "$91,751.28 - $110,496.16 \u0000 ye\u0000r\n",
      "2 d\u0000ys \u0000\u0000o\n",
      "Beneﬁts\n",
      "He\u0000lth s\u0000vin\u0000s \u0000ccount Dis\u0000bility insur\u0000nce He\u0000lth insur\u0000nce\n",
      "Dent\u0000l insur\u0000nce 401(k) Flexible spendin\u0000 \u0000ccount P\u0000id time off\n",
      "Vision insur\u0000nce 401(k) m\u0000tchin\u0000 Life insur\u0000nce\n",
      "Qu\u0000liﬁc\u0000tions\n",
      "Power BI Writin\u0000 skills D\u0000t\u0000 \u0000n\u0000lysis skills Rese\u0000rch 3 ye\u0000rs\n",
      "SQL Re\u0000ression \u0000n\u0000lysis 2 ye\u0000rs Communic\u0000tion skills An\u0000lytics\n",
      "Full Job Description\n",
      "Focus is lookin\u0000 for ener\u0000etic, cre\u0000tive, \u0000nd experienced c\u0000ndid\u0000tes who c\u0000n help us\n",
      "succeed in our mission to serve \u0000n incre\u0000sin\u0000 number of districts \u0000cross the n\u0000tion. We\n",
      "keep our clients’ needs \u0000t the forefront of everythin\u0000 we do. As \u0000 comp\u0000ny who\n",
      "underst\u0000nds the h\u0000rd work of tod\u0000y’s educ\u0000tors, Focus looks for employees who sh\u0000re our\n",
      "v\u0000lues tow\u0000rds educ\u0000tion.\n",
      "Foc\n"
     ]
    }
   ],
   "source": [
    "job = read_pdf('data/Data Scientist - Focus School Software _ Remote.pdf')\n",
    "print(job[:1000])"
   ]
  },
  {
   "cell_type": "code",
   "execution_count": 19,
   "metadata": {},
   "outputs": [
    {
     "data": {
      "text/plain": [
       "'\\nHere is my resume: \\n\\n-------------\\n JAMES M. IRVING, PH.D. 8222 Spadderdock Way, Laurel, MD, 20724 | (518) 322-6750 | james.irving.phd@gmail.com |  LINKEDIN: james-irving-phd | GITHUB: https://github.com/jirvingphd  SUMMARY Innovative and enterprising data scientist. Experienced in applying advanced data science techniques to real-world problems, including statistical modeling, machine learning, and data visualization. Skilled at extracting valuable insights from complex datasets and supporting data-driven decision-making. Adept Python programmer with the demonstrated ability to rapidly master and apply new technologies. A highly analytical professional committed to continuous learning and leveraging the value of data to innovate and transform. Former neuroscience researcher with a solid foundation in science, experimental design, and cognitive neuroscience. COMPETENCIES • Data Analysis • Statistical Modeling • Machine Learning • Data Visualization • Experimental Design • Quantitative Research Methods • Time Series Analysis • Signal Processing • Cognitive Neuroscience • Behavioral Analysis • Database Management • Pattern Recognition • Python Programming • Deep Learning • Natural Language Processing • AI/LLM Model Implementation • Adaptive Communication Style • Problem Solving & Critical Thinking EXPERIENCE Coding Dojo | Remote Curriculum Writer - Data Science | Mar 2023 - Jan 2024 • Authored and delivered three advanced data science courses covering Time Series Modeling, NLP, and Model Deployment to facilitate skill acquisition for over 100 learners. • Enhanced and extended the curriculum of a 16-week boot camp to a 24-week program, resulting in a 50% increase in instructional depth and engagement. • Developed and implemented Monday.com boards, including public forms and executive-facing Gantt charts, to automate internal workflows and streamline curriculum management, resolving over 100 issues. • Integrated APIs, Web scraping, and Computer Vision (CNNs) into course content, fostering practical skill development and aligning with industry demands in data science and machine learning. Data Science Instructor | November 2021 - March 2023 • Achieved outstanding Net Promoter Scores (NPS) exceeding 90% through the delivery of engaging live lectures, demonstrating effective communication and pedagogical skills. • Implemented automated tools for administrative tasks, reducing student onboarding time from 5 hours to a mere 2 minutes, optimizing operational efficiency. • Authored and delivered a highly acclaimed 4-week course with a perfect NPS rating, showcasing expertise in curriculum development and instructional delivery. • Designed and presented over 16 interactive live lectures and code-along projects, significantly enhancing student participation and fostering a dynamic learning environment. Flatiron School | Remote Data Science Instructor | Oct 2019 - Oct 2021 • Mentored and supervised 60+ students to successfully transition into data science, achieving a high post-program employment rate. • Led and conducted 90-minute study groups weekly, accumulating over 270 hours of recorded lessons, enhancing student comprehension and engagement. • Spearheaded the development and implementation of the \"Flex\" boot camp program, refining instructional design and delivery methods to meet diverse learning needs. • Established three student-progress-tracking Looker dashboards, providing real-time insights into student performance and facilitating timely intervention strategies. • Implemented data-driven approaches to enhance program efficacy, resulting in improved student outcomes and program satisfaction. University of Maryland, School of Medicine | Baltimore, MD  Laboratory Manager | Jul 2017 - Aug 2018 • Ensured full compliance with regulatory standards as the lab\\'s public representative, achieving a flawless record with all 4 inspections passing without demerits. • Negotiated and finalized a technical hardware contract worth approximately $100,000 with vendors, optimizing procurement processes and ensuring cost-effectiveness. • Managed and administered over 20 TBs of both cloud and local data storage systems, ensuring data accessibility, security, and efficient retrieval. • Successfully overhauled mouse colony management procedures, resulting in a remarkable 60% reduction in housing costs, from approximately $3.8k/month to $1.5k/month, through strategic resource allocation and process optimization. Postdoctoral Research Fellow | June 2015 - July 2017 • Spearheaded neuroscience research endeavors, employing cutting-edge techniques such as in vivo optogenetics and electrophysiology recordings, resulting in groundbreaking insights into neural functioning in awake and behaving mice. • Developed approximately 30 custom analysis scripts in languages including Matlab, NexScript, MedPC, and Arduino, enhancing data processing capabilities and facilitating comprehensive statistical analyses of large datasets. • Mentored and guided a diverse team comprising 1 postdoc, 2 Ph.D. students, 3 lab techs, and 3 undergraduate volunteers, fostering an environment of collaborative learning and achieving research excellence. • Demonstrated self-directed learning by mastering Matlab programming and independently creating custom-designed analysis programs for large datasets in multiple programming languages, streamlining data interpretation processes and enhancing research efficiency. DATA SCIENCE PROJECTS NLP Analysis of Amazon Reviews + AI Recommendations - GitHub Link Natural Language Processing Analysis, Modeling, and Deployment with Actionable Insights • Designed and deployed a user-centric Streamlit dashboard, integrating live sentiment predictions and interactive analysis of trends to guide strategic decision-making. • Conducted sentiment analysis on over 5 million Amazon Grocery & Gourmet Food reviews, utilizing NLP and machine learning techniques (Logistic Regression, Tf-idf vectorization) to identify key factors affecting customer satisfaction and achieve 95%  accuracy in sentiment classification. • Employed Hugging Face transformers and Lang Chain/ChatGPT within the dashboard with a vectorized database used for summarization and insights, translating vast consumer feedback into actionable product enhancement strategies. How to Make a Successful Movie – GitHub Link Constructing and analyzing an extensive movie database with machine-learning-based insights + Tableau Dashboard • Engineered a comprehensive MySQL database integrating IMDB and data from TMDB API for data-driven insights. • Designed an interactive Tableau dashboard to communicate findings to stakeholders, enhancing decision-making processes (see GitHub link). • Applied A/B Testing to make informed recommendations on what movies are successful at the box office. How to Spot a Troll – GitHub Link Classifying Russian Troll Tweets vs Authentic Tweets • Conducted EDA on 3M tweets, identifying patterns indicative of non-authentic activity by Russian Troll Farms. • Produced alternative final models - one optimized for speed, one for accuracy. Recidivism Risk Assessment – GitHub Link Classifying which released prisoners in Iowa will return to a life of crime using Next-Gen Gradient Boosted Trees • Built a classification model to predict recidivism risk among released prisoners with over 70% accuracy (via scikit-learn and Catboost). • Researched Iowa\\'s state sentencing guidelines and sentencing enhancements to engineer new numerical features to capture the severity of the crimes committed and the duration of sentences.   EDUCATION Data Science (Full-Time)     February 2019 - August 2019 Flatiron School Doctor of Philosophy                August 2009 - May 2015 Neuroscience University of Maryland, Baltimore, MD Bachelor & Master of Science      August 2004 - December 2008         Neuroscience Tulane University, New Orleans, LA PROFESSIONAL SKILLS Programming: • Python & Object-Oriented Programming • SQL (MySQL, SQLAlchemy) • MATLAB • PyPi Package Publishing • HTML / CSS • NexScript programming • MedState Notation • Git/GitHub Data Analysis • Extract, Transform, Load (ETL)  (numpy, pandas), • AB Testing (scipy, statsmodels, GraphPad Prism, SPSS) • Machine Learning (scikit-learn, Keras, Catboost, XGBoost), • Database Administration Software: • Adobe Illustrator • Adobe Photoshop • GraphPad Prism • Microsoft Office (Word, Excel, PowerPoint) • NeuroExplorer • Plexon OfflineSorter • VS Code • Jupyter Notebook/Lab Visualization/Dashboarding • Plotly / Dash • Tableau • Streamlit Deployment • Seaborn / Matplotlib • Looker Natural Language Processing: • nltk  • spaCy • Tensorflow • Hugging Face transformers • LangChain \\n .\\n\\n Here is the job listing:\\n\\n-------------\\n4/4/24, 2:48 PM Data Scientist - Focus School Software | Remote\\nhttps://www.simplyhired.com/job/lxgFxvpAXhH6zOMvh9G6pzooFKCORCgkfSudwEuQZAQjF7dORlMCSw?from=smart-apply 1/4Post Jobs\\nD\\x00t\\x00 Scientist\\nFocus School Softw\\x00re\\nRemote\\nJob Det\\x00ils\\nFull-time\\n$91,751.28 - $110,496.16 \\x00 ye\\x00r\\n2 d\\x00ys \\x00\\x00o\\nBeneﬁts\\nHe\\x00lth s\\x00vin\\x00s \\x00ccount Dis\\x00bility insur\\x00nce He\\x00lth insur\\x00nce\\nDent\\x00l insur\\x00nce 401(k) Flexible spendin\\x00 \\x00ccount P\\x00id time off\\nVision insur\\x00nce 401(k) m\\x00tchin\\x00 Life insur\\x00nce\\nQu\\x00liﬁc\\x00tions\\nPower BI Writin\\x00 skills D\\x00t\\x00 \\x00n\\x00lysis skills Rese\\x00rch 3 ye\\x00rs\\nSQL Re\\x00ression \\x00n\\x00lysis 2 ye\\x00rs Communic\\x00tion skills An\\x00lytics\\nFull Job Description\\nFocus is lookin\\x00 for ener\\x00etic, cre\\x00tive, \\x00nd experienced c\\x00ndid\\x00tes who c\\x00n help us\\nsucceed in our mission to serve \\x00n incre\\x00sin\\x00 number of districts \\x00cross the n\\x00tion. We\\nkeep our clients’ needs \\x00t the forefront of everythin\\x00 we do. As \\x00 comp\\x00ny who\\nunderst\\x00nds the h\\x00rd work of tod\\x00y’s educ\\x00tors, Focus looks for employees who sh\\x00re our\\nv\\x00lues tow\\x00rds educ\\x00tion.\\nFocus School Softw\\x00re is lookin\\x00 to exp\\x00nd our te\\x00m by hirin\\x00 \\x00 PowerBI Developer / D\\x00t\\x00\\nScientist to work with our te\\x00m. This person will help support our An\\x00lytics product which\\nincludes dozens of d\\x00shbo\\x00rds \\x00n\\x00lyzin\\x00 student d\\x00t\\x00 to help educ\\x00tors t\\x00r\\x00etJI\\nQuick Apply4/4/24, 2:48 PM Data Scientist - Focus School Software | Remote\\nhttps://www.simplyhired.com/job/lxgFxvpAXhH6zOMvh9G6pzooFKCORCgkfSudwEuQZAQjF7dORlMCSw?from=smart-apply 2/4interventions \\x00nd improve their educ\\x00tion\\x00l processes. This position m\\x00y be occ\\x00sion\\x00lly\\ncustomer f\\x00cin\\x00, providin\\x00 tr\\x00inin\\x00 \\x00nd profession\\x00l \\x00rowth opportunities. The best\\nc\\x00ndid\\x00te will displ\\x00y le\\x00dership c\\x00p\\x00bilities to help drive d\\x00t\\x00-decision m\\x00kin\\x00\\nprocesses within Focus \\x00nd our customers.\\nMinimum Qu\\x00liﬁc\\x00tions:\\n2+ ye\\x00rs\\' experience \\x00s \\x00 PowerBI developer, d\\x00t\\x00 scientist, d\\x00t\\x00 \\x00n\\x00lyst or d\\x00t\\x00\\nen\\x00ineer\\nExperience with PowerBi An\\x00lytics, cre\\x00tin\\x00 d\\x00shbo\\x00rds, D\\x00t\\x00 An\\x00lysis Expressions\\n(DAX)\\nStron\\x00 SQL skills\\nStron\\x00 writin\\x00 \\x00nd communic\\x00tion skills\\nExperience with st\\x00tistic\\x00l rese\\x00rch \\x00nd \\x00n\\x00lytics techniques (i.e. cl\\x00ssiﬁc\\x00tion,\\nclusterin\\x00, re\\x00ression, se\\x00ment\\x00tion, etc.)\\nNice to h\\x00ve:\\nA p\\x00ssion \\x00nd interest in the development of Educ\\x00tion\\x00l softw\\x00re\\nKnowled\\x00e of school district processes \\x00nd function\\x00lity is helpful\\nJob Responsibilities include:\\nUndert\\x00ke preprocessin\\x00 of structured \\x00nd unstructured d\\x00t\\x00\\nAn\\x00lyze l\\x00r\\x00e \\x00mounts of d\\x00t\\x00/inform\\x00tion to discover \\x00nd \\x00rticul\\x00te trends \\x00nd\\np\\x00tterns\\nCollectin\\x00 d\\x00t\\x00 throu\\x00h me\\x00ns such \\x00s \\x00n\\x00lyzin\\x00 business results or by settin\\x00 up\\n\\x00nd m\\x00n\\x00\\x00in\\x00 new studies\\nTr\\x00nsferrin\\x00 d\\x00t\\x00 into \\x00 new form\\x00t to m\\x00ke it more \\x00ppropri\\x00te for \\x00n\\x00lysis\\nSe\\x00rchin\\x00 throu\\x00h l\\x00r\\x00e d\\x00t\\x00 sets for us\\x00ble inform\\x00tion\\nSolve l\\x00r\\x00e, complex problems to \\x00chieve interrel\\x00ted \\x00nd interdependent objectives\\nCre\\x00tin\\x00 reports \\x00nd present\\x00tions for business uses\\nCorrel\\x00tin\\x00 simil\\x00r d\\x00t\\x00 to ﬁnd \\x00ction\\x00ble results\\nFocus School Softw\\x00re’s compens\\x00tion p\\x00ck\\x00\\x00e offers the followin\\x00 beneﬁts:\\nMedic\\x00l Insur\\x00nce\\nDent\\x00l/Vision Insur\\x00nce\\nLife Insur\\x00nce\\nShort \\x00nd Lon\\x00 Term Dis\\x00bility Insur\\x00nce\\n401(k) \\x00fter 6 months\\nP\\x00id Holid\\x00ys\\nP\\x00id V\\x00c\\x00tion \\x00nd Sick Time4/4/24, 2:48 PM Data Scientist - Focus School Software | Remote\\nhttps://www.simplyhired.com/job/lxgFxvpAXhH6zOMvh9G6pzooFKCORCgkfSudwEuQZAQjF7dORlMCSw?from=smart-apply 3/4Remote Position\\nJob Type: Full-time\\nP\\x00y: $91,751.28 - $110,496.16 per ye\\x00r\\nBeneﬁts:\\n401(k)\\n401(k) m\\x00tchin\\x00\\nDent\\x00l insur\\x00nce\\nFlexible spendin\\x00 \\x00ccount\\nHe\\x00lth insur\\x00nce\\nHe\\x00lth s\\x00vin\\x00s \\x00ccount\\nLife insur\\x00nce\\nP\\x00id time off\\nVision insur\\x00nce\\nExperience level:\\n3 ye\\x00rs\\nSchedule:\\nMond\\x00y to Frid\\x00y\\nWork Loc\\x00tion: Remote\\nResources \\x00nd Tools\\nCountryT\\x00ke your job se\\x00rch wherever you \\x00o.Quick Apply\\nUnited St\\x00tes4/4/24, 2:48 PM Data Scientist - Focus School Software | Remote\\nhttps://www.simplyhired.com/job/lxgFxvpAXhH6zOMvh9G6pzooFKCORCgkfSudwEuQZAQjF7dORlMCSw?from=smart-apply 4/4© 2024 SH Inc.Priv\\x00cy\\xa0|\\xa0Terms\\xa0|\\xa0Cookies\\xa0|\\xa0Priv\\x00cy Center\\xa0|\\xa0Accessibility\\xa0|\\xa0Your Priv\\x00cy Choices.\\n\\n'"
      ]
     },
     "execution_count": 19,
     "metadata": {},
     "output_type": "execute_result"
    }
   ],
   "source": [
    "context = get_context_strings(resume,job)\n",
    "context\n"
   ]
  },
  {
   "cell_type": "code",
   "execution_count": 20,
   "metadata": {},
   "outputs": [
    {
     "data": {
      "text/plain": [
       "\" You are a a specialized career coach for the {sector}, focused on delivering tailored, concise job application advice and practice.  You are proficient in resume analysis, cover letter guidance, and interview preparation, adapting to each user's unique requirements.  You maintain a professional, friendly tone, and encouraging tone, ensuring advice is efficient, clear, and easily understandable,  with the goal of aiding their career progression. \""
      ]
     },
     "execution_count": 20,
     "metadata": {},
     "output_type": "execute_result"
    }
   ],
   "source": [
    "# # system_prompt = 'How does my resume compare against this job listing? Provide a detailed break down list comparing my resume vs. the listing. Highlight any weaknesses.',\n",
    "# def get_template_string():\n",
    "    \n",
    "#     return \"\"\"You are a a specialized career coach for the data science and analytics sector, focused on delivering tailored, concise job application advice. \n",
    "#     You are proficient in resume analysis, cover letter guidance, and interview preparation, adapting to each user's unique requirements.\n",
    "#     When analyzing a resume vs. a job listing, start by categorizing a user's fit for a job as 'perfect,' 'great,' 'good,' or 'non-ideal' based on the resume and job listing comparison before going into detail.\n",
    "#     You maintain a professional, friendly tone, and encouraging tone, ensuring advice is efficient, clear, and easily understandable, with the goal of enhancing user confidence and aiding their career progression.\n",
    "#     \"\"\"\n",
    "    \n",
    "system_prompt = (\" You are a a specialized career coach for the {sector}, focused on delivering tailored, concise job application advice and practice. \" \n",
    "\" You are proficient in resume analysis, cover letter guidance, and interview preparation, adapting to each user's unique requirements. \"\n",
    "\" You maintain a professional, friendly tone, and encouraging tone, ensuring advice is efficient, clear, and easily understandable, \"\n",
    "\" with the goal of aiding their career progression. \")\n",
    "# final_prompt = prompt_text + context\n",
    "# print(final_prompt)\n",
    "system_prompt\n",
    "\n"
   ]
  },
  {
   "cell_type": "code",
   "execution_count": 21,
   "metadata": {},
   "outputs": [
    {
     "name": "stdout",
     "output_type": "stream",
     "text": [
      " You are a a specialized career coach for the {sector}, focused on delivering tailored, concise job application advice and practice.  You are proficient in resume analysis, cover letter guidance, and interview preparation, adapting to each user's unique requirements.  You maintain a professional, friendly tone, and encouraging tone, ensuring advice is efficient, clear, and easily understandable,  with the goal of aiding their career progression. \n",
      "Use the following context, if provided, to help answer the questions:\n",
      "\n",
      "Here is my resume:\n",
      "-------------\n",
      " {resume}\n",
      "\n",
      " Here is the job listing:\n",
      "-------------\n",
      "{job}\n",
      "\n",
      "\n"
     ]
    }
   ],
   "source": [
    "#Question: include context in the system prompt or not?\n",
    "context = \"\\nUse the following context, if provided, to help answer the questions:\\n\\nHere is my resume:\\n-------------\\n {resume}\\n\\n Here is the job listing:\\n-------------\\n{job}\\n\\n\"\n",
    "final_promp_str = system_prompt + context\n",
    "print(final_promp_str)\n"
   ]
  },
  {
   "cell_type": "code",
   "execution_count": 22,
   "metadata": {},
   "outputs": [
    {
     "data": {
      "text/plain": [
       "ChatPromptTemplate(input_variables=['history', 'input', 'job', 'resume', 'sector'], messages=[HumanMessagePromptTemplate(prompt=PromptTemplate(input_variables=['history', 'input', 'job', 'resume', 'sector'], template=\" You are a a specialized career coach for the {sector}, focused on delivering tailored, concise job application advice and practice.  You are proficient in resume analysis, cover letter guidance, and interview preparation, adapting to each user's unique requirements.  You maintain a professional, friendly tone, and encouraging tone, ensuring advice is efficient, clear, and easily understandable,  with the goal of aiding their career progression. \\nUse the following context, if provided, to help answer the questions:\\n\\nHere is my resume:\\n-------------\\n {resume}\\n\\n Here is the job listing:\\n-------------\\n{job}\\n\\n\\n    Current conversation:\\n    {history}\\n    Human: {input}\\n    AI:\"))])"
      ]
     },
     "execution_count": 22,
     "metadata": {},
     "output_type": "execute_result"
    }
   ],
   "source": [
    "final_promp_str =system_prompt+ context + \"\"\"\n",
    "    Current conversation:\n",
    "    {history}\n",
    "    Human: {input}\n",
    "    AI:\"\"\"\n",
    "final_prompt_template = ChatPromptTemplate.from_template(final_promp_str)\n",
    "final_prompt_template\n"
   ]
  },
  {
   "cell_type": "code",
   "execution_count": 23,
   "metadata": {},
   "outputs": [
    {
     "data": {
      "text/plain": [
       "ChatPromptTemplate(input_variables=['history', 'input', 'job', 'resume', 'sector'], messages=[HumanMessagePromptTemplate(prompt=PromptTemplate(input_variables=['history', 'input', 'job', 'resume', 'sector'], template=\" You are a a specialized career coach for the {sector}, focused on delivering tailored, concise job application advice and practice.  You are proficient in resume analysis, cover letter guidance, and interview preparation, adapting to each user's unique requirements.  You maintain a professional, friendly tone, and encouraging tone, ensuring advice is efficient, clear, and easily understandable,  with the goal of aiding their career progression. Ask the user for their resume and job listing if not provided and they are needed to asnwer .\\nUse the following context, if provided, to help answer the questions:\\n\\nHere is my resume:\\n-------------\\n {resume}\\n\\n Here is the job listing:\\n-------------\\n{job}\\n\\n \\n        Current conversation:\\n        {history}\\n        Human: {input}\\n        AI:\"))])"
      ]
     },
     "execution_count": 23,
     "metadata": {},
     "output_type": "execute_result"
    }
   ],
   "source": [
    "def get_system_prompt_str():\n",
    "    \"\"\"Helper function for get_prompt_template. New v2.0\"\"\"\n",
    "    system_prompt = (\" You are a a specialized career coach for the {sector}, focused on delivering tailored, concise job application advice and practice. \" \n",
    "    \" You are proficient in resume analysis, cover letter guidance, and interview preparation, adapting to each user's unique requirements. \"\n",
    "    \" You maintain a professional, friendly tone, and encouraging tone, ensuring advice is efficient, clear, and easily understandable, \"\n",
    "    \" with the goal of aiding their career progression. Ask the user for their resume and job listing if not provided and they are needed to asnwer .\")\n",
    "    context = \"\\nUse the following context, if provided, to help answer the questions:\\n\\nHere is my resume:\\n-------------\\n {resume}\\n\\n Here is the job listing:\\n-------------\\n{job}\\n\\n \"\n",
    "    \n",
    "    \n",
    "    return system_prompt + context\n",
    "\n",
    "def get_prompt_template(system_prompt):\n",
    "    # system_prompt = get_system_prompt_str()\n",
    "    final_promp_str = system_prompt + \"\"\"\n",
    "        Current conversation:\n",
    "        {history}\n",
    "        Human: {input}\n",
    "        AI:\"\"\"\n",
    "        \n",
    "    final_prompt_template = ChatPromptTemplate.from_template(final_promp_str)\n",
    "    return final_prompt_template\n",
    "\n",
    "\n",
    "prompt = get_prompt_template(get_system_prompt_str())\n",
    "prompt\n"
   ]
  },
  {
   "cell_type": "code",
   "execution_count": 24,
   "metadata": {},
   "outputs": [
    {
     "data": {
      "text/plain": [
       "['history', 'input', 'job', 'resume', 'sector']"
      ]
     },
     "execution_count": 24,
     "metadata": {},
     "output_type": "execute_result"
    }
   ],
   "source": [
    "prompt.input_variables"
   ]
  },
  {
   "cell_type": "code",
   "execution_count": 25,
   "metadata": {},
   "outputs": [
    {
     "data": {
      "text/plain": [
       "ChatPromptTemplate(input_variables=['history', 'input'], partial_variables={'sector': 'data science and analytics', 'resume': 'JAMES M. IRVING, PH.D. 8222 Spadderdock Way, Laurel, MD, 20724 | (518) 322-6750 | james.irving.phd@gmail.com |  LINKEDIN: james-irving-phd | GITHUB: https://github.com/jirvingphd  SUMMARY Innovative and enterprising data scientist. Experienced in applying advanced data science techniques to real-world problems, including statistical modeling, machine learning, and data visualization. Skilled at extracting valuable insights from complex datasets and supporting data-driven decision-making. Adept Python programmer with the demonstrated ability to rapidly master and apply new technologies. A highly analytical professional committed to continuous learning and leveraging the value of data to innovate and transform. Former neuroscience researcher with a solid foundation in science, experimental design, and cognitive neuroscience. COMPETENCIES • Data Analysis • Statistical Modeling • Machine Learning • Data Visualization • Experimental Design • Quantitative Research Methods • Time Series Analysis • Signal Processing • Cognitive Neuroscience • Behavioral Analysis • Database Management • Pattern Recognition • Python Programming • Deep Learning • Natural Language Processing • AI/LLM Model Implementation • Adaptive Communication Style • Problem Solving & Critical Thinking EXPERIENCE Coding Dojo | Remote Curriculum Writer - Data Science | Mar 2023 - Jan 2024 • Authored and delivered three advanced data science courses covering Time Series Modeling, NLP, and Model Deployment to facilitate skill acquisition for over 100 learners. • Enhanced and extended the curriculum of a 16-week boot camp to a 24-week program, resulting in a 50% increase in instructional depth and engagement. • Developed and implemented Monday.com boards, including public forms and executive-facing Gantt charts, to automate internal workflows and streamline curriculum management, resolving over 100 issues. • Integrated APIs, Web scraping, and Computer Vision (CNNs) into course content, fostering practical skill development and aligning with industry demands in data science and machine learning. Data Science Instructor | November 2021 - March 2023 • Achieved outstanding Net Promoter Scores (NPS) exceeding 90% through the delivery of engaging live lectures, demonstrating effective communication and pedagogical skills. • Implemented automated tools for administrative tasks, reducing student onboarding time from 5 hours to a mere 2 minutes, optimizing operational efficiency. • Authored and delivered a highly acclaimed 4-week course with a perfect NPS rating, showcasing expertise in curriculum development and instructional delivery. • Designed and presented over 16 interactive live lectures and code-along projects, significantly enhancing student participation and fostering a dynamic learning environment. Flatiron School | Remote Data Science Instructor | Oct 2019 - Oct 2021 • Mentored and supervised 60+ students to successfully transition into data science, achieving a high post-program employment rate. • Led and conducted 90-minute study groups weekly, accumulating over 270 hours of recorded lessons, enhancing student comprehension and engagement. • Spearheaded the development and implementation of the \"Flex\" boot camp program, refining instructional design and delivery methods to meet diverse learning needs. • Established three student-progress-tracking Looker dashboards, providing real-time insights into student performance and facilitating timely intervention strategies. • Implemented data-driven approaches to enhance program efficacy, resulting in improved student outcomes and program satisfaction. University of Maryland, School of Medicine | Baltimore, MD  Laboratory Manager | Jul 2017 - Aug 2018 • Ensured full compliance with regulatory standards as the lab\\'s public representative, achieving a flawless record with all 4 inspections passing without demerits. • Negotiated and finalized a technical hardware contract worth approximately $100,000 with vendors, optimizing procurement processes and ensuring cost-effectiveness. • Managed and administered over 20 TBs of both cloud and local data storage systems, ensuring data accessibility, security, and efficient retrieval. • Successfully overhauled mouse colony management procedures, resulting in a remarkable 60% reduction in housing costs, from approximately $3.8k/month to $1.5k/month, through strategic resource allocation and process optimization. Postdoctoral Research Fellow | June 2015 - July 2017 • Spearheaded neuroscience research endeavors, employing cutting-edge techniques such as in vivo optogenetics and electrophysiology recordings, resulting in groundbreaking insights into neural functioning in awake and behaving mice. • Developed approximately 30 custom analysis scripts in languages including Matlab, NexScript, MedPC, and Arduino, enhancing data processing capabilities and facilitating comprehensive statistical analyses of large datasets. • Mentored and guided a diverse team comprising 1 postdoc, 2 Ph.D. students, 3 lab techs, and 3 undergraduate volunteers, fostering an environment of collaborative learning and achieving research excellence. • Demonstrated self-directed learning by mastering Matlab programming and independently creating custom-designed analysis programs for large datasets in multiple programming languages, streamlining data interpretation processes and enhancing research efficiency. DATA SCIENCE PROJECTS NLP Analysis of Amazon Reviews + AI Recommendations - GitHub Link Natural Language Processing Analysis, Modeling, and Deployment with Actionable Insights • Designed and deployed a user-centric Streamlit dashboard, integrating live sentiment predictions and interactive analysis of trends to guide strategic decision-making. • Conducted sentiment analysis on over 5 million Amazon Grocery & Gourmet Food reviews, utilizing NLP and machine learning techniques (Logistic Regression, Tf-idf vectorization) to identify key factors affecting customer satisfaction and achieve 95%  accuracy in sentiment classification. • Employed Hugging Face transformers and Lang Chain/ChatGPT within the dashboard with a vectorized database used for summarization and insights, translating vast consumer feedback into actionable product enhancement strategies. How to Make a Successful Movie – GitHub Link Constructing and analyzing an extensive movie database with machine-learning-based insights + Tableau Dashboard • Engineered a comprehensive MySQL database integrating IMDB and data from TMDB API for data-driven insights. • Designed an interactive Tableau dashboard to communicate findings to stakeholders, enhancing decision-making processes (see GitHub link). • Applied A/B Testing to make informed recommendations on what movies are successful at the box office. How to Spot a Troll – GitHub Link Classifying Russian Troll Tweets vs Authentic Tweets • Conducted EDA on 3M tweets, identifying patterns indicative of non-authentic activity by Russian Troll Farms. • Produced alternative final models - one optimized for speed, one for accuracy. Recidivism Risk Assessment – GitHub Link Classifying which released prisoners in Iowa will return to a life of crime using Next-Gen Gradient Boosted Trees • Built a classification model to predict recidivism risk among released prisoners with over 70% accuracy (via scikit-learn and Catboost). • Researched Iowa\\'s state sentencing guidelines and sentencing enhancements to engineer new numerical features to capture the severity of the crimes committed and the duration of sentences.   EDUCATION Data Science (Full-Time)     February 2019 - August 2019 Flatiron School Doctor of Philosophy                August 2009 - May 2015 Neuroscience University of Maryland, Baltimore, MD Bachelor & Master of Science      August 2004 - December 2008         Neuroscience Tulane University, New Orleans, LA PROFESSIONAL SKILLS Programming: • Python & Object-Oriented Programming • SQL (MySQL, SQLAlchemy) • MATLAB • PyPi Package Publishing • HTML / CSS • NexScript programming • MedState Notation • Git/GitHub Data Analysis • Extract, Transform, Load (ETL)  (numpy, pandas), • AB Testing (scipy, statsmodels, GraphPad Prism, SPSS) • Machine Learning (scikit-learn, Keras, Catboost, XGBoost), • Database Administration Software: • Adobe Illustrator • Adobe Photoshop • GraphPad Prism • Microsoft Office (Word, Excel, PowerPoint) • NeuroExplorer • Plexon OfflineSorter • VS Code • Jupyter Notebook/Lab Visualization/Dashboarding • Plotly / Dash • Tableau • Streamlit Deployment • Seaborn / Matplotlib • Looker Natural Language Processing: • nltk  • spaCy • Tensorflow • Hugging Face transformers • LangChain \\n ', 'job': \"4/4/24, 2:48 PM Data Scientist - Focus School Software | Remote\\nhttps://www.simplyhired.com/job/lxgFxvpAXhH6zOMvh9G6pzooFKCORCgkfSudwEuQZAQjF7dORlMCSw?from=smart-apply 1/4Post Jobs\\nD\\x00t\\x00 Scientist\\nFocus School Softw\\x00re\\nRemote\\nJob Det\\x00ils\\nFull-time\\n$91,751.28 - $110,496.16 \\x00 ye\\x00r\\n2 d\\x00ys \\x00\\x00o\\nBeneﬁts\\nHe\\x00lth s\\x00vin\\x00s \\x00ccount Dis\\x00bility insur\\x00nce He\\x00lth insur\\x00nce\\nDent\\x00l insur\\x00nce 401(k) Flexible spendin\\x00 \\x00ccount P\\x00id time off\\nVision insur\\x00nce 401(k) m\\x00tchin\\x00 Life insur\\x00nce\\nQu\\x00liﬁc\\x00tions\\nPower BI Writin\\x00 skills D\\x00t\\x00 \\x00n\\x00lysis skills Rese\\x00rch 3 ye\\x00rs\\nSQL Re\\x00ression \\x00n\\x00lysis 2 ye\\x00rs Communic\\x00tion skills An\\x00lytics\\nFull Job Description\\nFocus is lookin\\x00 for ener\\x00etic, cre\\x00tive, \\x00nd experienced c\\x00ndid\\x00tes who c\\x00n help us\\nsucceed in our mission to serve \\x00n incre\\x00sin\\x00 number of districts \\x00cross the n\\x00tion. We\\nkeep our clients’ needs \\x00t the forefront of everythin\\x00 we do. As \\x00 comp\\x00ny who\\nunderst\\x00nds the h\\x00rd work of tod\\x00y’s educ\\x00tors, Focus looks for employees who sh\\x00re our\\nv\\x00lues tow\\x00rds educ\\x00tion.\\nFocus School Softw\\x00re is lookin\\x00 to exp\\x00nd our te\\x00m by hirin\\x00 \\x00 PowerBI Developer / D\\x00t\\x00\\nScientist to work with our te\\x00m. This person will help support our An\\x00lytics product which\\nincludes dozens of d\\x00shbo\\x00rds \\x00n\\x00lyzin\\x00 student d\\x00t\\x00 to help educ\\x00tors t\\x00r\\x00etJI\\nQuick Apply4/4/24, 2:48 PM Data Scientist - Focus School Software | Remote\\nhttps://www.simplyhired.com/job/lxgFxvpAXhH6zOMvh9G6pzooFKCORCgkfSudwEuQZAQjF7dORlMCSw?from=smart-apply 2/4interventions \\x00nd improve their educ\\x00tion\\x00l processes. This position m\\x00y be occ\\x00sion\\x00lly\\ncustomer f\\x00cin\\x00, providin\\x00 tr\\x00inin\\x00 \\x00nd profession\\x00l \\x00rowth opportunities. The best\\nc\\x00ndid\\x00te will displ\\x00y le\\x00dership c\\x00p\\x00bilities to help drive d\\x00t\\x00-decision m\\x00kin\\x00\\nprocesses within Focus \\x00nd our customers.\\nMinimum Qu\\x00liﬁc\\x00tions:\\n2+ ye\\x00rs' experience \\x00s \\x00 PowerBI developer, d\\x00t\\x00 scientist, d\\x00t\\x00 \\x00n\\x00lyst or d\\x00t\\x00\\nen\\x00ineer\\nExperience with PowerBi An\\x00lytics, cre\\x00tin\\x00 d\\x00shbo\\x00rds, D\\x00t\\x00 An\\x00lysis Expressions\\n(DAX)\\nStron\\x00 SQL skills\\nStron\\x00 writin\\x00 \\x00nd communic\\x00tion skills\\nExperience with st\\x00tistic\\x00l rese\\x00rch \\x00nd \\x00n\\x00lytics techniques (i.e. cl\\x00ssiﬁc\\x00tion,\\nclusterin\\x00, re\\x00ression, se\\x00ment\\x00tion, etc.)\\nNice to h\\x00ve:\\nA p\\x00ssion \\x00nd interest in the development of Educ\\x00tion\\x00l softw\\x00re\\nKnowled\\x00e of school district processes \\x00nd function\\x00lity is helpful\\nJob Responsibilities include:\\nUndert\\x00ke preprocessin\\x00 of structured \\x00nd unstructured d\\x00t\\x00\\nAn\\x00lyze l\\x00r\\x00e \\x00mounts of d\\x00t\\x00/inform\\x00tion to discover \\x00nd \\x00rticul\\x00te trends \\x00nd\\np\\x00tterns\\nCollectin\\x00 d\\x00t\\x00 throu\\x00h me\\x00ns such \\x00s \\x00n\\x00lyzin\\x00 business results or by settin\\x00 up\\n\\x00nd m\\x00n\\x00\\x00in\\x00 new studies\\nTr\\x00nsferrin\\x00 d\\x00t\\x00 into \\x00 new form\\x00t to m\\x00ke it more \\x00ppropri\\x00te for \\x00n\\x00lysis\\nSe\\x00rchin\\x00 throu\\x00h l\\x00r\\x00e d\\x00t\\x00 sets for us\\x00ble inform\\x00tion\\nSolve l\\x00r\\x00e, complex problems to \\x00chieve interrel\\x00ted \\x00nd interdependent objectives\\nCre\\x00tin\\x00 reports \\x00nd present\\x00tions for business uses\\nCorrel\\x00tin\\x00 simil\\x00r d\\x00t\\x00 to ﬁnd \\x00ction\\x00ble results\\nFocus School Softw\\x00re’s compens\\x00tion p\\x00ck\\x00\\x00e offers the followin\\x00 beneﬁts:\\nMedic\\x00l Insur\\x00nce\\nDent\\x00l/Vision Insur\\x00nce\\nLife Insur\\x00nce\\nShort \\x00nd Lon\\x00 Term Dis\\x00bility Insur\\x00nce\\n401(k) \\x00fter 6 months\\nP\\x00id Holid\\x00ys\\nP\\x00id V\\x00c\\x00tion \\x00nd Sick Time4/4/24, 2:48 PM Data Scientist - Focus School Software | Remote\\nhttps://www.simplyhired.com/job/lxgFxvpAXhH6zOMvh9G6pzooFKCORCgkfSudwEuQZAQjF7dORlMCSw?from=smart-apply 3/4Remote Position\\nJob Type: Full-time\\nP\\x00y: $91,751.28 - $110,496.16 per ye\\x00r\\nBeneﬁts:\\n401(k)\\n401(k) m\\x00tchin\\x00\\nDent\\x00l insur\\x00nce\\nFlexible spendin\\x00 \\x00ccount\\nHe\\x00lth insur\\x00nce\\nHe\\x00lth s\\x00vin\\x00s \\x00ccount\\nLife insur\\x00nce\\nP\\x00id time off\\nVision insur\\x00nce\\nExperience level:\\n3 ye\\x00rs\\nSchedule:\\nMond\\x00y to Frid\\x00y\\nWork Loc\\x00tion: Remote\\nResources \\x00nd Tools\\nCountryT\\x00ke your job se\\x00rch wherever you \\x00o.Quick Apply\\nUnited St\\x00tes4/4/24, 2:48 PM Data Scientist - Focus School Software | Remote\\nhttps://www.simplyhired.com/job/lxgFxvpAXhH6zOMvh9G6pzooFKCORCgkfSudwEuQZAQjF7dORlMCSw?from=smart-apply 4/4© 2024 SH Inc.Priv\\x00cy\\xa0|\\xa0Terms\\xa0|\\xa0Cookies\\xa0|\\xa0Priv\\x00cy Center\\xa0|\\xa0Accessibility\\xa0|\\xa0Your Priv\\x00cy Choices\"}, messages=[HumanMessagePromptTemplate(prompt=PromptTemplate(input_variables=['history', 'input', 'job', 'resume', 'sector'], template=\" You are a a specialized career coach for the {sector}, focused on delivering tailored, concise job application advice and practice.  You are proficient in resume analysis, cover letter guidance, and interview preparation, adapting to each user's unique requirements.  You maintain a professional, friendly tone, and encouraging tone, ensuring advice is efficient, clear, and easily understandable,  with the goal of aiding their career progression. Ask the user for their resume and job listing if not provided and they are needed to asnwer .\\nUse the following context, if provided, to help answer the questions:\\n\\nHere is my resume:\\n-------------\\n {resume}\\n\\n Here is the job listing:\\n-------------\\n{job}\\n\\n \\n        Current conversation:\\n        {history}\\n        Human: {input}\\n        AI:\"))])"
      ]
     },
     "execution_count": 25,
     "metadata": {},
     "output_type": "execute_result"
    }
   ],
   "source": [
    "# Filling in partial prompt\n",
    "sector = \"data science and analytics\"\n",
    "resume = read_pdf('data/James Irving Resume 2024.pdf')\n",
    "job = read_pdf('data/Data Scientist - Focus School Software _ Remote.pdf')\n",
    "\n",
    "final_prompt = prompt.partial(sector=sector, resume=resume, job=job)\n",
    "final_prompt"
   ]
  },
  {
   "cell_type": "code",
   "execution_count": 26,
   "metadata": {},
   "outputs": [
    {
     "data": {
      "text/plain": [
       "ConversationChain(memory=ConversationBufferWindowMemory(), prompt=ChatPromptTemplate(input_variables=['history', 'input'], partial_variables={'sector': 'data science and analytics', 'resume': 'JAMES M. IRVING, PH.D. 8222 Spadderdock Way, Laurel, MD, 20724 | (518) 322-6750 | james.irving.phd@gmail.com |  LINKEDIN: james-irving-phd | GITHUB: https://github.com/jirvingphd  SUMMARY Innovative and enterprising data scientist. Experienced in applying advanced data science techniques to real-world problems, including statistical modeling, machine learning, and data visualization. Skilled at extracting valuable insights from complex datasets and supporting data-driven decision-making. Adept Python programmer with the demonstrated ability to rapidly master and apply new technologies. A highly analytical professional committed to continuous learning and leveraging the value of data to innovate and transform. Former neuroscience researcher with a solid foundation in science, experimental design, and cognitive neuroscience. COMPETENCIES • Data Analysis • Statistical Modeling • Machine Learning • Data Visualization • Experimental Design • Quantitative Research Methods • Time Series Analysis • Signal Processing • Cognitive Neuroscience • Behavioral Analysis • Database Management • Pattern Recognition • Python Programming • Deep Learning • Natural Language Processing • AI/LLM Model Implementation • Adaptive Communication Style • Problem Solving & Critical Thinking EXPERIENCE Coding Dojo | Remote Curriculum Writer - Data Science | Mar 2023 - Jan 2024 • Authored and delivered three advanced data science courses covering Time Series Modeling, NLP, and Model Deployment to facilitate skill acquisition for over 100 learners. • Enhanced and extended the curriculum of a 16-week boot camp to a 24-week program, resulting in a 50% increase in instructional depth and engagement. • Developed and implemented Monday.com boards, including public forms and executive-facing Gantt charts, to automate internal workflows and streamline curriculum management, resolving over 100 issues. • Integrated APIs, Web scraping, and Computer Vision (CNNs) into course content, fostering practical skill development and aligning with industry demands in data science and machine learning. Data Science Instructor | November 2021 - March 2023 • Achieved outstanding Net Promoter Scores (NPS) exceeding 90% through the delivery of engaging live lectures, demonstrating effective communication and pedagogical skills. • Implemented automated tools for administrative tasks, reducing student onboarding time from 5 hours to a mere 2 minutes, optimizing operational efficiency. • Authored and delivered a highly acclaimed 4-week course with a perfect NPS rating, showcasing expertise in curriculum development and instructional delivery. • Designed and presented over 16 interactive live lectures and code-along projects, significantly enhancing student participation and fostering a dynamic learning environment. Flatiron School | Remote Data Science Instructor | Oct 2019 - Oct 2021 • Mentored and supervised 60+ students to successfully transition into data science, achieving a high post-program employment rate. • Led and conducted 90-minute study groups weekly, accumulating over 270 hours of recorded lessons, enhancing student comprehension and engagement. • Spearheaded the development and implementation of the \"Flex\" boot camp program, refining instructional design and delivery methods to meet diverse learning needs. • Established three student-progress-tracking Looker dashboards, providing real-time insights into student performance and facilitating timely intervention strategies. • Implemented data-driven approaches to enhance program efficacy, resulting in improved student outcomes and program satisfaction. University of Maryland, School of Medicine | Baltimore, MD  Laboratory Manager | Jul 2017 - Aug 2018 • Ensured full compliance with regulatory standards as the lab\\'s public representative, achieving a flawless record with all 4 inspections passing without demerits. • Negotiated and finalized a technical hardware contract worth approximately $100,000 with vendors, optimizing procurement processes and ensuring cost-effectiveness. • Managed and administered over 20 TBs of both cloud and local data storage systems, ensuring data accessibility, security, and efficient retrieval. • Successfully overhauled mouse colony management procedures, resulting in a remarkable 60% reduction in housing costs, from approximately $3.8k/month to $1.5k/month, through strategic resource allocation and process optimization. Postdoctoral Research Fellow | June 2015 - July 2017 • Spearheaded neuroscience research endeavors, employing cutting-edge techniques such as in vivo optogenetics and electrophysiology recordings, resulting in groundbreaking insights into neural functioning in awake and behaving mice. • Developed approximately 30 custom analysis scripts in languages including Matlab, NexScript, MedPC, and Arduino, enhancing data processing capabilities and facilitating comprehensive statistical analyses of large datasets. • Mentored and guided a diverse team comprising 1 postdoc, 2 Ph.D. students, 3 lab techs, and 3 undergraduate volunteers, fostering an environment of collaborative learning and achieving research excellence. • Demonstrated self-directed learning by mastering Matlab programming and independently creating custom-designed analysis programs for large datasets in multiple programming languages, streamlining data interpretation processes and enhancing research efficiency. DATA SCIENCE PROJECTS NLP Analysis of Amazon Reviews + AI Recommendations - GitHub Link Natural Language Processing Analysis, Modeling, and Deployment with Actionable Insights • Designed and deployed a user-centric Streamlit dashboard, integrating live sentiment predictions and interactive analysis of trends to guide strategic decision-making. • Conducted sentiment analysis on over 5 million Amazon Grocery & Gourmet Food reviews, utilizing NLP and machine learning techniques (Logistic Regression, Tf-idf vectorization) to identify key factors affecting customer satisfaction and achieve 95%  accuracy in sentiment classification. • Employed Hugging Face transformers and Lang Chain/ChatGPT within the dashboard with a vectorized database used for summarization and insights, translating vast consumer feedback into actionable product enhancement strategies. How to Make a Successful Movie – GitHub Link Constructing and analyzing an extensive movie database with machine-learning-based insights + Tableau Dashboard • Engineered a comprehensive MySQL database integrating IMDB and data from TMDB API for data-driven insights. • Designed an interactive Tableau dashboard to communicate findings to stakeholders, enhancing decision-making processes (see GitHub link). • Applied A/B Testing to make informed recommendations on what movies are successful at the box office. How to Spot a Troll – GitHub Link Classifying Russian Troll Tweets vs Authentic Tweets • Conducted EDA on 3M tweets, identifying patterns indicative of non-authentic activity by Russian Troll Farms. • Produced alternative final models - one optimized for speed, one for accuracy. Recidivism Risk Assessment – GitHub Link Classifying which released prisoners in Iowa will return to a life of crime using Next-Gen Gradient Boosted Trees • Built a classification model to predict recidivism risk among released prisoners with over 70% accuracy (via scikit-learn and Catboost). • Researched Iowa\\'s state sentencing guidelines and sentencing enhancements to engineer new numerical features to capture the severity of the crimes committed and the duration of sentences.   EDUCATION Data Science (Full-Time)     February 2019 - August 2019 Flatiron School Doctor of Philosophy                August 2009 - May 2015 Neuroscience University of Maryland, Baltimore, MD Bachelor & Master of Science      August 2004 - December 2008         Neuroscience Tulane University, New Orleans, LA PROFESSIONAL SKILLS Programming: • Python & Object-Oriented Programming • SQL (MySQL, SQLAlchemy) • MATLAB • PyPi Package Publishing • HTML / CSS • NexScript programming • MedState Notation • Git/GitHub Data Analysis • Extract, Transform, Load (ETL)  (numpy, pandas), • AB Testing (scipy, statsmodels, GraphPad Prism, SPSS) • Machine Learning (scikit-learn, Keras, Catboost, XGBoost), • Database Administration Software: • Adobe Illustrator • Adobe Photoshop • GraphPad Prism • Microsoft Office (Word, Excel, PowerPoint) • NeuroExplorer • Plexon OfflineSorter • VS Code • Jupyter Notebook/Lab Visualization/Dashboarding • Plotly / Dash • Tableau • Streamlit Deployment • Seaborn / Matplotlib • Looker Natural Language Processing: • nltk  • spaCy • Tensorflow • Hugging Face transformers • LangChain \\n ', 'job': \"4/4/24, 2:48 PM Data Scientist - Focus School Software | Remote\\nhttps://www.simplyhired.com/job/lxgFxvpAXhH6zOMvh9G6pzooFKCORCgkfSudwEuQZAQjF7dORlMCSw?from=smart-apply 1/4Post Jobs\\nD\\x00t\\x00 Scientist\\nFocus School Softw\\x00re\\nRemote\\nJob Det\\x00ils\\nFull-time\\n$91,751.28 - $110,496.16 \\x00 ye\\x00r\\n2 d\\x00ys \\x00\\x00o\\nBeneﬁts\\nHe\\x00lth s\\x00vin\\x00s \\x00ccount Dis\\x00bility insur\\x00nce He\\x00lth insur\\x00nce\\nDent\\x00l insur\\x00nce 401(k) Flexible spendin\\x00 \\x00ccount P\\x00id time off\\nVision insur\\x00nce 401(k) m\\x00tchin\\x00 Life insur\\x00nce\\nQu\\x00liﬁc\\x00tions\\nPower BI Writin\\x00 skills D\\x00t\\x00 \\x00n\\x00lysis skills Rese\\x00rch 3 ye\\x00rs\\nSQL Re\\x00ression \\x00n\\x00lysis 2 ye\\x00rs Communic\\x00tion skills An\\x00lytics\\nFull Job Description\\nFocus is lookin\\x00 for ener\\x00etic, cre\\x00tive, \\x00nd experienced c\\x00ndid\\x00tes who c\\x00n help us\\nsucceed in our mission to serve \\x00n incre\\x00sin\\x00 number of districts \\x00cross the n\\x00tion. We\\nkeep our clients’ needs \\x00t the forefront of everythin\\x00 we do. As \\x00 comp\\x00ny who\\nunderst\\x00nds the h\\x00rd work of tod\\x00y’s educ\\x00tors, Focus looks for employees who sh\\x00re our\\nv\\x00lues tow\\x00rds educ\\x00tion.\\nFocus School Softw\\x00re is lookin\\x00 to exp\\x00nd our te\\x00m by hirin\\x00 \\x00 PowerBI Developer / D\\x00t\\x00\\nScientist to work with our te\\x00m. This person will help support our An\\x00lytics product which\\nincludes dozens of d\\x00shbo\\x00rds \\x00n\\x00lyzin\\x00 student d\\x00t\\x00 to help educ\\x00tors t\\x00r\\x00etJI\\nQuick Apply4/4/24, 2:48 PM Data Scientist - Focus School Software | Remote\\nhttps://www.simplyhired.com/job/lxgFxvpAXhH6zOMvh9G6pzooFKCORCgkfSudwEuQZAQjF7dORlMCSw?from=smart-apply 2/4interventions \\x00nd improve their educ\\x00tion\\x00l processes. This position m\\x00y be occ\\x00sion\\x00lly\\ncustomer f\\x00cin\\x00, providin\\x00 tr\\x00inin\\x00 \\x00nd profession\\x00l \\x00rowth opportunities. The best\\nc\\x00ndid\\x00te will displ\\x00y le\\x00dership c\\x00p\\x00bilities to help drive d\\x00t\\x00-decision m\\x00kin\\x00\\nprocesses within Focus \\x00nd our customers.\\nMinimum Qu\\x00liﬁc\\x00tions:\\n2+ ye\\x00rs' experience \\x00s \\x00 PowerBI developer, d\\x00t\\x00 scientist, d\\x00t\\x00 \\x00n\\x00lyst or d\\x00t\\x00\\nen\\x00ineer\\nExperience with PowerBi An\\x00lytics, cre\\x00tin\\x00 d\\x00shbo\\x00rds, D\\x00t\\x00 An\\x00lysis Expressions\\n(DAX)\\nStron\\x00 SQL skills\\nStron\\x00 writin\\x00 \\x00nd communic\\x00tion skills\\nExperience with st\\x00tistic\\x00l rese\\x00rch \\x00nd \\x00n\\x00lytics techniques (i.e. cl\\x00ssiﬁc\\x00tion,\\nclusterin\\x00, re\\x00ression, se\\x00ment\\x00tion, etc.)\\nNice to h\\x00ve:\\nA p\\x00ssion \\x00nd interest in the development of Educ\\x00tion\\x00l softw\\x00re\\nKnowled\\x00e of school district processes \\x00nd function\\x00lity is helpful\\nJob Responsibilities include:\\nUndert\\x00ke preprocessin\\x00 of structured \\x00nd unstructured d\\x00t\\x00\\nAn\\x00lyze l\\x00r\\x00e \\x00mounts of d\\x00t\\x00/inform\\x00tion to discover \\x00nd \\x00rticul\\x00te trends \\x00nd\\np\\x00tterns\\nCollectin\\x00 d\\x00t\\x00 throu\\x00h me\\x00ns such \\x00s \\x00n\\x00lyzin\\x00 business results or by settin\\x00 up\\n\\x00nd m\\x00n\\x00\\x00in\\x00 new studies\\nTr\\x00nsferrin\\x00 d\\x00t\\x00 into \\x00 new form\\x00t to m\\x00ke it more \\x00ppropri\\x00te for \\x00n\\x00lysis\\nSe\\x00rchin\\x00 throu\\x00h l\\x00r\\x00e d\\x00t\\x00 sets for us\\x00ble inform\\x00tion\\nSolve l\\x00r\\x00e, complex problems to \\x00chieve interrel\\x00ted \\x00nd interdependent objectives\\nCre\\x00tin\\x00 reports \\x00nd present\\x00tions for business uses\\nCorrel\\x00tin\\x00 simil\\x00r d\\x00t\\x00 to ﬁnd \\x00ction\\x00ble results\\nFocus School Softw\\x00re’s compens\\x00tion p\\x00ck\\x00\\x00e offers the followin\\x00 beneﬁts:\\nMedic\\x00l Insur\\x00nce\\nDent\\x00l/Vision Insur\\x00nce\\nLife Insur\\x00nce\\nShort \\x00nd Lon\\x00 Term Dis\\x00bility Insur\\x00nce\\n401(k) \\x00fter 6 months\\nP\\x00id Holid\\x00ys\\nP\\x00id V\\x00c\\x00tion \\x00nd Sick Time4/4/24, 2:48 PM Data Scientist - Focus School Software | Remote\\nhttps://www.simplyhired.com/job/lxgFxvpAXhH6zOMvh9G6pzooFKCORCgkfSudwEuQZAQjF7dORlMCSw?from=smart-apply 3/4Remote Position\\nJob Type: Full-time\\nP\\x00y: $91,751.28 - $110,496.16 per ye\\x00r\\nBeneﬁts:\\n401(k)\\n401(k) m\\x00tchin\\x00\\nDent\\x00l insur\\x00nce\\nFlexible spendin\\x00 \\x00ccount\\nHe\\x00lth insur\\x00nce\\nHe\\x00lth s\\x00vin\\x00s \\x00ccount\\nLife insur\\x00nce\\nP\\x00id time off\\nVision insur\\x00nce\\nExperience level:\\n3 ye\\x00rs\\nSchedule:\\nMond\\x00y to Frid\\x00y\\nWork Loc\\x00tion: Remote\\nResources \\x00nd Tools\\nCountryT\\x00ke your job se\\x00rch wherever you \\x00o.Quick Apply\\nUnited St\\x00tes4/4/24, 2:48 PM Data Scientist - Focus School Software | Remote\\nhttps://www.simplyhired.com/job/lxgFxvpAXhH6zOMvh9G6pzooFKCORCgkfSudwEuQZAQjF7dORlMCSw?from=smart-apply 4/4© 2024 SH Inc.Priv\\x00cy\\xa0|\\xa0Terms\\xa0|\\xa0Cookies\\xa0|\\xa0Priv\\x00cy Center\\xa0|\\xa0Accessibility\\xa0|\\xa0Your Priv\\x00cy Choices\"}, messages=[HumanMessagePromptTemplate(prompt=PromptTemplate(input_variables=['history', 'input', 'job', 'resume', 'sector'], template=\" You are a a specialized career coach for the {sector}, focused on delivering tailored, concise job application advice and practice.  You are proficient in resume analysis, cover letter guidance, and interview preparation, adapting to each user's unique requirements.  You maintain a professional, friendly tone, and encouraging tone, ensuring advice is efficient, clear, and easily understandable,  with the goal of aiding their career progression. Ask the user for their resume and job listing if not provided and they are needed to asnwer .\\nUse the following context, if provided, to help answer the questions:\\n\\nHere is my resume:\\n-------------\\n {resume}\\n\\n Here is the job listing:\\n-------------\\n{job}\\n\\n \\n        Current conversation:\\n        {history}\\n        Human: {input}\\n        AI:\"))]), llm=ChatOpenAI(client=<openai.resources.chat.completions.Completions object at 0x11b0d1f30>, async_client=<openai.resources.chat.completions.AsyncCompletions object at 0x11b0d3fd0>, model_name='gpt-3.5-turbo-0125', temperature=0.1, openai_api_key=SecretStr('**********'), openai_proxy=''))"
      ]
     },
     "execution_count": 26,
     "metadata": {},
     "output_type": "execute_result"
    }
   ],
   "source": [
    "model_type =  \"gpt-3.5-turbo-0125\"\n",
    "\n",
    "\n",
    "llm = ChatOpenAI(temperature=.1, model=model_type)\n",
    "llm_chain = ConversationChain(prompt=final_prompt, llm=llm, \n",
    "                              memory=ConversationBufferWindowMemory(memory_key='history',\n",
    "                                                                    # return_messages=True\n",
    "                                                                    ),\n",
    "                                verbose=False, output_key=\"response\")#,callbacks=[get_openai_callback()])\n",
    "llm_chain"
   ]
  },
  {
   "cell_type": "code",
   "execution_count": 27,
   "metadata": {},
   "outputs": [],
   "source": [
    "\n",
    "\n",
    "def get_llm(model_type=\"gpt-3.5-turbo-0125\", temperature=0.1,\n",
    "            system_prompt_template_func= get_system_prompt_str,#verbose=False,\n",
    "             verbose=False, sector=\"data science and analytics\", resume='', job=''):\n",
    "    \"\"\"Version 2.0\"\"\"\n",
    "    ## get prompt string\n",
    "    system_prompt = system_prompt_template_func()\n",
    "    final_promp_str = system_prompt + \"\"\"\n",
    "        Current conversation:\n",
    "        {history}\n",
    "        Human: {input}\n",
    "        AI:\"\"\"\n",
    "        \n",
    "    final_prompt_template = ChatPromptTemplate.from_template(final_promp_str)\n",
    "    final_prompt_template = final_prompt_template.partial(sector=sector, resume=resume, job=job)\n",
    "        \n",
    "    llm = ChatOpenAI(temperature=temperature, model=model_type)\n",
    "    \n",
    "    llm_chain = ConversationChain(prompt=final_prompt_template, \n",
    "                                  llm=llm, \n",
    "                                  memory=ConversationBufferWindowMemory(memory_key='history',\n",
    "                                                                        human_prefix=\"Human\",\n",
    "                                                                        ai_prefix=\"AI\",\n",
    "                                                                        k=3),\n",
    "                                  verbose=verbose, \n",
    "                                #   input_key=\"input\",\n",
    "                                  output_key=\"response\")#,#callbacks=callbacks)\n",
    "    \n",
    "    return llm_chain\n"
   ]
  },
  {
   "cell_type": "code",
   "execution_count": 28,
   "metadata": {},
   "outputs": [
    {
     "data": {
      "text/plain": [
       "ConversationChain(memory=ConversationBufferWindowMemory(k=3), prompt=ChatPromptTemplate(input_variables=['history', 'input'], partial_variables={'sector': 'data science and analytics', 'resume': '', 'job': ''}, messages=[HumanMessagePromptTemplate(prompt=PromptTemplate(input_variables=['history', 'input', 'job', 'resume', 'sector'], template=\" You are a a specialized career coach for the {sector}, focused on delivering tailored, concise job application advice and practice.  You are proficient in resume analysis, cover letter guidance, and interview preparation, adapting to each user's unique requirements.  You maintain a professional, friendly tone, and encouraging tone, ensuring advice is efficient, clear, and easily understandable,  with the goal of aiding their career progression. Ask the user for their resume and job listing if not provided and they are needed to asnwer .\\nUse the following context, if provided, to help answer the questions:\\n\\nHere is my resume:\\n-------------\\n {resume}\\n\\n Here is the job listing:\\n-------------\\n{job}\\n\\n \\n        Current conversation:\\n        {history}\\n        Human: {input}\\n        AI:\"))]), llm=ChatOpenAI(client=<openai.resources.chat.completions.Completions object at 0x11c778dc0>, async_client=<openai.resources.chat.completions.AsyncCompletions object at 0x11af71510>, model_name='gpt-3.5-turbo-0125', temperature=0.1, openai_api_key=SecretStr('**********'), openai_proxy=''))"
      ]
     },
     "execution_count": 28,
     "metadata": {},
     "output_type": "execute_result"
    }
   ],
   "source": [
    "llm_chain_no_ctxt = get_llm()\n",
    "llm_chain_no_ctxt\n"
   ]
  },
  {
   "cell_type": "code",
   "execution_count": 29,
   "metadata": {},
   "outputs": [
    {
     "data": {
      "text/plain": [
       "ConversationChain(memory=ConversationBufferWindowMemory(k=3), prompt=ChatPromptTemplate(input_variables=['history', 'input'], partial_variables={'sector': 'data science and analytics', 'resume': 'JAMES M. IRVING, PH.D. 8222 Spadderdock Way, Laurel, MD, 20724 | (518) 322-6750 | james.irving.phd@gmail.com |  LINKEDIN: james-irving-phd | GITHUB: https://github.com/jirvingphd  SUMMARY Innovative and enterprising data scientist. Experienced in applying advanced data science techniques to real-world problems, including statistical modeling, machine learning, and data visualization. Skilled at extracting valuable insights from complex datasets and supporting data-driven decision-making. Adept Python programmer with the demonstrated ability to rapidly master and apply new technologies. A highly analytical professional committed to continuous learning and leveraging the value of data to innovate and transform. Former neuroscience researcher with a solid foundation in science, experimental design, and cognitive neuroscience. COMPETENCIES • Data Analysis • Statistical Modeling • Machine Learning • Data Visualization • Experimental Design • Quantitative Research Methods • Time Series Analysis • Signal Processing • Cognitive Neuroscience • Behavioral Analysis • Database Management • Pattern Recognition • Python Programming • Deep Learning • Natural Language Processing • AI/LLM Model Implementation • Adaptive Communication Style • Problem Solving & Critical Thinking EXPERIENCE Coding Dojo | Remote Curriculum Writer - Data Science | Mar 2023 - Jan 2024 • Authored and delivered three advanced data science courses covering Time Series Modeling, NLP, and Model Deployment to facilitate skill acquisition for over 100 learners. • Enhanced and extended the curriculum of a 16-week boot camp to a 24-week program, resulting in a 50% increase in instructional depth and engagement. • Developed and implemented Monday.com boards, including public forms and executive-facing Gantt charts, to automate internal workflows and streamline curriculum management, resolving over 100 issues. • Integrated APIs, Web scraping, and Computer Vision (CNNs) into course content, fostering practical skill development and aligning with industry demands in data science and machine learning. Data Science Instructor | November 2021 - March 2023 • Achieved outstanding Net Promoter Scores (NPS) exceeding 90% through the delivery of engaging live lectures, demonstrating effective communication and pedagogical skills. • Implemented automated tools for administrative tasks, reducing student onboarding time from 5 hours to a mere 2 minutes, optimizing operational efficiency. • Authored and delivered a highly acclaimed 4-week course with a perfect NPS rating, showcasing expertise in curriculum development and instructional delivery. • Designed and presented over 16 interactive live lectures and code-along projects, significantly enhancing student participation and fostering a dynamic learning environment. Flatiron School | Remote Data Science Instructor | Oct 2019 - Oct 2021 • Mentored and supervised 60+ students to successfully transition into data science, achieving a high post-program employment rate. • Led and conducted 90-minute study groups weekly, accumulating over 270 hours of recorded lessons, enhancing student comprehension and engagement. • Spearheaded the development and implementation of the \"Flex\" boot camp program, refining instructional design and delivery methods to meet diverse learning needs. • Established three student-progress-tracking Looker dashboards, providing real-time insights into student performance and facilitating timely intervention strategies. • Implemented data-driven approaches to enhance program efficacy, resulting in improved student outcomes and program satisfaction. University of Maryland, School of Medicine | Baltimore, MD  Laboratory Manager | Jul 2017 - Aug 2018 • Ensured full compliance with regulatory standards as the lab\\'s public representative, achieving a flawless record with all 4 inspections passing without demerits. • Negotiated and finalized a technical hardware contract worth approximately $100,000 with vendors, optimizing procurement processes and ensuring cost-effectiveness. • Managed and administered over 20 TBs of both cloud and local data storage systems, ensuring data accessibility, security, and efficient retrieval. • Successfully overhauled mouse colony management procedures, resulting in a remarkable 60% reduction in housing costs, from approximately $3.8k/month to $1.5k/month, through strategic resource allocation and process optimization. Postdoctoral Research Fellow | June 2015 - July 2017 • Spearheaded neuroscience research endeavors, employing cutting-edge techniques such as in vivo optogenetics and electrophysiology recordings, resulting in groundbreaking insights into neural functioning in awake and behaving mice. • Developed approximately 30 custom analysis scripts in languages including Matlab, NexScript, MedPC, and Arduino, enhancing data processing capabilities and facilitating comprehensive statistical analyses of large datasets. • Mentored and guided a diverse team comprising 1 postdoc, 2 Ph.D. students, 3 lab techs, and 3 undergraduate volunteers, fostering an environment of collaborative learning and achieving research excellence. • Demonstrated self-directed learning by mastering Matlab programming and independently creating custom-designed analysis programs for large datasets in multiple programming languages, streamlining data interpretation processes and enhancing research efficiency. DATA SCIENCE PROJECTS NLP Analysis of Amazon Reviews + AI Recommendations - GitHub Link Natural Language Processing Analysis, Modeling, and Deployment with Actionable Insights • Designed and deployed a user-centric Streamlit dashboard, integrating live sentiment predictions and interactive analysis of trends to guide strategic decision-making. • Conducted sentiment analysis on over 5 million Amazon Grocery & Gourmet Food reviews, utilizing NLP and machine learning techniques (Logistic Regression, Tf-idf vectorization) to identify key factors affecting customer satisfaction and achieve 95%  accuracy in sentiment classification. • Employed Hugging Face transformers and Lang Chain/ChatGPT within the dashboard with a vectorized database used for summarization and insights, translating vast consumer feedback into actionable product enhancement strategies. How to Make a Successful Movie – GitHub Link Constructing and analyzing an extensive movie database with machine-learning-based insights + Tableau Dashboard • Engineered a comprehensive MySQL database integrating IMDB and data from TMDB API for data-driven insights. • Designed an interactive Tableau dashboard to communicate findings to stakeholders, enhancing decision-making processes (see GitHub link). • Applied A/B Testing to make informed recommendations on what movies are successful at the box office. How to Spot a Troll – GitHub Link Classifying Russian Troll Tweets vs Authentic Tweets • Conducted EDA on 3M tweets, identifying patterns indicative of non-authentic activity by Russian Troll Farms. • Produced alternative final models - one optimized for speed, one for accuracy. Recidivism Risk Assessment – GitHub Link Classifying which released prisoners in Iowa will return to a life of crime using Next-Gen Gradient Boosted Trees • Built a classification model to predict recidivism risk among released prisoners with over 70% accuracy (via scikit-learn and Catboost). • Researched Iowa\\'s state sentencing guidelines and sentencing enhancements to engineer new numerical features to capture the severity of the crimes committed and the duration of sentences.   EDUCATION Data Science (Full-Time)     February 2019 - August 2019 Flatiron School Doctor of Philosophy                August 2009 - May 2015 Neuroscience University of Maryland, Baltimore, MD Bachelor & Master of Science      August 2004 - December 2008         Neuroscience Tulane University, New Orleans, LA PROFESSIONAL SKILLS Programming: • Python & Object-Oriented Programming • SQL (MySQL, SQLAlchemy) • MATLAB • PyPi Package Publishing • HTML / CSS • NexScript programming • MedState Notation • Git/GitHub Data Analysis • Extract, Transform, Load (ETL)  (numpy, pandas), • AB Testing (scipy, statsmodels, GraphPad Prism, SPSS) • Machine Learning (scikit-learn, Keras, Catboost, XGBoost), • Database Administration Software: • Adobe Illustrator • Adobe Photoshop • GraphPad Prism • Microsoft Office (Word, Excel, PowerPoint) • NeuroExplorer • Plexon OfflineSorter • VS Code • Jupyter Notebook/Lab Visualization/Dashboarding • Plotly / Dash • Tableau • Streamlit Deployment • Seaborn / Matplotlib • Looker Natural Language Processing: • nltk  • spaCy • Tensorflow • Hugging Face transformers • LangChain \\n ', 'job': \"4/4/24, 2:48 PM Data Scientist - Focus School Software | Remote\\nhttps://www.simplyhired.com/job/lxgFxvpAXhH6zOMvh9G6pzooFKCORCgkfSudwEuQZAQjF7dORlMCSw?from=smart-apply 1/4Post Jobs\\nD\\x00t\\x00 Scientist\\nFocus School Softw\\x00re\\nRemote\\nJob Det\\x00ils\\nFull-time\\n$91,751.28 - $110,496.16 \\x00 ye\\x00r\\n2 d\\x00ys \\x00\\x00o\\nBeneﬁts\\nHe\\x00lth s\\x00vin\\x00s \\x00ccount Dis\\x00bility insur\\x00nce He\\x00lth insur\\x00nce\\nDent\\x00l insur\\x00nce 401(k) Flexible spendin\\x00 \\x00ccount P\\x00id time off\\nVision insur\\x00nce 401(k) m\\x00tchin\\x00 Life insur\\x00nce\\nQu\\x00liﬁc\\x00tions\\nPower BI Writin\\x00 skills D\\x00t\\x00 \\x00n\\x00lysis skills Rese\\x00rch 3 ye\\x00rs\\nSQL Re\\x00ression \\x00n\\x00lysis 2 ye\\x00rs Communic\\x00tion skills An\\x00lytics\\nFull Job Description\\nFocus is lookin\\x00 for ener\\x00etic, cre\\x00tive, \\x00nd experienced c\\x00ndid\\x00tes who c\\x00n help us\\nsucceed in our mission to serve \\x00n incre\\x00sin\\x00 number of districts \\x00cross the n\\x00tion. We\\nkeep our clients’ needs \\x00t the forefront of everythin\\x00 we do. As \\x00 comp\\x00ny who\\nunderst\\x00nds the h\\x00rd work of tod\\x00y’s educ\\x00tors, Focus looks for employees who sh\\x00re our\\nv\\x00lues tow\\x00rds educ\\x00tion.\\nFocus School Softw\\x00re is lookin\\x00 to exp\\x00nd our te\\x00m by hirin\\x00 \\x00 PowerBI Developer / D\\x00t\\x00\\nScientist to work with our te\\x00m. This person will help support our An\\x00lytics product which\\nincludes dozens of d\\x00shbo\\x00rds \\x00n\\x00lyzin\\x00 student d\\x00t\\x00 to help educ\\x00tors t\\x00r\\x00etJI\\nQuick Apply4/4/24, 2:48 PM Data Scientist - Focus School Software | Remote\\nhttps://www.simplyhired.com/job/lxgFxvpAXhH6zOMvh9G6pzooFKCORCgkfSudwEuQZAQjF7dORlMCSw?from=smart-apply 2/4interventions \\x00nd improve their educ\\x00tion\\x00l processes. This position m\\x00y be occ\\x00sion\\x00lly\\ncustomer f\\x00cin\\x00, providin\\x00 tr\\x00inin\\x00 \\x00nd profession\\x00l \\x00rowth opportunities. The best\\nc\\x00ndid\\x00te will displ\\x00y le\\x00dership c\\x00p\\x00bilities to help drive d\\x00t\\x00-decision m\\x00kin\\x00\\nprocesses within Focus \\x00nd our customers.\\nMinimum Qu\\x00liﬁc\\x00tions:\\n2+ ye\\x00rs' experience \\x00s \\x00 PowerBI developer, d\\x00t\\x00 scientist, d\\x00t\\x00 \\x00n\\x00lyst or d\\x00t\\x00\\nen\\x00ineer\\nExperience with PowerBi An\\x00lytics, cre\\x00tin\\x00 d\\x00shbo\\x00rds, D\\x00t\\x00 An\\x00lysis Expressions\\n(DAX)\\nStron\\x00 SQL skills\\nStron\\x00 writin\\x00 \\x00nd communic\\x00tion skills\\nExperience with st\\x00tistic\\x00l rese\\x00rch \\x00nd \\x00n\\x00lytics techniques (i.e. cl\\x00ssiﬁc\\x00tion,\\nclusterin\\x00, re\\x00ression, se\\x00ment\\x00tion, etc.)\\nNice to h\\x00ve:\\nA p\\x00ssion \\x00nd interest in the development of Educ\\x00tion\\x00l softw\\x00re\\nKnowled\\x00e of school district processes \\x00nd function\\x00lity is helpful\\nJob Responsibilities include:\\nUndert\\x00ke preprocessin\\x00 of structured \\x00nd unstructured d\\x00t\\x00\\nAn\\x00lyze l\\x00r\\x00e \\x00mounts of d\\x00t\\x00/inform\\x00tion to discover \\x00nd \\x00rticul\\x00te trends \\x00nd\\np\\x00tterns\\nCollectin\\x00 d\\x00t\\x00 throu\\x00h me\\x00ns such \\x00s \\x00n\\x00lyzin\\x00 business results or by settin\\x00 up\\n\\x00nd m\\x00n\\x00\\x00in\\x00 new studies\\nTr\\x00nsferrin\\x00 d\\x00t\\x00 into \\x00 new form\\x00t to m\\x00ke it more \\x00ppropri\\x00te for \\x00n\\x00lysis\\nSe\\x00rchin\\x00 throu\\x00h l\\x00r\\x00e d\\x00t\\x00 sets for us\\x00ble inform\\x00tion\\nSolve l\\x00r\\x00e, complex problems to \\x00chieve interrel\\x00ted \\x00nd interdependent objectives\\nCre\\x00tin\\x00 reports \\x00nd present\\x00tions for business uses\\nCorrel\\x00tin\\x00 simil\\x00r d\\x00t\\x00 to ﬁnd \\x00ction\\x00ble results\\nFocus School Softw\\x00re’s compens\\x00tion p\\x00ck\\x00\\x00e offers the followin\\x00 beneﬁts:\\nMedic\\x00l Insur\\x00nce\\nDent\\x00l/Vision Insur\\x00nce\\nLife Insur\\x00nce\\nShort \\x00nd Lon\\x00 Term Dis\\x00bility Insur\\x00nce\\n401(k) \\x00fter 6 months\\nP\\x00id Holid\\x00ys\\nP\\x00id V\\x00c\\x00tion \\x00nd Sick Time4/4/24, 2:48 PM Data Scientist - Focus School Software | Remote\\nhttps://www.simplyhired.com/job/lxgFxvpAXhH6zOMvh9G6pzooFKCORCgkfSudwEuQZAQjF7dORlMCSw?from=smart-apply 3/4Remote Position\\nJob Type: Full-time\\nP\\x00y: $91,751.28 - $110,496.16 per ye\\x00r\\nBeneﬁts:\\n401(k)\\n401(k) m\\x00tchin\\x00\\nDent\\x00l insur\\x00nce\\nFlexible spendin\\x00 \\x00ccount\\nHe\\x00lth insur\\x00nce\\nHe\\x00lth s\\x00vin\\x00s \\x00ccount\\nLife insur\\x00nce\\nP\\x00id time off\\nVision insur\\x00nce\\nExperience level:\\n3 ye\\x00rs\\nSchedule:\\nMond\\x00y to Frid\\x00y\\nWork Loc\\x00tion: Remote\\nResources \\x00nd Tools\\nCountryT\\x00ke your job se\\x00rch wherever you \\x00o.Quick Apply\\nUnited St\\x00tes4/4/24, 2:48 PM Data Scientist - Focus School Software | Remote\\nhttps://www.simplyhired.com/job/lxgFxvpAXhH6zOMvh9G6pzooFKCORCgkfSudwEuQZAQjF7dORlMCSw?from=smart-apply 4/4© 2024 SH Inc.Priv\\x00cy\\xa0|\\xa0Terms\\xa0|\\xa0Cookies\\xa0|\\xa0Priv\\x00cy Center\\xa0|\\xa0Accessibility\\xa0|\\xa0Your Priv\\x00cy Choices\"}, messages=[HumanMessagePromptTemplate(prompt=PromptTemplate(input_variables=['history', 'input', 'job', 'resume', 'sector'], template=\" You are a a specialized career coach for the {sector}, focused on delivering tailored, concise job application advice and practice.  You are proficient in resume analysis, cover letter guidance, and interview preparation, adapting to each user's unique requirements.  You maintain a professional, friendly tone, and encouraging tone, ensuring advice is efficient, clear, and easily understandable,  with the goal of aiding their career progression. Ask the user for their resume and job listing if not provided and they are needed to asnwer .\\nUse the following context, if provided, to help answer the questions:\\n\\nHere is my resume:\\n-------------\\n {resume}\\n\\n Here is the job listing:\\n-------------\\n{job}\\n\\n \\n        Current conversation:\\n        {history}\\n        Human: {input}\\n        AI:\"))]), llm=ChatOpenAI(client=<openai.resources.chat.completions.Completions object at 0x11af70e80>, async_client=<openai.resources.chat.completions.AsyncCompletions object at 0x11af2b430>, model_name='gpt-3.5-turbo-0125', temperature=0.1, openai_api_key=SecretStr('**********'), openai_proxy=''))"
      ]
     },
     "execution_count": 29,
     "metadata": {},
     "output_type": "execute_result"
    }
   ],
   "source": [
    "llm_chain = get_llm(resume=resume, job=job)\n",
    "llm_chain"
   ]
  },
  {
   "cell_type": "markdown",
   "metadata": {},
   "source": []
  },
  {
   "cell_type": "markdown",
   "metadata": {},
   "source": []
  },
  {
   "cell_type": "markdown",
   "metadata": {},
   "source": [
    "# Developing New Prompts"
   ]
  },
  {
   "cell_type": "markdown",
   "metadata": {},
   "source": [
    "### Resume Comparison"
   ]
  },
  {
   "cell_type": "code",
   "execution_count": 30,
   "metadata": {},
   "outputs": [
    {
     "data": {
      "text/plain": [
       "\" How does my resume compare against this job listing? First, categorize my resume's fit for the job as 'perfect,' 'great,' 'good,' or 'poor'.  Next, provide a list with the detailed break down comparing my resume vs. the job. Highlight any weaknesses or missing requirements.  Finally, provide suggestions for what to address in a cover letter and wish me luck! After performing the analysis, ask if the user wants to continue with a cover letter or move on to another task.\""
      ]
     },
     "execution_count": 30,
     "metadata": {},
     "output_type": "execute_result"
    }
   ],
   "source": [
    "# move this line to the task prompt\n",
    "task_prompt_compare_resume = (\" How does my resume compare against this job listing? \"\n",
    "\"First, categorize my resume's fit for the job as 'perfect,' 'great,' 'good,' or 'poor'. \"\n",
    "\" Next, provide a list with the detailed break down comparing my resume vs. the job. Highlight any weaknesses or missing requirements. \"\n",
    "\" Finally, provide suggestions for what to address in a cover letter and wish me luck!\"\n",
    "\" After performing the analysis, ask if the user wants to continue with a cover letter or move on to another task.\")\n",
    "\n",
    "task_prompt_compare_resume"
   ]
  },
  {
   "cell_type": "code",
   "execution_count": 31,
   "metadata": {},
   "outputs": [
    {
     "data": {
      "text/plain": [
       "\" How does my resume compare against this job listing? First, categorize my resume's fit for the job as 'perfect,' 'great,' 'good,' or 'poor'.  Next, provide a list with the detailed break down comparing my resume vs. the job. Highlight any weaknesses or missing requirements.  Finally, provide suggestions for what to address in a cover letter and wish me luck! After performing the analysis, ask if the user wants to continue with a cover letter or move on to another task.\""
      ]
     },
     "execution_count": 31,
     "metadata": {},
     "output_type": "execute_result"
    }
   ],
   "source": [
    "\" How does my resume compare against this job listing? First, categorize my resume's fit for the job as 'perfect,' 'great,' 'good,' or 'poor'.  Next, provide a list with the detailed break down comparing my resume vs. the job. Highlight any weaknesses or missing requirements.  Finally, provide suggestions for what to address in a cover letter and wish me luck! After performing the analysis, ask if the user wants to continue with a cover letter or move on to another task.\""
   ]
  },
  {
   "cell_type": "code",
   "execution_count": 32,
   "metadata": {},
   "outputs": [
    {
     "name": "stdout",
     "output_type": "stream",
     "text": [
      "Great! Please provide me with your resume and the job listing so I can perform a detailed comparison for you. Once I have that information, I will categorize your resume's fit for the job and provide you with a breakdown of how it aligns with the job requirements. Let's get started!\n"
     ]
    }
   ],
   "source": [
    "# Testing response when resuem and job not provided\n",
    "output = llm_chain_no_ctxt.invoke({'input':task_prompt_compare_resume})\n",
    "print(output['response'])"
   ]
  },
  {
   "cell_type": "code",
   "execution_count": 33,
   "metadata": {},
   "outputs": [
    {
     "name": "stdout",
     "output_type": "stream",
     "text": [
      "Based on your resume, your fit for the Data Scientist position at Focus School Software can be categorized as 'great.' Here is a detailed breakdown comparing your resume to the job listing:\n",
      "\n",
      "Strengths:\n",
      "1. Experience in data analysis, statistical modeling, machine learning, and data visualization align well with the job requirements.\n",
      "2. Proficiency in Python programming, which is a key skill mentioned in the job listing.\n",
      "3. Experience in working with large datasets and extracting valuable insights, which is crucial for the role.\n",
      "4. Strong educational background in neuroscience and data science, showcasing a solid foundation for the position.\n",
      "5. Experience in curriculum development and instructional delivery, demonstrating communication and teaching skills.\n",
      "\n",
      "Weaknesses/Missing Requirements:\n",
      "1. The job listing specifically mentions experience with Power BI Analytics and DAX, which are not explicitly mentioned in your resume. It would be beneficial to highlight any relevant experience or skills in this area.\n",
      "2. While you have experience with SQL, the job listing also mentions regression analysis, which could be emphasized more in your resume.\n",
      "3. Knowledge of school district processes and functionality is listed as a nice-to-have, so if you have any experience in this area, it could be worth mentioning.\n",
      "\n",
      "Suggestions for Cover Letter:\n",
      "In your cover letter, you can highlight your strong background in data science, machine learning, and data analysis, emphasizing your ability to extract insights from complex datasets. Mention your experience in curriculum development and instructional delivery, showcasing your communication skills. Address any missing requirements by expressing your willingness to learn and adapt to new tools and technologies, such as Power BI Analytics.\n",
      "\n",
      "Good luck with your application! Would you like to continue with drafting a cover letter or move on to another task?\n"
     ]
    }
   ],
   "source": [
    "# Testing response with context\n",
    "output = llm_chain.invoke({'input':task_prompt_compare_resume})\n",
    "# output = llm_chain.invoke({'input':task_prompt_compare_resume})\n",
    "print(output['response'])"
   ]
  },
  {
   "cell_type": "code",
   "execution_count": 34,
   "metadata": {},
   "outputs": [],
   "source": [
    "# output = llm_chain.invoke({'input':\"Sure lets write the cover letter.\"})\n",
    "# print(output['response'])"
   ]
  },
  {
   "cell_type": "markdown",
   "metadata": {},
   "source": [
    "### Interview Prep"
   ]
  },
  {
   "cell_type": "code",
   "execution_count": null,
   "metadata": {},
   "outputs": [],
   "source": []
  },
  {
   "cell_type": "code",
   "execution_count": 35,
   "metadata": {},
   "outputs": [
    {
     "name": "stdout",
     "output_type": "stream",
     "text": [
      " Help me prep for an upcoming interview. First, ask any questions that will help you understand which type of interview and job I am preparing for. Next, ask if I want to do A)a guided practice interview where you explain what the questions are designed to test and provide feedback.  or B) a mock interview with feedback at the end of the mock interview. \n"
     ]
    }
   ],
   "source": [
    "# move this line to the task prompt\n",
    "task_prompt_interview_prep = (\" Help me prep for an upcoming interview. \"\n",
    "\"First, ask any questions that will help you understand which type of interview and job I am preparing for. \"\n",
    "\"Next, ask if I want to do A)a guided practice interview where you explain what the questions are designed to test and provide feedback. \"\n",
    "\" or B) a mock interview with feedback at the end of the mock interview. \"\n",
    "# \"Cover both general interview questions as well as technical questions, depending on the type of job and type of interview. \"\n",
    ")\n",
    "\n",
    "print(task_prompt_interview_prep)"
   ]
  },
  {
   "cell_type": "code",
   "execution_count": 37,
   "metadata": {},
   "outputs": [
    {
     "name": "stdout",
     "output_type": "stream",
     "text": [
      "Great! Please provide me with your resume and the job listing so I can compare them for you. Once I have both documents, I will categorize your resume's fit for the job and provide you with a detailed breakdown. Let's get started!\n"
     ]
    }
   ],
   "source": [
    "llm_chain = get_llm()\n",
    "output = llm_chain.invoke({'input':task_prompt_compare_resume})\n",
    "print(output['response'])"
   ]
  },
  {
   "cell_type": "code",
   "execution_count": 38,
   "metadata": {},
   "outputs": [
    {
     "name": "stdout",
     "output_type": "stream",
     "text": [
      "Great! I'd be happy to help you prep for your upcoming interview. Can you please provide me with some information about the type of interview and job you are preparing for? Once I have a better understanding, I can tailor my advice to best suit your needs. \n",
      "\n",
      "After that, would you prefer to do a guided practice interview where I explain what the questions are designed to test and provide feedback, or would you prefer to do a mock interview with feedback at the end? Let me know so we can get started!\n"
     ]
    }
   ],
   "source": [
    "output = llm_chain.invoke({'input':task_prompt_interview_prep})\n",
    "print(output['response'])"
   ]
  },
  {
   "cell_type": "code",
   "execution_count": 39,
   "metadata": {},
   "outputs": [
    {
     "name": "stdout",
     "output_type": "stream",
     "text": [
      "Great, thank you for providing that information. Since this is a second round interview for the job you previously uploaded, I will tailor my advice accordingly. \n",
      "\n",
      "For a second round interview, it's important to showcase your specific skills and experiences that make you a strong fit for the role. Be prepared to discuss in more detail how your background aligns with the job requirements and how you can contribute to the company's success.\n",
      "\n",
      "Would you like to do a guided practice interview where I explain what the questions are designed to test and provide feedback, or would you prefer to do a mock interview with feedback at the end? Let me know so we can get started!\n"
     ]
    }
   ],
   "source": [
    "output = llm_chain.invoke({'input':\"The job is the one I uploaded to you earlier. The interview is a second round interview\"})\n",
    "print(output['response'])"
   ]
  },
  {
   "cell_type": "code",
   "execution_count": null,
   "metadata": {},
   "outputs": [],
   "source": []
  },
  {
   "cell_type": "markdown",
   "metadata": {},
   "source": [
    "## New Task Prompts"
   ]
  },
  {
   "cell_type": "markdown",
   "metadata": {},
   "source": [
    "> Note (04/15/24): adding new config folder with json file of prompts."
   ]
  },
  {
   "cell_type": "code",
   "execution_count": 41,
   "metadata": {},
   "outputs": [
    {
     "data": {
      "text/plain": [
       "\" How does my resume compare against this job listing? First, categorize my resume's fit for the job as 'perfect,' 'great,' 'good,' or 'poor'.  Next, provide a list with the detailed break down comparing my resume vs. the job. Highlight any weaknesses or missing requirements.  Finally, provide suggestions for what to address in a cover letter and wish me luck! After performing the analysis, ask if the user wants to continue with a cover letter or move on to another task.\""
      ]
     },
     "execution_count": 41,
     "metadata": {},
     "output_type": "execute_result"
    }
   ],
   "source": [
    "task_prompt_compare_resume = (\" How does my resume compare against this job listing? \"\n",
    "\"First, categorize my resume's fit for the job as 'perfect,' 'great,' 'good,' or 'poor'. \"\n",
    "\" Next, provide a list with the detailed break down comparing my resume vs. the job. Highlight any weaknesses or missing requirements. \"\n",
    "\" Finally, provide suggestions for what to address in a cover letter and wish me luck!\"\n",
    "\" After performing the analysis, ask if the user wants to continue with a cover letter or move on to another task.\")\n",
    "\n",
    "task_prompt_compare_resume"
   ]
  },
  {
   "cell_type": "code",
   "execution_count": 42,
   "metadata": {},
   "outputs": [
    {
     "name": "stdout",
     "output_type": "stream",
     "text": [
      " Help me prep for an upcoming interview. First, ask any questions that will help you understand which type of interview and job I am preparing for. Next, ask if I want to do A)a guided practice interview where you explain what the questions are designed to test and provide feedback.  or B) a mock interview with feedback at the end of the mock interview. \n"
     ]
    }
   ],
   "source": [
    "task_prompt_interview_prep = (\" Help me prep for an upcoming interview. \"\n",
    "\"First, ask any questions that will help you understand which type of interview and job I am preparing for. \"\n",
    "\"Next, ask if I want to do A)a guided practice interview where you explain what the questions are designed to test and provide feedback. \"\n",
    "\" or B) a mock interview with feedback at the end of the mock interview. \"\n",
    "# \"Cover both general interview questions as well as technical questions, depending on the type of job and type of interview. \"\n",
    ")\n",
    "\n",
    "print(task_prompt_interview_prep)"
   ]
  },
  {
   "cell_type": "code",
   "execution_count": 50,
   "metadata": {},
   "outputs": [
    {
     "data": {
      "text/plain": [
       "' Write a cover letter for this job using my resume. Use a memorable opening sentence that is very enthusiastic about the job.  Highlight my strengths and address any obvious missing qualifications.  '"
      ]
     },
     "execution_count": 50,
     "metadata": {},
     "output_type": "execute_result"
    }
   ],
   "source": [
    "task_prompt_cover_letter =(\" Write a cover letter for this job using my resume. Use a memorable opening sentence that is very enthusiastic about the job. \"  \n",
    "\" Highlight my strengths and address any obvious missing qualifications.  \") \n",
    "task_prompt_cover_letter\n",
    "\n"
   ]
  },
  {
   "cell_type": "code",
   "execution_count": 51,
   "metadata": {},
   "outputs": [],
   "source": [
    "# task_craft_cover_letter = (\" \"\n",
    "#                            \" \"\n",
    "#                            )"
   ]
  },
  {
   "cell_type": "code",
   "execution_count": 52,
   "metadata": {},
   "outputs": [
    {
     "data": {
      "text/plain": [
       "{'Compare Resuem vs. Job Listing': \" How does my resume compare against this job listing? First, categorize my resume's fit for the job as 'perfect,' 'great,' 'good,' or 'poor'.  Next, provide a list with the detailed break down comparing my resume vs. the job. Highlight any weaknesses or missing requirements.  Finally, provide suggestions for what to address in a cover letter and wish me luck! After performing the analysis, ask if the user wants to continue with a cover letter or move on to another task.\",\n",
       " 'Interivew Prep': ' Help me prep for an upcoming interview. First, ask any questions that will help you understand which type of interview and job I am preparing for. Next, ask if I want to do A)a guided practice interview where you explain what the questions are designed to test and provide feedback.  or B) a mock interview with feedback at the end of the mock interview. ',\n",
       " 'Draft a Cover Letter': ' Write a cover letter for this job using my resume. Use a memorable opening sentence that is very enthusiastic about the job.  Highlight my strengths and address any obvious missing qualifications.  '}"
      ]
     },
     "execution_count": 52,
     "metadata": {},
     "output_type": "execute_result"
    }
   ],
   "source": [
    "prompts = {\"Compare Resuem vs. Job Listing\":task_prompt_compare_resume,\n",
    "               \"Interivew Prep\": task_prompt_interview_prep,\n",
    "               \"Draft a Cover Letter\": task_prompt_cover_letter}\n",
    "prompts"
   ]
  },
  {
   "cell_type": "code",
   "execution_count": null,
   "metadata": {},
   "outputs": [],
   "source": []
  },
  {
   "cell_type": "code",
   "execution_count": 53,
   "metadata": {},
   "outputs": [],
   "source": [
    "## create the config folder and json file\n",
    "import os, json\n",
    "config_folder = \"config/\"\n",
    "os.makedirs(config_folder, exist_ok=True)\n",
    "\n",
    "# save the config file for prompts.\n",
    "prompt_config_file  = os.path.join(config_folder, \"prompt_config.json\")\n",
    "prompt_config_file\n",
    "\n",
    "if not os.path.exists(prompt_config_file):\n",
    "    with open(prompt_config_file, 'w') as f:\n",
    "        f.write(json.dumps(prompts))"
   ]
  },
  {
   "cell_type": "code",
   "execution_count": 54,
   "metadata": {},
   "outputs": [
    {
     "data": {
      "text/plain": [
       "dict_keys(['Compare Resuem vs. Job Listing', 'Interivew Prep', 'Draft a Cover Letter'])"
      ]
     },
     "execution_count": 54,
     "metadata": {},
     "output_type": "execute_result"
    }
   ],
   "source": [
    "with open(prompt_config_file, 'r') as f:\n",
    "    loaded_prompts = json.load(f)\n",
    "loaded_prompts.keys()"
   ]
  },
  {
   "cell_type": "code",
   "execution_count": null,
   "metadata": {},
   "outputs": [],
   "source": []
  }
 ],
 "metadata": {
  "kernelspec": {
   "display_name": "dojo-env",
   "language": "python",
   "name": "python3"
  },
  "language_info": {
   "codemirror_mode": {
    "name": "ipython",
    "version": 3
   },
   "file_extension": ".py",
   "mimetype": "text/x-python",
   "name": "python",
   "nbconvert_exporter": "python",
   "pygments_lexer": "ipython3",
   "version": "3.10.10"
  }
 },
 "nbformat": 4,
 "nbformat_minor": 2
}
