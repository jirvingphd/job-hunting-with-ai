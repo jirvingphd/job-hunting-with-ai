{
 "cells": [
  {
   "cell_type": "code",
   "execution_count": 1,
   "metadata": {},
   "outputs": [
    {
     "name": "stdout",
     "output_type": "stream",
     "text": [
      "Converting images/DALLE-1.webp to images/DALLE-1.png\n",
      "Converting images/DALLE-2.webp to images/DALLE-2.png\n"
     ]
    }
   ],
   "source": [
    "import glob\n",
    "from PIL import Image \n",
    "webp_files = glob.glob('images/*.webp')\n",
    "\n",
    "for file in webp_files:\n",
    "    img = Image.open(file)\n",
    "    img.save(file.replace('.webp', '.png'), 'png')\n",
    "    print(f'Converting {file} to {file.replace(\".webp\", \".png\")}')\n"
   ]
  },
  {
   "cell_type": "code",
   "execution_count": null,
   "metadata": {},
   "outputs": [],
   "source": []
  }
 ],
 "metadata": {
  "kernelspec": {
   "display_name": "dojo-env",
   "language": "python",
   "name": "python3"
  },
  "language_info": {
   "codemirror_mode": {
    "name": "ipython",
    "version": 3
   },
   "file_extension": ".py",
   "mimetype": "text/x-python",
   "name": "python",
   "nbconvert_exporter": "python",
   "pygments_lexer": "ipython3",
   "version": "3.10.10"
  }
 },
 "nbformat": 4,
 "nbformat_minor": 2
}
