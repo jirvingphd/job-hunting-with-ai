{
 "cells": [
  {
   "cell_type": "code",
   "execution_count": 2,
   "metadata": {
    "execution": {
     "iopub.execute_input": "2024-04-24T17:22:51.646267Z",
     "iopub.status.busy": "2024-04-24T17:22:51.644829Z",
     "iopub.status.idle": "2024-04-24T17:22:52.440377Z",
     "shell.execute_reply": "2024-04-24T17:22:52.440086Z",
     "shell.execute_reply.started": "2024-04-24T17:22:51.646146Z"
    }
   },
   "outputs": [],
   "source": [
    "import streamlit as st\n",
    "# from langchain import LangChain\n",
    "import PyPDF2\n",
    "# import pypdf2 as PyPDF2\n",
    "from io import StringIO\n",
    "from langchain_openai import ChatOpenAI\n",
    "from langchain.schema import HumanMessage, SystemMessage, AIMessage\n",
    "from langchain.prompts import  MessagesPlaceholder, PromptTemplate, ChatPromptTemplate\n",
    "from langchain.chains import ConversationChain\n",
    "from langchain.memory import ConversationBufferWindowMemory\n",
    "import os"
   ]
  },
  {
   "cell_type": "code",
   "execution_count": 3,
   "metadata": {
    "execution": {
     "iopub.execute_input": "2024-04-24T17:22:52.441404Z",
     "iopub.status.busy": "2024-04-24T17:22:52.441247Z",
     "iopub.status.idle": "2024-04-24T17:22:52.443677Z",
     "shell.execute_reply": "2024-04-24T17:22:52.443423Z",
     "shell.execute_reply.started": "2024-04-24T17:22:52.441394Z"
    }
   },
   "outputs": [],
   "source": [
    "\n",
    "ai_avatar  = \"🤖\"\n",
    "user_avatar = \"💬\"\n",
    "\n",
    "import PyPDF2\n",
    "\n",
    "def read_pdf(file):\n",
    "    \n",
    "    # stringio = StringIO(file.getvalue().decode(\"utf-8\"))\n",
    "     # To read file as bytes:\n",
    "    # bytes_data = file.getvalue()\n",
    "    # To convert to a string based IO:\n",
    "    # stringio = StringIO(file.getvalue())#.decode(\"utf-8\"))\n",
    "\n",
    "    # pdf_file_obj = open(file.name, 'rb')\n",
    "    # pdf_file_obj = open(file.getvalue(),'rb')\n",
    "    pdf_reader = PyPDF2.PdfReader(file)\n",
    "    text = \"\"\n",
    "    for page_num in range(len(pdf_reader.pages)):\n",
    "        # page_obj = pdf_reader.getPage(page_num)\n",
    "        page_obj = pdf_reader.pages[page_num]\n",
    "        text += page_obj.extract_text()\n",
    "    # pdf_file_obj.close()\n",
    "    return text"
   ]
  },
  {
   "cell_type": "code",
   "execution_count": 4,
   "metadata": {
    "execution": {
     "iopub.execute_input": "2024-04-24T17:22:52.444130Z",
     "iopub.status.busy": "2024-04-24T17:22:52.444050Z",
     "iopub.status.idle": "2024-04-24T17:22:52.446374Z",
     "shell.execute_reply": "2024-04-24T17:22:52.446068Z",
     "shell.execute_reply.started": "2024-04-24T17:22:52.444122Z"
    }
   },
   "outputs": [],
   "source": [
    "def get_template_string():\n",
    "    \n",
    "    return \"\"\"You are a a specialized career coach for the data science and analytics sector, focused on delivering tailored, concise job application advice. \n",
    "    You are proficient in resume analysis, cover letter guidance, and interview preparation, adapting to each user's unique requirements.\n",
    "    When analyzing a resume vs. a job listing, start by categorizing a user's fit for a job as 'perfect,' 'great,' 'good,' or 'non-ideal' based on the resume and job listing comparison before going into detail.\n",
    "    You maintain a professional, friendly tone, and encouraging tone, ensuring advice is efficient, clear, and easily understandable, with the goal of enhancing user confidence and aiding their career progression.\n",
    "    \"\"\""
   ]
  },
  {
   "cell_type": "code",
   "execution_count": 5,
   "metadata": {
    "execution": {
     "iopub.execute_input": "2024-04-24T17:22:52.447038Z",
     "iopub.status.busy": "2024-04-24T17:22:52.446934Z",
     "iopub.status.idle": "2024-04-24T17:22:52.556627Z",
     "shell.execute_reply": "2024-04-24T17:22:52.556346Z",
     "shell.execute_reply.started": "2024-04-24T17:22:52.447029Z"
    }
   },
   "outputs": [
    {
     "name": "stderr",
     "output_type": "stream",
     "text": [
      "2024-04-24 13:22:52.554 \n",
      "  \u001b[33m\u001b[1mWarning:\u001b[0m to view this Streamlit app on a browser, run it with the following\n",
      "  command:\n",
      "\n",
      "    streamlit run /opt/homebrew/Caskroom/miniforge/base/envs/dojo-env/lib/python3.10/site-packages/ipykernel_launcher.py [ARGUMENTS]\n"
     ]
    }
   ],
   "source": [
    "model_type = st.sidebar.radio(\"GPT Model\", options=[\"gpt-3.5-turbo-0125\", \"gpt-3.5-turbo-instruct\",\"gpt-4-turbo-preview\"],\n",
    "                              index=0)\n",
    "\n",
    "def get_llm(model_type=model_type, temperature=0.1, #verbose=False,\n",
    "             template_string_func=get_template_string):\n",
    "\n",
    "    ## get prompt string\n",
    "    system_prompt = template_string_func()\n",
    "    \n",
    "    prompt_template =system_prompt+\"\"\"\n",
    "    Current conversation:\n",
    "    {history}\n",
    "    Human: {input}\n",
    "    AI:\"\"\"\n",
    "    prompt = ChatPromptTemplate.from_template(prompt_template)\n",
    "    llm = ChatOpenAI(temperature=.1, model=model_type)\n",
    "    llm_chain = ConversationChain(prompt=prompt, llm=llm, memory=ConversationBufferWindowMemory(),#ConversationBufferMemory(memory_key=\"history\"),\n",
    "                                  verbose=True, output_key=\"response\")#,#callbacks=callbacks)\n",
    "    \n",
    "    # llm_chain.memory.chat_memory.add_sy (template)\n",
    "    return llm_chain\n"
   ]
  },
  {
   "cell_type": "markdown",
   "metadata": {},
   "source": []
  },
  {
   "cell_type": "code",
   "execution_count": 6,
   "metadata": {
    "execution": {
     "iopub.execute_input": "2024-04-24T17:22:52.557893Z",
     "iopub.status.busy": "2024-04-24T17:22:52.557767Z",
     "iopub.status.idle": "2024-04-24T17:22:52.562481Z",
     "shell.execute_reply": "2024-04-24T17:22:52.562014Z",
     "shell.execute_reply.started": "2024-04-24T17:22:52.557883Z"
    }
   },
   "outputs": [],
   "source": [
    "\n",
    "def fake_streaming(response):\n",
    "    import time\n",
    "    for word in response.split(\" \"):\n",
    "        yield word + \" \"\n",
    "        time.sleep(.05)\t\t\n",
    "        \n",
    "            \n",
    "    \n",
    "## For steramlit try this as raw code, not a function\n",
    "def print_history(llm_chain):\n",
    "    # Simulate streaming for final message\n",
    "\n",
    "    session_state_messages = llm_chain.memory.buffer_as_messages\n",
    "    for msg in session_state_messages:#[:-1]:\n",
    "        if isinstance(msg, AIMessage):\n",
    "            # notebook\n",
    "            print(f\"Assistant: {msg.content}\")\n",
    "            # streamlit\n",
    "            st.chat_message(\"assistant\", avatar=ai_avatar).write(msg.content)\n",
    "        \n",
    "        elif isinstance(msg, HumanMessage):\n",
    "            # notebook\n",
    "            print(f\"User: {msg.content}\")\n",
    "            # streamlit\n",
    "            st.chat_message(\"user\", avatar=user_avatar).write(msg.content)\n",
    "        print()\n",
    "\n",
    "\n",
    "\n",
    "\n",
    "def get_context_strings(context_resume=None, context_job=None,):\n",
    "    if context_resume is None:\n",
    "        context_resume = st.session_state.resume_text\n",
    "    \n",
    "    if context_job is None:\n",
    "        context_job = st.session_state.job_listing_text\n",
    "    # task_prompt_dict = get_task_options(options_only=False)\n",
    "    # system_prompt = task_prompt_dict[selected_task]\n",
    "    \n",
    "    # template_assistant = \"You are a helpful assistant data scientist who uses NLP analysis of customer reviews to inform business-decision-making:\"\n",
    "    # product_template = f\" Assume all user questions are asking about the content in the user reviews. Note the product metadata is:\\n```{product_string}```\\n\\n\"\n",
    "    # template_starter = get_template_string()\n",
    "    context = f\"\\nHere is my resume: \\n\\n-------------\\n {context_resume}.\\n\\n Here is the job listing:\\n\\n-------------\\n{context_job}.\\n\\n\"\n",
    "    # context += f\"Use the {context_type} first before using the retrieved documents.\"\n",
    "    # template_assistant=template_starter+ context\n",
    "    return context\n",
    "\n",
    "\n",
    "def get_task_options(options_only=False):\n",
    "    task_prompt_dict= {\n",
    "        # \"Summary of Customer Sentiment\":'Provide a summary list of what 1-star reviews did not like and a summary of what did 5-star reviews liked.',\n",
    "                   'Compare Resume vs. Job':'How does my resume compare against this job listing? Provide a detailed break down list comparing my resume vs. the listing. Highlight any weaknesses.',\n",
    "                   'Craft Covert Letter':'Write a cover letter for this job. Use a non-traditional opening sentence that is very enthusiastic about the job and memorable (you can even use !). The reamining portions of the letter should be high quality and speak to my experience.',\n",
    "                   \"Interview Prep\":'Help me prepare for an interview. Start with a question that I should expect in the interview.',\n",
    "                   \"Resume Analysis\":'Analyze my resume. Start with a summary of my resume.',}\n",
    "\n",
    "    if options_only:\n",
    "        return list(task_prompt_dict.keys())\n",
    "    else:\n",
    "        return task_prompt_dict\n"
   ]
  },
  {
   "cell_type": "code",
   "execution_count": 7,
   "metadata": {
    "execution": {
     "iopub.execute_input": "2024-04-24T17:22:52.563193Z",
     "iopub.status.busy": "2024-04-24T17:22:52.563084Z",
     "iopub.status.idle": "2024-04-24T17:22:52.566850Z",
     "shell.execute_reply": "2024-04-24T17:22:52.566583Z",
     "shell.execute_reply.started": "2024-04-24T17:22:52.563184Z"
    }
   },
   "outputs": [
    {
     "data": {
      "text/plain": [
       "{'Compare Resume vs. Job': 'How does my resume compare against this job listing? Provide a detailed break down list comparing my resume vs. the listing. Highlight any weaknesses.',\n",
       " 'Craft Covert Letter': 'Write a cover letter for this job. Use a non-traditional opening sentence that is very enthusiastic about the job and memorable (you can even use !). The reamining portions of the letter should be high quality and speak to my experience.',\n",
       " 'Interview Prep': 'Help me prepare for an interview. Start with a question that I should expect in the interview.',\n",
       " 'Resume Analysis': 'Analyze my resume. Start with a summary of my resume.'}"
      ]
     },
     "execution_count": 7,
     "metadata": {},
     "output_type": "execute_result"
    }
   ],
   "source": [
    "task_options = get_task_options(options_only=False)\n",
    "task_options"
   ]
  },
  {
   "cell_type": "markdown",
   "metadata": {},
   "source": [
    "### Rethinking the Prompt"
   ]
  },
  {
   "cell_type": "code",
   "execution_count": 8,
   "metadata": {
    "execution": {
     "iopub.execute_input": "2024-04-24T17:22:52.567413Z",
     "iopub.status.busy": "2024-04-24T17:22:52.567314Z",
     "iopub.status.idle": "2024-04-24T17:22:52.569319Z",
     "shell.execute_reply": "2024-04-24T17:22:52.569047Z",
     "shell.execute_reply.started": "2024-04-24T17:22:52.567404Z"
    }
   },
   "outputs": [
    {
     "name": "stdout",
     "output_type": "stream",
     "text": [
      "How does my resume compare against this job listing? Provide a detailed break down list comparing my resume vs. the listing. Highlight any weaknesses.\n"
     ]
    }
   ],
   "source": [
    "selected_task = 'Compare Resume vs. Job'\n",
    "prompt_text =  task_options[selected_task]\n",
    "print(prompt_text)\n"
   ]
  },
  {
   "cell_type": "code",
   "execution_count": 9,
   "metadata": {
    "execution": {
     "iopub.execute_input": "2024-04-24T17:22:52.569826Z",
     "iopub.status.busy": "2024-04-24T17:22:52.569743Z",
     "iopub.status.idle": "2024-04-24T17:22:52.650007Z",
     "shell.execute_reply": "2024-04-24T17:22:52.649646Z",
     "shell.execute_reply.started": "2024-04-24T17:22:52.569818Z"
    }
   },
   "outputs": [
    {
     "name": "stdout",
     "output_type": "stream",
     "text": [
      "JAMES M. IRVING, PH.D. 8222 Spadderdock Way, Laurel, MD, 20724 | (518) 322-6750 | james.irving.phd@gmail.com |  LINKEDIN: james-irving-phd | GITHUB: https://github.com/jirvingphd  SUMMARY Innovative and enterprising data scientist. Experienced in applying advanced data science techniques to real-world problems, including statistical modeling, machine learning, and data visualization. Skilled at extracting valuable insights from complex datasets and supporting data-driven decision-making. Adept Python programmer with the demonstrated ability to rapidly master and apply new technologies. A highly analytical professional committed to continuous learning and leveraging the value of data to innovate and transform. Former neuroscience researcher with a solid foundation in science, experimental design, and cognitive neuroscience. COMPETENCIES • Data Analysis • Statistical Modeling • Machine Learning • Data Visualization • Experimental Design • Quantitative Research Methods • Time Series Analy\n"
     ]
    }
   ],
   "source": [
    "resume = read_pdf('data/James Irving Resume 2024.pdf')\n",
    "print(resume[:1000])"
   ]
  },
  {
   "cell_type": "code",
   "execution_count": 10,
   "metadata": {
    "execution": {
     "iopub.execute_input": "2024-04-24T17:22:52.650724Z",
     "iopub.status.busy": "2024-04-24T17:22:52.650611Z",
     "iopub.status.idle": "2024-04-24T17:22:52.744581Z",
     "shell.execute_reply": "2024-04-24T17:22:52.744128Z",
     "shell.execute_reply.started": "2024-04-24T17:22:52.650714Z"
    }
   },
   "outputs": [
    {
     "name": "stdout",
     "output_type": "stream",
     "text": [
      "4/4/24, 2:48 PM Data Scientist - Focus School Software | Remote\n",
      "https://www.simplyhired.com/job/lxgFxvpAXhH6zOMvh9G6pzooFKCORCgkfSudwEuQZAQjF7dORlMCSw?from=smart-apply 1/4Post Jobs\n",
      "D\u0000t\u0000 Scientist\n",
      "Focus School Softw\u0000re\n",
      "Remote\n",
      "Job Det\u0000ils\n",
      "Full-time\n",
      "$91,751.28 - $110,496.16 \u0000 ye\u0000r\n",
      "2 d\u0000ys \u0000\u0000o\n",
      "Beneﬁts\n",
      "He\u0000lth s\u0000vin\u0000s \u0000ccount Dis\u0000bility insur\u0000nce He\u0000lth insur\u0000nce\n",
      "Dent\u0000l insur\u0000nce 401(k) Flexible spendin\u0000 \u0000ccount P\u0000id time off\n",
      "Vision insur\u0000nce 401(k) m\u0000tchin\u0000 Life insur\u0000nce\n",
      "Qu\u0000liﬁc\u0000tions\n",
      "Power BI Writin\u0000 skills D\u0000t\u0000 \u0000n\u0000lysis skills Rese\u0000rch 3 ye\u0000rs\n",
      "SQL Re\u0000ression \u0000n\u0000lysis 2 ye\u0000rs Communic\u0000tion skills An\u0000lytics\n",
      "Full Job Description\n",
      "Focus is lookin\u0000 for ener\u0000etic, cre\u0000tive, \u0000nd experienced c\u0000ndid\u0000tes who c\u0000n help us\n",
      "succeed in our mission to serve \u0000n incre\u0000sin\u0000 number of districts \u0000cross the n\u0000tion. We\n",
      "keep our clients’ needs \u0000t the forefront of everythin\u0000 we do. As \u0000 comp\u0000ny who\n",
      "underst\u0000nds the h\u0000rd work of tod\u0000y’s educ\u0000tors, Focus looks for employees who sh\u0000re our\n",
      "v\u0000lues tow\u0000rds educ\u0000tion.\n",
      "Foc\n"
     ]
    }
   ],
   "source": [
    "job = read_pdf('data/Data Scientist - Focus School Software _ Remote.pdf')\n",
    "print(job[:1000])"
   ]
  },
  {
   "cell_type": "markdown",
   "metadata": {},
   "source": [
    "___"
   ]
  },
  {
   "cell_type": "markdown",
   "metadata": {},
   "source": [
    "## Run Above Here to Load PDFs"
   ]
  },
  {
   "cell_type": "code",
   "execution_count": 10,
   "metadata": {
    "execution": {
     "iopub.execute_input": "2024-04-24T17:21:28.705700Z",
     "iopub.status.busy": "2024-04-24T17:21:28.704633Z",
     "iopub.status.idle": "2024-04-24T17:21:28.717957Z",
     "shell.execute_reply": "2024-04-24T17:21:28.716874Z",
     "shell.execute_reply.started": "2024-04-24T17:21:28.705641Z"
    }
   },
   "outputs": [
    {
     "data": {
      "text/plain": [
       "'\\nHere is my resume: \\n\\n-------------\\n JAMES M. IRVING, PH.D. 8222 Spadderdock Way, Laurel, MD, 20724 | (518) 322-6750 | james.irving.phd@gmail.com |  LINKEDIN: james-irving-phd | GITHUB: https://github.com/jirvingphd  SUMMARY Innovative and enterprising data scientist. Experienced in applying advanced data science techniques to real-world problems, including statistical modeling, machine learning, and data visualization. Skilled at extracting valuable insights from complex datasets and supporting data-driven decision-making. Adept Python programmer with the demonstrated ability to rapidly master and apply new technologies. A highly analytical professional committed to continuous learning and leveraging the value of data to innovate and transform. Former neuroscience researcher with a solid foundation in science, experimental design, and cognitive neuroscience. COMPETENCIES • Data Analysis • Statistical Modeling • Machine Learning • Data Visualization • Experimental Design • Quantitative Research Methods • Time Series Analysis • Signal Processing • Cognitive Neuroscience • Behavioral Analysis • Database Management • Pattern Recognition • Python Programming • Deep Learning • Natural Language Processing • AI/LLM Model Implementation • Adaptive Communication Style • Problem Solving & Critical Thinking EXPERIENCE Coding Dojo | Remote Curriculum Writer - Data Science | Mar 2023 - Jan 2024 • Authored and delivered three advanced data science courses covering Time Series Modeling, NLP, and Model Deployment to facilitate skill acquisition for over 100 learners. • Enhanced and extended the curriculum of a 16-week boot camp to a 24-week program, resulting in a 50% increase in instructional depth and engagement. • Developed and implemented Monday.com boards, including public forms and executive-facing Gantt charts, to automate internal workflows and streamline curriculum management, resolving over 100 issues. • Integrated APIs, Web scraping, and Computer Vision (CNNs) into course content, fostering practical skill development and aligning with industry demands in data science and machine learning. Data Science Instructor | November 2021 - March 2023 • Achieved outstanding Net Promoter Scores (NPS) exceeding 90% through the delivery of engaging live lectures, demonstrating effective communication and pedagogical skills. • Implemented automated tools for administrative tasks, reducing student onboarding time from 5 hours to a mere 2 minutes, optimizing operational efficiency. • Authored and delivered a highly acclaimed 4-week course with a perfect NPS rating, showcasing expertise in curriculum development and instructional delivery. • Designed and presented over 16 interactive live lectures and code-along projects, significantly enhancing student participation and fostering a dynamic learning environment. Flatiron School | Remote Data Science Instructor | Oct 2019 - Oct 2021 • Mentored and supervised 60+ students to successfully transition into data science, achieving a high post-program employment rate. • Led and conducted 90-minute study groups weekly, accumulating over 270 hours of recorded lessons, enhancing student comprehension and engagement. • Spearheaded the development and implementation of the \"Flex\" boot camp program, refining instructional design and delivery methods to meet diverse learning needs. • Established three student-progress-tracking Looker dashboards, providing real-time insights into student performance and facilitating timely intervention strategies. • Implemented data-driven approaches to enhance program efficacy, resulting in improved student outcomes and program satisfaction. University of Maryland, School of Medicine | Baltimore, MD  Laboratory Manager | Jul 2017 - Aug 2018 • Ensured full compliance with regulatory standards as the lab\\'s public representative, achieving a flawless record with all 4 inspections passing without demerits. • Negotiated and finalized a technical hardware contract worth approximately $100,000 with vendors, optimizing procurement processes and ensuring cost-effectiveness. • Managed and administered over 20 TBs of both cloud and local data storage systems, ensuring data accessibility, security, and efficient retrieval. • Successfully overhauled mouse colony management procedures, resulting in a remarkable 60% reduction in housing costs, from approximately $3.8k/month to $1.5k/month, through strategic resource allocation and process optimization. Postdoctoral Research Fellow | June 2015 - July 2017 • Spearheaded neuroscience research endeavors, employing cutting-edge techniques such as in vivo optogenetics and electrophysiology recordings, resulting in groundbreaking insights into neural functioning in awake and behaving mice. • Developed approximately 30 custom analysis scripts in languages including Matlab, NexScript, MedPC, and Arduino, enhancing data processing capabilities and facilitating comprehensive statistical analyses of large datasets. • Mentored and guided a diverse team comprising 1 postdoc, 2 Ph.D. students, 3 lab techs, and 3 undergraduate volunteers, fostering an environment of collaborative learning and achieving research excellence. • Demonstrated self-directed learning by mastering Matlab programming and independently creating custom-designed analysis programs for large datasets in multiple programming languages, streamlining data interpretation processes and enhancing research efficiency. DATA SCIENCE PROJECTS NLP Analysis of Amazon Reviews + AI Recommendations - GitHub Link Natural Language Processing Analysis, Modeling, and Deployment with Actionable Insights • Designed and deployed a user-centric Streamlit dashboard, integrating live sentiment predictions and interactive analysis of trends to guide strategic decision-making. • Conducted sentiment analysis on over 5 million Amazon Grocery & Gourmet Food reviews, utilizing NLP and machine learning techniques (Logistic Regression, Tf-idf vectorization) to identify key factors affecting customer satisfaction and achieve 95%  accuracy in sentiment classification. • Employed Hugging Face transformers and Lang Chain/ChatGPT within the dashboard with a vectorized database used for summarization and insights, translating vast consumer feedback into actionable product enhancement strategies. How to Make a Successful Movie – GitHub Link Constructing and analyzing an extensive movie database with machine-learning-based insights + Tableau Dashboard • Engineered a comprehensive MySQL database integrating IMDB and data from TMDB API for data-driven insights. • Designed an interactive Tableau dashboard to communicate findings to stakeholders, enhancing decision-making processes (see GitHub link). • Applied A/B Testing to make informed recommendations on what movies are successful at the box office. How to Spot a Troll – GitHub Link Classifying Russian Troll Tweets vs Authentic Tweets • Conducted EDA on 3M tweets, identifying patterns indicative of non-authentic activity by Russian Troll Farms. • Produced alternative final models - one optimized for speed, one for accuracy. Recidivism Risk Assessment – GitHub Link Classifying which released prisoners in Iowa will return to a life of crime using Next-Gen Gradient Boosted Trees • Built a classification model to predict recidivism risk among released prisoners with over 70% accuracy (via scikit-learn and Catboost). • Researched Iowa\\'s state sentencing guidelines and sentencing enhancements to engineer new numerical features to capture the severity of the crimes committed and the duration of sentences.   EDUCATION Data Science (Full-Time)     February 2019 - August 2019 Flatiron School Doctor of Philosophy                August 2009 - May 2015 Neuroscience University of Maryland, Baltimore, MD Bachelor & Master of Science      August 2004 - December 2008         Neuroscience Tulane University, New Orleans, LA PROFESSIONAL SKILLS Programming: • Python & Object-Oriented Programming • SQL (MySQL, SQLAlchemy) • MATLAB • PyPi Package Publishing • HTML / CSS • NexScript programming • MedState Notation • Git/GitHub Data Analysis • Extract, Transform, Load (ETL)  (numpy, pandas), • AB Testing (scipy, statsmodels, GraphPad Prism, SPSS) • Machine Learning (scikit-learn, Keras, Catboost, XGBoost), • Database Administration Software: • Adobe Illustrator • Adobe Photoshop • GraphPad Prism • Microsoft Office (Word, Excel, PowerPoint) • NeuroExplorer • Plexon OfflineSorter • VS Code • Jupyter Notebook/Lab Visualization/Dashboarding • Plotly / Dash • Tableau • Streamlit Deployment • Seaborn / Matplotlib • Looker Natural Language Processing: • nltk  • spaCy • Tensorflow • Hugging Face transformers • LangChain \\n .\\n\\n Here is the job listing:\\n\\n-------------\\n4/4/24, 2:48 PM Data Scientist - Focus School Software | Remote\\nhttps://www.simplyhired.com/job/lxgFxvpAXhH6zOMvh9G6pzooFKCORCgkfSudwEuQZAQjF7dORlMCSw?from=smart-apply 1/4Post Jobs\\nD\\x00t\\x00 Scientist\\nFocus School Softw\\x00re\\nRemote\\nJob Det\\x00ils\\nFull-time\\n$91,751.28 - $110,496.16 \\x00 ye\\x00r\\n2 d\\x00ys \\x00\\x00o\\nBeneﬁts\\nHe\\x00lth s\\x00vin\\x00s \\x00ccount Dis\\x00bility insur\\x00nce He\\x00lth insur\\x00nce\\nDent\\x00l insur\\x00nce 401(k) Flexible spendin\\x00 \\x00ccount P\\x00id time off\\nVision insur\\x00nce 401(k) m\\x00tchin\\x00 Life insur\\x00nce\\nQu\\x00liﬁc\\x00tions\\nPower BI Writin\\x00 skills D\\x00t\\x00 \\x00n\\x00lysis skills Rese\\x00rch 3 ye\\x00rs\\nSQL Re\\x00ression \\x00n\\x00lysis 2 ye\\x00rs Communic\\x00tion skills An\\x00lytics\\nFull Job Description\\nFocus is lookin\\x00 for ener\\x00etic, cre\\x00tive, \\x00nd experienced c\\x00ndid\\x00tes who c\\x00n help us\\nsucceed in our mission to serve \\x00n incre\\x00sin\\x00 number of districts \\x00cross the n\\x00tion. We\\nkeep our clients’ needs \\x00t the forefront of everythin\\x00 we do. As \\x00 comp\\x00ny who\\nunderst\\x00nds the h\\x00rd work of tod\\x00y’s educ\\x00tors, Focus looks for employees who sh\\x00re our\\nv\\x00lues tow\\x00rds educ\\x00tion.\\nFocus School Softw\\x00re is lookin\\x00 to exp\\x00nd our te\\x00m by hirin\\x00 \\x00 PowerBI Developer / D\\x00t\\x00\\nScientist to work with our te\\x00m. This person will help support our An\\x00lytics product which\\nincludes dozens of d\\x00shbo\\x00rds \\x00n\\x00lyzin\\x00 student d\\x00t\\x00 to help educ\\x00tors t\\x00r\\x00etJI\\nQuick Apply4/4/24, 2:48 PM Data Scientist - Focus School Software | Remote\\nhttps://www.simplyhired.com/job/lxgFxvpAXhH6zOMvh9G6pzooFKCORCgkfSudwEuQZAQjF7dORlMCSw?from=smart-apply 2/4interventions \\x00nd improve their educ\\x00tion\\x00l processes. This position m\\x00y be occ\\x00sion\\x00lly\\ncustomer f\\x00cin\\x00, providin\\x00 tr\\x00inin\\x00 \\x00nd profession\\x00l \\x00rowth opportunities. The best\\nc\\x00ndid\\x00te will displ\\x00y le\\x00dership c\\x00p\\x00bilities to help drive d\\x00t\\x00-decision m\\x00kin\\x00\\nprocesses within Focus \\x00nd our customers.\\nMinimum Qu\\x00liﬁc\\x00tions:\\n2+ ye\\x00rs\\' experience \\x00s \\x00 PowerBI developer, d\\x00t\\x00 scientist, d\\x00t\\x00 \\x00n\\x00lyst or d\\x00t\\x00\\nen\\x00ineer\\nExperience with PowerBi An\\x00lytics, cre\\x00tin\\x00 d\\x00shbo\\x00rds, D\\x00t\\x00 An\\x00lysis Expressions\\n(DAX)\\nStron\\x00 SQL skills\\nStron\\x00 writin\\x00 \\x00nd communic\\x00tion skills\\nExperience with st\\x00tistic\\x00l rese\\x00rch \\x00nd \\x00n\\x00lytics techniques (i.e. cl\\x00ssiﬁc\\x00tion,\\nclusterin\\x00, re\\x00ression, se\\x00ment\\x00tion, etc.)\\nNice to h\\x00ve:\\nA p\\x00ssion \\x00nd interest in the development of Educ\\x00tion\\x00l softw\\x00re\\nKnowled\\x00e of school district processes \\x00nd function\\x00lity is helpful\\nJob Responsibilities include:\\nUndert\\x00ke preprocessin\\x00 of structured \\x00nd unstructured d\\x00t\\x00\\nAn\\x00lyze l\\x00r\\x00e \\x00mounts of d\\x00t\\x00/inform\\x00tion to discover \\x00nd \\x00rticul\\x00te trends \\x00nd\\np\\x00tterns\\nCollectin\\x00 d\\x00t\\x00 throu\\x00h me\\x00ns such \\x00s \\x00n\\x00lyzin\\x00 business results or by settin\\x00 up\\n\\x00nd m\\x00n\\x00\\x00in\\x00 new studies\\nTr\\x00nsferrin\\x00 d\\x00t\\x00 into \\x00 new form\\x00t to m\\x00ke it more \\x00ppropri\\x00te for \\x00n\\x00lysis\\nSe\\x00rchin\\x00 throu\\x00h l\\x00r\\x00e d\\x00t\\x00 sets for us\\x00ble inform\\x00tion\\nSolve l\\x00r\\x00e, complex problems to \\x00chieve interrel\\x00ted \\x00nd interdependent objectives\\nCre\\x00tin\\x00 reports \\x00nd present\\x00tions for business uses\\nCorrel\\x00tin\\x00 simil\\x00r d\\x00t\\x00 to ﬁnd \\x00ction\\x00ble results\\nFocus School Softw\\x00re’s compens\\x00tion p\\x00ck\\x00\\x00e offers the followin\\x00 beneﬁts:\\nMedic\\x00l Insur\\x00nce\\nDent\\x00l/Vision Insur\\x00nce\\nLife Insur\\x00nce\\nShort \\x00nd Lon\\x00 Term Dis\\x00bility Insur\\x00nce\\n401(k) \\x00fter 6 months\\nP\\x00id Holid\\x00ys\\nP\\x00id V\\x00c\\x00tion \\x00nd Sick Time4/4/24, 2:48 PM Data Scientist - Focus School Software | Remote\\nhttps://www.simplyhired.com/job/lxgFxvpAXhH6zOMvh9G6pzooFKCORCgkfSudwEuQZAQjF7dORlMCSw?from=smart-apply 3/4Remote Position\\nJob Type: Full-time\\nP\\x00y: $91,751.28 - $110,496.16 per ye\\x00r\\nBeneﬁts:\\n401(k)\\n401(k) m\\x00tchin\\x00\\nDent\\x00l insur\\x00nce\\nFlexible spendin\\x00 \\x00ccount\\nHe\\x00lth insur\\x00nce\\nHe\\x00lth s\\x00vin\\x00s \\x00ccount\\nLife insur\\x00nce\\nP\\x00id time off\\nVision insur\\x00nce\\nExperience level:\\n3 ye\\x00rs\\nSchedule:\\nMond\\x00y to Frid\\x00y\\nWork Loc\\x00tion: Remote\\nResources \\x00nd Tools\\nCountryT\\x00ke your job se\\x00rch wherever you \\x00o.Quick Apply\\nUnited St\\x00tes4/4/24, 2:48 PM Data Scientist - Focus School Software | Remote\\nhttps://www.simplyhired.com/job/lxgFxvpAXhH6zOMvh9G6pzooFKCORCgkfSudwEuQZAQjF7dORlMCSw?from=smart-apply 4/4© 2024 SH Inc.Priv\\x00cy\\xa0|\\xa0Terms\\xa0|\\xa0Cookies\\xa0|\\xa0Priv\\x00cy Center\\xa0|\\xa0Accessibility\\xa0|\\xa0Your Priv\\x00cy Choices.\\n\\n'"
      ]
     },
     "execution_count": 10,
     "metadata": {},
     "output_type": "execute_result"
    }
   ],
   "source": [
    "context = get_context_strings(resume,job)\n",
    "context\n"
   ]
  },
  {
   "cell_type": "code",
   "execution_count": 214,
   "metadata": {},
   "outputs": [
    {
     "data": {
      "text/plain": [
       "\" You are a a specialized career coach for the {sector}, focused on delivering tailored, concise job application advice and practice.  You are proficient in resume analysis, cover letter guidance, and interview preparation, adapting to each user's unique requirements.  You maintain a professional, friendly tone, and encouraging tone, ensuring advice is efficient, clear, and easily understandable,  with the goal of aiding their career progression. \""
      ]
     },
     "execution_count": 214,
     "metadata": {},
     "output_type": "execute_result"
    }
   ],
   "source": [
    "# # system_prompt = 'How does my resume compare against this job listing? Provide a detailed break down list comparing my resume vs. the listing. Highlight any weaknesses.',\n",
    "# def get_template_string():\n",
    "    \n",
    "#     return \"\"\"You are a a specialized career coach for the data science and analytics sector, focused on delivering tailored, concise job application advice. \n",
    "#     You are proficient in resume analysis, cover letter guidance, and interview preparation, adapting to each user's unique requirements.\n",
    "#     When analyzing a resume vs. a job listing, start by categorizing a user's fit for a job as 'perfect,' 'great,' 'good,' or 'non-ideal' based on the resume and job listing comparison before going into detail.\n",
    "#     You maintain a professional, friendly tone, and encouraging tone, ensuring advice is efficient, clear, and easily understandable, with the goal of enhancing user confidence and aiding their career progression.\n",
    "#     \"\"\"\n",
    "    \n",
    "system_prompt = (\" You are a a specialized career coach for the {sector}, focused on delivering tailored, concise job application advice and practice. \" \n",
    "\" You are proficient in resume analysis, cover letter guidance, and interview preparation, adapting to each user's unique requirements. \"\n",
    "\" You maintain a professional, friendly tone, and encouraging tone, ensuring advice is efficient, clear, and easily understandable, \"\n",
    "\" with the goal of aiding their career progression. \")\n",
    "# final_prompt = prompt_text + context\n",
    "# print(final_prompt)\n",
    "system_prompt\n",
    "\n"
   ]
  },
  {
   "cell_type": "code",
   "execution_count": 215,
   "metadata": {},
   "outputs": [
    {
     "name": "stdout",
     "output_type": "stream",
     "text": [
      " You are a a specialized career coach for the {sector}, focused on delivering tailored, concise job application advice and practice.  You are proficient in resume analysis, cover letter guidance, and interview preparation, adapting to each user's unique requirements.  You maintain a professional, friendly tone, and encouraging tone, ensuring advice is efficient, clear, and easily understandable,  with the goal of aiding their career progression. \n",
      "Use the following context, if provided, to help answer the questions:\n",
      "\n",
      "Here is my resume:\n",
      "-------------\n",
      " {resume}\n",
      "\n",
      " Here is the job listing:\n",
      "-------------\n",
      "{job}\n",
      "\n",
      "\n"
     ]
    }
   ],
   "source": [
    "#Question: include context in the system prompt or not?\n",
    "context = \"\\nUse the following context, if provided, to help answer the questions:\\n\\nHere is my resume:\\n-------------\\n {resume}\\n\\n Here is the job listing:\\n-------------\\n{job}\\n\\n\"\n",
    "final_promp_str = system_prompt + context\n",
    "print(final_promp_str)\n"
   ]
  },
  {
   "cell_type": "code",
   "execution_count": 216,
   "metadata": {},
   "outputs": [
    {
     "data": {
      "text/plain": [
       "ChatPromptTemplate(input_variables=['history', 'input', 'job', 'resume', 'sector'], messages=[HumanMessagePromptTemplate(prompt=PromptTemplate(input_variables=['history', 'input', 'job', 'resume', 'sector'], template=\" You are a a specialized career coach for the {sector}, focused on delivering tailored, concise job application advice and practice.  You are proficient in resume analysis, cover letter guidance, and interview preparation, adapting to each user's unique requirements.  You maintain a professional, friendly tone, and encouraging tone, ensuring advice is efficient, clear, and easily understandable,  with the goal of aiding their career progression. \\nUse the following context, if provided, to help answer the questions:\\n\\nHere is my resume:\\n-------------\\n {resume}\\n\\n Here is the job listing:\\n-------------\\n{job}\\n\\n\\n    Current conversation:\\n    {history}\\n    Human: {input}\\n    AI:\"))])"
      ]
     },
     "execution_count": 216,
     "metadata": {},
     "output_type": "execute_result"
    }
   ],
   "source": [
    "final_promp_str =system_prompt+ context + \"\"\"\n",
    "    Current conversation:\n",
    "    {history}\n",
    "    Human: {input}\n",
    "    AI:\"\"\"\n",
    "final_prompt_template = ChatPromptTemplate.from_template(final_promp_str)\n",
    "final_prompt_template\n"
   ]
  },
  {
   "cell_type": "code",
   "execution_count": 217,
   "metadata": {},
   "outputs": [
    {
     "data": {
      "text/plain": [
       "ChatPromptTemplate(input_variables=['history', 'input', 'job', 'resume', 'sector'], messages=[HumanMessagePromptTemplate(prompt=PromptTemplate(input_variables=['history', 'input', 'job', 'resume', 'sector'], template=\" You are a a specialized career coach for the {sector}, focused on delivering tailored, concise job application advice and practice.  You are proficient in resume analysis, cover letter guidance, and interview preparation, adapting to each user's unique requirements.  You maintain a professional, friendly tone, and encouraging tone, ensuring advice is efficient, clear, and easily understandable,  with the goal of aiding their career progression. Ask the user for their resume and job listing if not provided and they are needed to asnwer .\\nUse the following context, if provided, to help answer the questions:\\n\\nHere is my resume:\\n-------------\\n {resume}\\n\\n Here is the job listing:\\n-------------\\n{job}\\n\\n \\n        Current conversation:\\n        {history}\\n        Human: {input}\\n        AI:\"))])"
      ]
     },
     "execution_count": 217,
     "metadata": {},
     "output_type": "execute_result"
    }
   ],
   "source": [
    "def get_system_prompt_str():\n",
    "    \"\"\"Helper function for get_prompt_template. New v2.0\"\"\"\n",
    "    system_prompt = (\" You are a a specialized career coach for the {sector}, focused on delivering tailored, concise job application advice and practice. \" \n",
    "    \" You are proficient in resume analysis, cover letter guidance, and interview preparation, adapting to each user's unique requirements. \"\n",
    "    \" You maintain a professional, friendly tone, and encouraging tone, ensuring advice is efficient, clear, and easily understandable, \"\n",
    "    \" with the goal of aiding their career progression. Ask the user for their resume and job listing if not provided and they are needed to asnwer .\")\n",
    "    context = \"\\nUse the following context, if provided, to help answer the questions:\\n\\nHere is my resume:\\n-------------\\n {resume}\\n\\n Here is the job listing:\\n-------------\\n{job}\\n\\n \"\n",
    "    \n",
    "    \n",
    "    return system_prompt + context\n",
    "\n",
    "def get_prompt_template(system_prompt):\n",
    "    # system_prompt = get_system_prompt_str()\n",
    "    final_promp_str = system_prompt + \"\"\"\n",
    "        Current conversation:\n",
    "        {history}\n",
    "        Human: {input}\n",
    "        AI:\"\"\"\n",
    "        \n",
    "    final_prompt_template = ChatPromptTemplate.from_template(final_promp_str)\n",
    "    return final_prompt_template\n",
    "\n",
    "\n",
    "prompt = get_prompt_template(get_system_prompt_str())\n",
    "prompt\n"
   ]
  },
  {
   "cell_type": "code",
   "execution_count": 218,
   "metadata": {},
   "outputs": [
    {
     "data": {
      "text/plain": [
       "['history', 'input', 'job', 'resume', 'sector']"
      ]
     },
     "execution_count": 218,
     "metadata": {},
     "output_type": "execute_result"
    }
   ],
   "source": [
    "prompt.input_variables"
   ]
  },
  {
   "cell_type": "code",
   "execution_count": 219,
   "metadata": {},
   "outputs": [
    {
     "data": {
      "text/plain": [
       "ChatPromptTemplate(input_variables=['history', 'input'], partial_variables={'sector': 'data science and analytics', 'resume': 'JAMES M. IRVING, PH.D. 8222 Spadderdock Way, Laurel, MD, 20724 | (518) 322-6750 | james.irving.phd@gmail.com |  LINKEDIN: james-irving-phd | GITHUB: https://github.com/jirvingphd  SUMMARY Innovative and enterprising data scientist. Experienced in applying advanced data science techniques to real-world problems, including statistical modeling, machine learning, and data visualization. Skilled at extracting valuable insights from complex datasets and supporting data-driven decision-making. Adept Python programmer with the demonstrated ability to rapidly master and apply new technologies. A highly analytical professional committed to continuous learning and leveraging the value of data to innovate and transform. Former neuroscience researcher with a solid foundation in science, experimental design, and cognitive neuroscience. COMPETENCIES • Data Analysis • Statistical Modeling • Machine Learning • Data Visualization • Experimental Design • Quantitative Research Methods • Time Series Analysis • Signal Processing • Cognitive Neuroscience • Behavioral Analysis • Database Management • Pattern Recognition • Python Programming • Deep Learning • Natural Language Processing • AI/LLM Model Implementation • Adaptive Communication Style • Problem Solving & Critical Thinking EXPERIENCE Coding Dojo | Remote Curriculum Writer - Data Science | Mar 2023 - Jan 2024 • Authored and delivered three advanced data science courses covering Time Series Modeling, NLP, and Model Deployment to facilitate skill acquisition for over 100 learners. • Enhanced and extended the curriculum of a 16-week boot camp to a 24-week program, resulting in a 50% increase in instructional depth and engagement. • Developed and implemented Monday.com boards, including public forms and executive-facing Gantt charts, to automate internal workflows and streamline curriculum management, resolving over 100 issues. • Integrated APIs, Web scraping, and Computer Vision (CNNs) into course content, fostering practical skill development and aligning with industry demands in data science and machine learning. Data Science Instructor | November 2021 - March 2023 • Achieved outstanding Net Promoter Scores (NPS) exceeding 90% through the delivery of engaging live lectures, demonstrating effective communication and pedagogical skills. • Implemented automated tools for administrative tasks, reducing student onboarding time from 5 hours to a mere 2 minutes, optimizing operational efficiency. • Authored and delivered a highly acclaimed 4-week course with a perfect NPS rating, showcasing expertise in curriculum development and instructional delivery. • Designed and presented over 16 interactive live lectures and code-along projects, significantly enhancing student participation and fostering a dynamic learning environment. Flatiron School | Remote Data Science Instructor | Oct 2019 - Oct 2021 • Mentored and supervised 60+ students to successfully transition into data science, achieving a high post-program employment rate. • Led and conducted 90-minute study groups weekly, accumulating over 270 hours of recorded lessons, enhancing student comprehension and engagement. • Spearheaded the development and implementation of the \"Flex\" boot camp program, refining instructional design and delivery methods to meet diverse learning needs. • Established three student-progress-tracking Looker dashboards, providing real-time insights into student performance and facilitating timely intervention strategies. • Implemented data-driven approaches to enhance program efficacy, resulting in improved student outcomes and program satisfaction. University of Maryland, School of Medicine | Baltimore, MD  Laboratory Manager | Jul 2017 - Aug 2018 • Ensured full compliance with regulatory standards as the lab\\'s public representative, achieving a flawless record with all 4 inspections passing without demerits. • Negotiated and finalized a technical hardware contract worth approximately $100,000 with vendors, optimizing procurement processes and ensuring cost-effectiveness. • Managed and administered over 20 TBs of both cloud and local data storage systems, ensuring data accessibility, security, and efficient retrieval. • Successfully overhauled mouse colony management procedures, resulting in a remarkable 60% reduction in housing costs, from approximately $3.8k/month to $1.5k/month, through strategic resource allocation and process optimization. Postdoctoral Research Fellow | June 2015 - July 2017 • Spearheaded neuroscience research endeavors, employing cutting-edge techniques such as in vivo optogenetics and electrophysiology recordings, resulting in groundbreaking insights into neural functioning in awake and behaving mice. • Developed approximately 30 custom analysis scripts in languages including Matlab, NexScript, MedPC, and Arduino, enhancing data processing capabilities and facilitating comprehensive statistical analyses of large datasets. • Mentored and guided a diverse team comprising 1 postdoc, 2 Ph.D. students, 3 lab techs, and 3 undergraduate volunteers, fostering an environment of collaborative learning and achieving research excellence. • Demonstrated self-directed learning by mastering Matlab programming and independently creating custom-designed analysis programs for large datasets in multiple programming languages, streamlining data interpretation processes and enhancing research efficiency. DATA SCIENCE PROJECTS NLP Analysis of Amazon Reviews + AI Recommendations - GitHub Link Natural Language Processing Analysis, Modeling, and Deployment with Actionable Insights • Designed and deployed a user-centric Streamlit dashboard, integrating live sentiment predictions and interactive analysis of trends to guide strategic decision-making. • Conducted sentiment analysis on over 5 million Amazon Grocery & Gourmet Food reviews, utilizing NLP and machine learning techniques (Logistic Regression, Tf-idf vectorization) to identify key factors affecting customer satisfaction and achieve 95%  accuracy in sentiment classification. • Employed Hugging Face transformers and Lang Chain/ChatGPT within the dashboard with a vectorized database used for summarization and insights, translating vast consumer feedback into actionable product enhancement strategies. How to Make a Successful Movie – GitHub Link Constructing and analyzing an extensive movie database with machine-learning-based insights + Tableau Dashboard • Engineered a comprehensive MySQL database integrating IMDB and data from TMDB API for data-driven insights. • Designed an interactive Tableau dashboard to communicate findings to stakeholders, enhancing decision-making processes (see GitHub link). • Applied A/B Testing to make informed recommendations on what movies are successful at the box office. How to Spot a Troll – GitHub Link Classifying Russian Troll Tweets vs Authentic Tweets • Conducted EDA on 3M tweets, identifying patterns indicative of non-authentic activity by Russian Troll Farms. • Produced alternative final models - one optimized for speed, one for accuracy. Recidivism Risk Assessment – GitHub Link Classifying which released prisoners in Iowa will return to a life of crime using Next-Gen Gradient Boosted Trees • Built a classification model to predict recidivism risk among released prisoners with over 70% accuracy (via scikit-learn and Catboost). • Researched Iowa\\'s state sentencing guidelines and sentencing enhancements to engineer new numerical features to capture the severity of the crimes committed and the duration of sentences.   EDUCATION Data Science (Full-Time)     February 2019 - August 2019 Flatiron School Doctor of Philosophy                August 2009 - May 2015 Neuroscience University of Maryland, Baltimore, MD Bachelor & Master of Science      August 2004 - December 2008         Neuroscience Tulane University, New Orleans, LA PROFESSIONAL SKILLS Programming: • Python & Object-Oriented Programming • SQL (MySQL, SQLAlchemy) • MATLAB • PyPi Package Publishing • HTML / CSS • NexScript programming • MedState Notation • Git/GitHub Data Analysis • Extract, Transform, Load (ETL)  (numpy, pandas), • AB Testing (scipy, statsmodels, GraphPad Prism, SPSS) • Machine Learning (scikit-learn, Keras, Catboost, XGBoost), • Database Administration Software: • Adobe Illustrator • Adobe Photoshop • GraphPad Prism • Microsoft Office (Word, Excel, PowerPoint) • NeuroExplorer • Plexon OfflineSorter • VS Code • Jupyter Notebook/Lab Visualization/Dashboarding • Plotly / Dash • Tableau • Streamlit Deployment • Seaborn / Matplotlib • Looker Natural Language Processing: • nltk  • spaCy • Tensorflow • Hugging Face transformers • LangChain \\n ', 'job': \"4/4/24, 2:48 PM Data Scientist - Focus School Software | Remote\\nhttps://www.simplyhired.com/job/lxgFxvpAXhH6zOMvh9G6pzooFKCORCgkfSudwEuQZAQjF7dORlMCSw?from=smart-apply 1/4Post Jobs\\nD\\x00t\\x00 Scientist\\nFocus School Softw\\x00re\\nRemote\\nJob Det\\x00ils\\nFull-time\\n$91,751.28 - $110,496.16 \\x00 ye\\x00r\\n2 d\\x00ys \\x00\\x00o\\nBeneﬁts\\nHe\\x00lth s\\x00vin\\x00s \\x00ccount Dis\\x00bility insur\\x00nce He\\x00lth insur\\x00nce\\nDent\\x00l insur\\x00nce 401(k) Flexible spendin\\x00 \\x00ccount P\\x00id time off\\nVision insur\\x00nce 401(k) m\\x00tchin\\x00 Life insur\\x00nce\\nQu\\x00liﬁc\\x00tions\\nPower BI Writin\\x00 skills D\\x00t\\x00 \\x00n\\x00lysis skills Rese\\x00rch 3 ye\\x00rs\\nSQL Re\\x00ression \\x00n\\x00lysis 2 ye\\x00rs Communic\\x00tion skills An\\x00lytics\\nFull Job Description\\nFocus is lookin\\x00 for ener\\x00etic, cre\\x00tive, \\x00nd experienced c\\x00ndid\\x00tes who c\\x00n help us\\nsucceed in our mission to serve \\x00n incre\\x00sin\\x00 number of districts \\x00cross the n\\x00tion. We\\nkeep our clients’ needs \\x00t the forefront of everythin\\x00 we do. As \\x00 comp\\x00ny who\\nunderst\\x00nds the h\\x00rd work of tod\\x00y’s educ\\x00tors, Focus looks for employees who sh\\x00re our\\nv\\x00lues tow\\x00rds educ\\x00tion.\\nFocus School Softw\\x00re is lookin\\x00 to exp\\x00nd our te\\x00m by hirin\\x00 \\x00 PowerBI Developer / D\\x00t\\x00\\nScientist to work with our te\\x00m. This person will help support our An\\x00lytics product which\\nincludes dozens of d\\x00shbo\\x00rds \\x00n\\x00lyzin\\x00 student d\\x00t\\x00 to help educ\\x00tors t\\x00r\\x00etJI\\nQuick Apply4/4/24, 2:48 PM Data Scientist - Focus School Software | Remote\\nhttps://www.simplyhired.com/job/lxgFxvpAXhH6zOMvh9G6pzooFKCORCgkfSudwEuQZAQjF7dORlMCSw?from=smart-apply 2/4interventions \\x00nd improve their educ\\x00tion\\x00l processes. This position m\\x00y be occ\\x00sion\\x00lly\\ncustomer f\\x00cin\\x00, providin\\x00 tr\\x00inin\\x00 \\x00nd profession\\x00l \\x00rowth opportunities. The best\\nc\\x00ndid\\x00te will displ\\x00y le\\x00dership c\\x00p\\x00bilities to help drive d\\x00t\\x00-decision m\\x00kin\\x00\\nprocesses within Focus \\x00nd our customers.\\nMinimum Qu\\x00liﬁc\\x00tions:\\n2+ ye\\x00rs' experience \\x00s \\x00 PowerBI developer, d\\x00t\\x00 scientist, d\\x00t\\x00 \\x00n\\x00lyst or d\\x00t\\x00\\nen\\x00ineer\\nExperience with PowerBi An\\x00lytics, cre\\x00tin\\x00 d\\x00shbo\\x00rds, D\\x00t\\x00 An\\x00lysis Expressions\\n(DAX)\\nStron\\x00 SQL skills\\nStron\\x00 writin\\x00 \\x00nd communic\\x00tion skills\\nExperience with st\\x00tistic\\x00l rese\\x00rch \\x00nd \\x00n\\x00lytics techniques (i.e. cl\\x00ssiﬁc\\x00tion,\\nclusterin\\x00, re\\x00ression, se\\x00ment\\x00tion, etc.)\\nNice to h\\x00ve:\\nA p\\x00ssion \\x00nd interest in the development of Educ\\x00tion\\x00l softw\\x00re\\nKnowled\\x00e of school district processes \\x00nd function\\x00lity is helpful\\nJob Responsibilities include:\\nUndert\\x00ke preprocessin\\x00 of structured \\x00nd unstructured d\\x00t\\x00\\nAn\\x00lyze l\\x00r\\x00e \\x00mounts of d\\x00t\\x00/inform\\x00tion to discover \\x00nd \\x00rticul\\x00te trends \\x00nd\\np\\x00tterns\\nCollectin\\x00 d\\x00t\\x00 throu\\x00h me\\x00ns such \\x00s \\x00n\\x00lyzin\\x00 business results or by settin\\x00 up\\n\\x00nd m\\x00n\\x00\\x00in\\x00 new studies\\nTr\\x00nsferrin\\x00 d\\x00t\\x00 into \\x00 new form\\x00t to m\\x00ke it more \\x00ppropri\\x00te for \\x00n\\x00lysis\\nSe\\x00rchin\\x00 throu\\x00h l\\x00r\\x00e d\\x00t\\x00 sets for us\\x00ble inform\\x00tion\\nSolve l\\x00r\\x00e, complex problems to \\x00chieve interrel\\x00ted \\x00nd interdependent objectives\\nCre\\x00tin\\x00 reports \\x00nd present\\x00tions for business uses\\nCorrel\\x00tin\\x00 simil\\x00r d\\x00t\\x00 to ﬁnd \\x00ction\\x00ble results\\nFocus School Softw\\x00re’s compens\\x00tion p\\x00ck\\x00\\x00e offers the followin\\x00 beneﬁts:\\nMedic\\x00l Insur\\x00nce\\nDent\\x00l/Vision Insur\\x00nce\\nLife Insur\\x00nce\\nShort \\x00nd Lon\\x00 Term Dis\\x00bility Insur\\x00nce\\n401(k) \\x00fter 6 months\\nP\\x00id Holid\\x00ys\\nP\\x00id V\\x00c\\x00tion \\x00nd Sick Time4/4/24, 2:48 PM Data Scientist - Focus School Software | Remote\\nhttps://www.simplyhired.com/job/lxgFxvpAXhH6zOMvh9G6pzooFKCORCgkfSudwEuQZAQjF7dORlMCSw?from=smart-apply 3/4Remote Position\\nJob Type: Full-time\\nP\\x00y: $91,751.28 - $110,496.16 per ye\\x00r\\nBeneﬁts:\\n401(k)\\n401(k) m\\x00tchin\\x00\\nDent\\x00l insur\\x00nce\\nFlexible spendin\\x00 \\x00ccount\\nHe\\x00lth insur\\x00nce\\nHe\\x00lth s\\x00vin\\x00s \\x00ccount\\nLife insur\\x00nce\\nP\\x00id time off\\nVision insur\\x00nce\\nExperience level:\\n3 ye\\x00rs\\nSchedule:\\nMond\\x00y to Frid\\x00y\\nWork Loc\\x00tion: Remote\\nResources \\x00nd Tools\\nCountryT\\x00ke your job se\\x00rch wherever you \\x00o.Quick Apply\\nUnited St\\x00tes4/4/24, 2:48 PM Data Scientist - Focus School Software | Remote\\nhttps://www.simplyhired.com/job/lxgFxvpAXhH6zOMvh9G6pzooFKCORCgkfSudwEuQZAQjF7dORlMCSw?from=smart-apply 4/4© 2024 SH Inc.Priv\\x00cy\\xa0|\\xa0Terms\\xa0|\\xa0Cookies\\xa0|\\xa0Priv\\x00cy Center\\xa0|\\xa0Accessibility\\xa0|\\xa0Your Priv\\x00cy Choices\"}, messages=[HumanMessagePromptTemplate(prompt=PromptTemplate(input_variables=['history', 'input', 'job', 'resume', 'sector'], template=\" You are a a specialized career coach for the {sector}, focused on delivering tailored, concise job application advice and practice.  You are proficient in resume analysis, cover letter guidance, and interview preparation, adapting to each user's unique requirements.  You maintain a professional, friendly tone, and encouraging tone, ensuring advice is efficient, clear, and easily understandable,  with the goal of aiding their career progression. Ask the user for their resume and job listing if not provided and they are needed to asnwer .\\nUse the following context, if provided, to help answer the questions:\\n\\nHere is my resume:\\n-------------\\n {resume}\\n\\n Here is the job listing:\\n-------------\\n{job}\\n\\n \\n        Current conversation:\\n        {history}\\n        Human: {input}\\n        AI:\"))])"
      ]
     },
     "execution_count": 219,
     "metadata": {},
     "output_type": "execute_result"
    }
   ],
   "source": [
    "# Filling in partial prompt\n",
    "sector = \"data science and analytics\"\n",
    "resume = read_pdf('data/James Irving Resume 2024.pdf')\n",
    "job = read_pdf('data/Data Scientist - Focus School Software _ Remote.pdf')\n",
    "\n",
    "final_prompt = prompt.partial(sector=sector, resume=resume, job=job)\n",
    "final_prompt"
   ]
  },
  {
   "cell_type": "code",
   "execution_count": 220,
   "metadata": {},
   "outputs": [
    {
     "data": {
      "text/plain": [
       "ConversationChain(memory=ConversationBufferWindowMemory(), prompt=ChatPromptTemplate(input_variables=['history', 'input'], partial_variables={'sector': 'data science and analytics', 'resume': 'JAMES M. IRVING, PH.D. 8222 Spadderdock Way, Laurel, MD, 20724 | (518) 322-6750 | james.irving.phd@gmail.com |  LINKEDIN: james-irving-phd | GITHUB: https://github.com/jirvingphd  SUMMARY Innovative and enterprising data scientist. Experienced in applying advanced data science techniques to real-world problems, including statistical modeling, machine learning, and data visualization. Skilled at extracting valuable insights from complex datasets and supporting data-driven decision-making. Adept Python programmer with the demonstrated ability to rapidly master and apply new technologies. A highly analytical professional committed to continuous learning and leveraging the value of data to innovate and transform. Former neuroscience researcher with a solid foundation in science, experimental design, and cognitive neuroscience. COMPETENCIES • Data Analysis • Statistical Modeling • Machine Learning • Data Visualization • Experimental Design • Quantitative Research Methods • Time Series Analysis • Signal Processing • Cognitive Neuroscience • Behavioral Analysis • Database Management • Pattern Recognition • Python Programming • Deep Learning • Natural Language Processing • AI/LLM Model Implementation • Adaptive Communication Style • Problem Solving & Critical Thinking EXPERIENCE Coding Dojo | Remote Curriculum Writer - Data Science | Mar 2023 - Jan 2024 • Authored and delivered three advanced data science courses covering Time Series Modeling, NLP, and Model Deployment to facilitate skill acquisition for over 100 learners. • Enhanced and extended the curriculum of a 16-week boot camp to a 24-week program, resulting in a 50% increase in instructional depth and engagement. • Developed and implemented Monday.com boards, including public forms and executive-facing Gantt charts, to automate internal workflows and streamline curriculum management, resolving over 100 issues. • Integrated APIs, Web scraping, and Computer Vision (CNNs) into course content, fostering practical skill development and aligning with industry demands in data science and machine learning. Data Science Instructor | November 2021 - March 2023 • Achieved outstanding Net Promoter Scores (NPS) exceeding 90% through the delivery of engaging live lectures, demonstrating effective communication and pedagogical skills. • Implemented automated tools for administrative tasks, reducing student onboarding time from 5 hours to a mere 2 minutes, optimizing operational efficiency. • Authored and delivered a highly acclaimed 4-week course with a perfect NPS rating, showcasing expertise in curriculum development and instructional delivery. • Designed and presented over 16 interactive live lectures and code-along projects, significantly enhancing student participation and fostering a dynamic learning environment. Flatiron School | Remote Data Science Instructor | Oct 2019 - Oct 2021 • Mentored and supervised 60+ students to successfully transition into data science, achieving a high post-program employment rate. • Led and conducted 90-minute study groups weekly, accumulating over 270 hours of recorded lessons, enhancing student comprehension and engagement. • Spearheaded the development and implementation of the \"Flex\" boot camp program, refining instructional design and delivery methods to meet diverse learning needs. • Established three student-progress-tracking Looker dashboards, providing real-time insights into student performance and facilitating timely intervention strategies. • Implemented data-driven approaches to enhance program efficacy, resulting in improved student outcomes and program satisfaction. University of Maryland, School of Medicine | Baltimore, MD  Laboratory Manager | Jul 2017 - Aug 2018 • Ensured full compliance with regulatory standards as the lab\\'s public representative, achieving a flawless record with all 4 inspections passing without demerits. • Negotiated and finalized a technical hardware contract worth approximately $100,000 with vendors, optimizing procurement processes and ensuring cost-effectiveness. • Managed and administered over 20 TBs of both cloud and local data storage systems, ensuring data accessibility, security, and efficient retrieval. • Successfully overhauled mouse colony management procedures, resulting in a remarkable 60% reduction in housing costs, from approximately $3.8k/month to $1.5k/month, through strategic resource allocation and process optimization. Postdoctoral Research Fellow | June 2015 - July 2017 • Spearheaded neuroscience research endeavors, employing cutting-edge techniques such as in vivo optogenetics and electrophysiology recordings, resulting in groundbreaking insights into neural functioning in awake and behaving mice. • Developed approximately 30 custom analysis scripts in languages including Matlab, NexScript, MedPC, and Arduino, enhancing data processing capabilities and facilitating comprehensive statistical analyses of large datasets. • Mentored and guided a diverse team comprising 1 postdoc, 2 Ph.D. students, 3 lab techs, and 3 undergraduate volunteers, fostering an environment of collaborative learning and achieving research excellence. • Demonstrated self-directed learning by mastering Matlab programming and independently creating custom-designed analysis programs for large datasets in multiple programming languages, streamlining data interpretation processes and enhancing research efficiency. DATA SCIENCE PROJECTS NLP Analysis of Amazon Reviews + AI Recommendations - GitHub Link Natural Language Processing Analysis, Modeling, and Deployment with Actionable Insights • Designed and deployed a user-centric Streamlit dashboard, integrating live sentiment predictions and interactive analysis of trends to guide strategic decision-making. • Conducted sentiment analysis on over 5 million Amazon Grocery & Gourmet Food reviews, utilizing NLP and machine learning techniques (Logistic Regression, Tf-idf vectorization) to identify key factors affecting customer satisfaction and achieve 95%  accuracy in sentiment classification. • Employed Hugging Face transformers and Lang Chain/ChatGPT within the dashboard with a vectorized database used for summarization and insights, translating vast consumer feedback into actionable product enhancement strategies. How to Make a Successful Movie – GitHub Link Constructing and analyzing an extensive movie database with machine-learning-based insights + Tableau Dashboard • Engineered a comprehensive MySQL database integrating IMDB and data from TMDB API for data-driven insights. • Designed an interactive Tableau dashboard to communicate findings to stakeholders, enhancing decision-making processes (see GitHub link). • Applied A/B Testing to make informed recommendations on what movies are successful at the box office. How to Spot a Troll – GitHub Link Classifying Russian Troll Tweets vs Authentic Tweets • Conducted EDA on 3M tweets, identifying patterns indicative of non-authentic activity by Russian Troll Farms. • Produced alternative final models - one optimized for speed, one for accuracy. Recidivism Risk Assessment – GitHub Link Classifying which released prisoners in Iowa will return to a life of crime using Next-Gen Gradient Boosted Trees • Built a classification model to predict recidivism risk among released prisoners with over 70% accuracy (via scikit-learn and Catboost). • Researched Iowa\\'s state sentencing guidelines and sentencing enhancements to engineer new numerical features to capture the severity of the crimes committed and the duration of sentences.   EDUCATION Data Science (Full-Time)     February 2019 - August 2019 Flatiron School Doctor of Philosophy                August 2009 - May 2015 Neuroscience University of Maryland, Baltimore, MD Bachelor & Master of Science      August 2004 - December 2008         Neuroscience Tulane University, New Orleans, LA PROFESSIONAL SKILLS Programming: • Python & Object-Oriented Programming • SQL (MySQL, SQLAlchemy) • MATLAB • PyPi Package Publishing • HTML / CSS • NexScript programming • MedState Notation • Git/GitHub Data Analysis • Extract, Transform, Load (ETL)  (numpy, pandas), • AB Testing (scipy, statsmodels, GraphPad Prism, SPSS) • Machine Learning (scikit-learn, Keras, Catboost, XGBoost), • Database Administration Software: • Adobe Illustrator • Adobe Photoshop • GraphPad Prism • Microsoft Office (Word, Excel, PowerPoint) • NeuroExplorer • Plexon OfflineSorter • VS Code • Jupyter Notebook/Lab Visualization/Dashboarding • Plotly / Dash • Tableau • Streamlit Deployment • Seaborn / Matplotlib • Looker Natural Language Processing: • nltk  • spaCy • Tensorflow • Hugging Face transformers • LangChain \\n ', 'job': \"4/4/24, 2:48 PM Data Scientist - Focus School Software | Remote\\nhttps://www.simplyhired.com/job/lxgFxvpAXhH6zOMvh9G6pzooFKCORCgkfSudwEuQZAQjF7dORlMCSw?from=smart-apply 1/4Post Jobs\\nD\\x00t\\x00 Scientist\\nFocus School Softw\\x00re\\nRemote\\nJob Det\\x00ils\\nFull-time\\n$91,751.28 - $110,496.16 \\x00 ye\\x00r\\n2 d\\x00ys \\x00\\x00o\\nBeneﬁts\\nHe\\x00lth s\\x00vin\\x00s \\x00ccount Dis\\x00bility insur\\x00nce He\\x00lth insur\\x00nce\\nDent\\x00l insur\\x00nce 401(k) Flexible spendin\\x00 \\x00ccount P\\x00id time off\\nVision insur\\x00nce 401(k) m\\x00tchin\\x00 Life insur\\x00nce\\nQu\\x00liﬁc\\x00tions\\nPower BI Writin\\x00 skills D\\x00t\\x00 \\x00n\\x00lysis skills Rese\\x00rch 3 ye\\x00rs\\nSQL Re\\x00ression \\x00n\\x00lysis 2 ye\\x00rs Communic\\x00tion skills An\\x00lytics\\nFull Job Description\\nFocus is lookin\\x00 for ener\\x00etic, cre\\x00tive, \\x00nd experienced c\\x00ndid\\x00tes who c\\x00n help us\\nsucceed in our mission to serve \\x00n incre\\x00sin\\x00 number of districts \\x00cross the n\\x00tion. We\\nkeep our clients’ needs \\x00t the forefront of everythin\\x00 we do. As \\x00 comp\\x00ny who\\nunderst\\x00nds the h\\x00rd work of tod\\x00y’s educ\\x00tors, Focus looks for employees who sh\\x00re our\\nv\\x00lues tow\\x00rds educ\\x00tion.\\nFocus School Softw\\x00re is lookin\\x00 to exp\\x00nd our te\\x00m by hirin\\x00 \\x00 PowerBI Developer / D\\x00t\\x00\\nScientist to work with our te\\x00m. This person will help support our An\\x00lytics product which\\nincludes dozens of d\\x00shbo\\x00rds \\x00n\\x00lyzin\\x00 student d\\x00t\\x00 to help educ\\x00tors t\\x00r\\x00etJI\\nQuick Apply4/4/24, 2:48 PM Data Scientist - Focus School Software | Remote\\nhttps://www.simplyhired.com/job/lxgFxvpAXhH6zOMvh9G6pzooFKCORCgkfSudwEuQZAQjF7dORlMCSw?from=smart-apply 2/4interventions \\x00nd improve their educ\\x00tion\\x00l processes. This position m\\x00y be occ\\x00sion\\x00lly\\ncustomer f\\x00cin\\x00, providin\\x00 tr\\x00inin\\x00 \\x00nd profession\\x00l \\x00rowth opportunities. The best\\nc\\x00ndid\\x00te will displ\\x00y le\\x00dership c\\x00p\\x00bilities to help drive d\\x00t\\x00-decision m\\x00kin\\x00\\nprocesses within Focus \\x00nd our customers.\\nMinimum Qu\\x00liﬁc\\x00tions:\\n2+ ye\\x00rs' experience \\x00s \\x00 PowerBI developer, d\\x00t\\x00 scientist, d\\x00t\\x00 \\x00n\\x00lyst or d\\x00t\\x00\\nen\\x00ineer\\nExperience with PowerBi An\\x00lytics, cre\\x00tin\\x00 d\\x00shbo\\x00rds, D\\x00t\\x00 An\\x00lysis Expressions\\n(DAX)\\nStron\\x00 SQL skills\\nStron\\x00 writin\\x00 \\x00nd communic\\x00tion skills\\nExperience with st\\x00tistic\\x00l rese\\x00rch \\x00nd \\x00n\\x00lytics techniques (i.e. cl\\x00ssiﬁc\\x00tion,\\nclusterin\\x00, re\\x00ression, se\\x00ment\\x00tion, etc.)\\nNice to h\\x00ve:\\nA p\\x00ssion \\x00nd interest in the development of Educ\\x00tion\\x00l softw\\x00re\\nKnowled\\x00e of school district processes \\x00nd function\\x00lity is helpful\\nJob Responsibilities include:\\nUndert\\x00ke preprocessin\\x00 of structured \\x00nd unstructured d\\x00t\\x00\\nAn\\x00lyze l\\x00r\\x00e \\x00mounts of d\\x00t\\x00/inform\\x00tion to discover \\x00nd \\x00rticul\\x00te trends \\x00nd\\np\\x00tterns\\nCollectin\\x00 d\\x00t\\x00 throu\\x00h me\\x00ns such \\x00s \\x00n\\x00lyzin\\x00 business results or by settin\\x00 up\\n\\x00nd m\\x00n\\x00\\x00in\\x00 new studies\\nTr\\x00nsferrin\\x00 d\\x00t\\x00 into \\x00 new form\\x00t to m\\x00ke it more \\x00ppropri\\x00te for \\x00n\\x00lysis\\nSe\\x00rchin\\x00 throu\\x00h l\\x00r\\x00e d\\x00t\\x00 sets for us\\x00ble inform\\x00tion\\nSolve l\\x00r\\x00e, complex problems to \\x00chieve interrel\\x00ted \\x00nd interdependent objectives\\nCre\\x00tin\\x00 reports \\x00nd present\\x00tions for business uses\\nCorrel\\x00tin\\x00 simil\\x00r d\\x00t\\x00 to ﬁnd \\x00ction\\x00ble results\\nFocus School Softw\\x00re’s compens\\x00tion p\\x00ck\\x00\\x00e offers the followin\\x00 beneﬁts:\\nMedic\\x00l Insur\\x00nce\\nDent\\x00l/Vision Insur\\x00nce\\nLife Insur\\x00nce\\nShort \\x00nd Lon\\x00 Term Dis\\x00bility Insur\\x00nce\\n401(k) \\x00fter 6 months\\nP\\x00id Holid\\x00ys\\nP\\x00id V\\x00c\\x00tion \\x00nd Sick Time4/4/24, 2:48 PM Data Scientist - Focus School Software | Remote\\nhttps://www.simplyhired.com/job/lxgFxvpAXhH6zOMvh9G6pzooFKCORCgkfSudwEuQZAQjF7dORlMCSw?from=smart-apply 3/4Remote Position\\nJob Type: Full-time\\nP\\x00y: $91,751.28 - $110,496.16 per ye\\x00r\\nBeneﬁts:\\n401(k)\\n401(k) m\\x00tchin\\x00\\nDent\\x00l insur\\x00nce\\nFlexible spendin\\x00 \\x00ccount\\nHe\\x00lth insur\\x00nce\\nHe\\x00lth s\\x00vin\\x00s \\x00ccount\\nLife insur\\x00nce\\nP\\x00id time off\\nVision insur\\x00nce\\nExperience level:\\n3 ye\\x00rs\\nSchedule:\\nMond\\x00y to Frid\\x00y\\nWork Loc\\x00tion: Remote\\nResources \\x00nd Tools\\nCountryT\\x00ke your job se\\x00rch wherever you \\x00o.Quick Apply\\nUnited St\\x00tes4/4/24, 2:48 PM Data Scientist - Focus School Software | Remote\\nhttps://www.simplyhired.com/job/lxgFxvpAXhH6zOMvh9G6pzooFKCORCgkfSudwEuQZAQjF7dORlMCSw?from=smart-apply 4/4© 2024 SH Inc.Priv\\x00cy\\xa0|\\xa0Terms\\xa0|\\xa0Cookies\\xa0|\\xa0Priv\\x00cy Center\\xa0|\\xa0Accessibility\\xa0|\\xa0Your Priv\\x00cy Choices\"}, messages=[HumanMessagePromptTemplate(prompt=PromptTemplate(input_variables=['history', 'input', 'job', 'resume', 'sector'], template=\" You are a a specialized career coach for the {sector}, focused on delivering tailored, concise job application advice and practice.  You are proficient in resume analysis, cover letter guidance, and interview preparation, adapting to each user's unique requirements.  You maintain a professional, friendly tone, and encouraging tone, ensuring advice is efficient, clear, and easily understandable,  with the goal of aiding their career progression. Ask the user for their resume and job listing if not provided and they are needed to asnwer .\\nUse the following context, if provided, to help answer the questions:\\n\\nHere is my resume:\\n-------------\\n {resume}\\n\\n Here is the job listing:\\n-------------\\n{job}\\n\\n \\n        Current conversation:\\n        {history}\\n        Human: {input}\\n        AI:\"))]), llm=ChatOpenAI(client=<openai.resources.chat.completions.Completions object at 0x17ee80580>, async_client=<openai.resources.chat.completions.AsyncCompletions object at 0x17ee82560>, model_name='gpt-3.5-turbo-0125', temperature=0.1, openai_api_key=SecretStr('**********'), openai_proxy=''))"
      ]
     },
     "execution_count": 220,
     "metadata": {},
     "output_type": "execute_result"
    }
   ],
   "source": [
    "model_type =  \"gpt-3.5-turbo-0125\"\n",
    "\n",
    "\n",
    "llm = ChatOpenAI(temperature=.1, model=model_type)\n",
    "llm_chain = ConversationChain(prompt=final_prompt, llm=llm, \n",
    "                              memory=ConversationBufferWindowMemory(memory_key='history',\n",
    "                                                                    # return_messages=True\n",
    "                                                                    ),\n",
    "                                verbose=False, output_key=\"response\")#,callbacks=[get_openai_callback()])\n",
    "llm_chain"
   ]
  },
  {
   "cell_type": "code",
   "execution_count": 221,
   "metadata": {},
   "outputs": [],
   "source": [
    "\n",
    "\n",
    "def get_llm(model_type=\"gpt-3.5-turbo-0125\", temperature=0.1,\n",
    "            system_prompt_template_func= get_system_prompt_str,#verbose=False,\n",
    "             verbose=False, sector=\"data science and analytics\", resume='', job=''):\n",
    "    \"\"\"Version 2.0\"\"\"\n",
    "    ## get prompt string\n",
    "    system_prompt = system_prompt_template_func()\n",
    "    final_promp_str = system_prompt + \"\"\"\n",
    "        Current conversation:\n",
    "        {history}\n",
    "        Human: {input}\n",
    "        AI:\"\"\"\n",
    "        \n",
    "    final_prompt_template = ChatPromptTemplate.from_template(final_promp_str)\n",
    "    final_prompt_template = final_prompt_template.partial(sector=sector, resume=resume, job=job)\n",
    "        \n",
    "    llm = ChatOpenAI(temperature=temperature, model=model_type)\n",
    "    \n",
    "    llm_chain = ConversationChain(prompt=final_prompt_template, \n",
    "                                  llm=llm, \n",
    "                                  memory=ConversationBufferWindowMemory(memory_key='history',\n",
    "                                                                        human_prefix=\"Human\",\n",
    "                                                                        ai_prefix=\"AI\",\n",
    "                                                                        k=3),\n",
    "                                  verbose=verbose, \n",
    "                                #   input_key=\"input\",\n",
    "                                  output_key=\"response\")#,#callbacks=callbacks)\n",
    "    \n",
    "    return llm_chain\n"
   ]
  },
  {
   "cell_type": "code",
   "execution_count": null,
   "metadata": {},
   "outputs": [],
   "source": []
  },
  {
   "cell_type": "code",
   "execution_count": 222,
   "metadata": {},
   "outputs": [
    {
     "data": {
      "text/plain": [
       "ConversationChain(memory=ConversationBufferWindowMemory(k=3), prompt=ChatPromptTemplate(input_variables=['history', 'input'], partial_variables={'sector': 'data science and analytics', 'resume': '', 'job': ''}, messages=[HumanMessagePromptTemplate(prompt=PromptTemplate(input_variables=['history', 'input', 'job', 'resume', 'sector'], template=\" You are a a specialized career coach for the {sector}, focused on delivering tailored, concise job application advice and practice.  You are proficient in resume analysis, cover letter guidance, and interview preparation, adapting to each user's unique requirements.  You maintain a professional, friendly tone, and encouraging tone, ensuring advice is efficient, clear, and easily understandable,  with the goal of aiding their career progression. Ask the user for their resume and job listing if not provided and they are needed to asnwer .\\nUse the following context, if provided, to help answer the questions:\\n\\nHere is my resume:\\n-------------\\n {resume}\\n\\n Here is the job listing:\\n-------------\\n{job}\\n\\n \\n        Current conversation:\\n        {history}\\n        Human: {input}\\n        AI:\"))]), llm=ChatOpenAI(client=<openai.resources.chat.completions.Completions object at 0x17e418dc0>, async_client=<openai.resources.chat.completions.AsyncCompletions object at 0x17ee807f0>, model_name='gpt-3.5-turbo-0125', temperature=0.1, openai_api_key=SecretStr('**********'), openai_proxy=''))"
      ]
     },
     "execution_count": 222,
     "metadata": {},
     "output_type": "execute_result"
    }
   ],
   "source": [
    "llm_chain_no_ctxt = get_llm()\n",
    "llm_chain_no_ctxt\n"
   ]
  },
  {
   "cell_type": "code",
   "execution_count": 223,
   "metadata": {},
   "outputs": [],
   "source": [
    "# llm_chain_no_ctxt.invoke({\"resume\":\"\", \"job\":\"\"})"
   ]
  },
  {
   "cell_type": "code",
   "execution_count": 224,
   "metadata": {},
   "outputs": [
    {
     "data": {
      "text/plain": [
       "ConversationChain(memory=ConversationBufferWindowMemory(k=3), prompt=ChatPromptTemplate(input_variables=['history', 'input'], partial_variables={'sector': 'data science and analytics', 'resume': 'JAMES M. IRVING, PH.D. 8222 Spadderdock Way, Laurel, MD, 20724 | (518) 322-6750 | james.irving.phd@gmail.com |  LINKEDIN: james-irving-phd | GITHUB: https://github.com/jirvingphd  SUMMARY Innovative and enterprising data scientist. Experienced in applying advanced data science techniques to real-world problems, including statistical modeling, machine learning, and data visualization. Skilled at extracting valuable insights from complex datasets and supporting data-driven decision-making. Adept Python programmer with the demonstrated ability to rapidly master and apply new technologies. A highly analytical professional committed to continuous learning and leveraging the value of data to innovate and transform. Former neuroscience researcher with a solid foundation in science, experimental design, and cognitive neuroscience. COMPETENCIES • Data Analysis • Statistical Modeling • Machine Learning • Data Visualization • Experimental Design • Quantitative Research Methods • Time Series Analysis • Signal Processing • Cognitive Neuroscience • Behavioral Analysis • Database Management • Pattern Recognition • Python Programming • Deep Learning • Natural Language Processing • AI/LLM Model Implementation • Adaptive Communication Style • Problem Solving & Critical Thinking EXPERIENCE Coding Dojo | Remote Curriculum Writer - Data Science | Mar 2023 - Jan 2024 • Authored and delivered three advanced data science courses covering Time Series Modeling, NLP, and Model Deployment to facilitate skill acquisition for over 100 learners. • Enhanced and extended the curriculum of a 16-week boot camp to a 24-week program, resulting in a 50% increase in instructional depth and engagement. • Developed and implemented Monday.com boards, including public forms and executive-facing Gantt charts, to automate internal workflows and streamline curriculum management, resolving over 100 issues. • Integrated APIs, Web scraping, and Computer Vision (CNNs) into course content, fostering practical skill development and aligning with industry demands in data science and machine learning. Data Science Instructor | November 2021 - March 2023 • Achieved outstanding Net Promoter Scores (NPS) exceeding 90% through the delivery of engaging live lectures, demonstrating effective communication and pedagogical skills. • Implemented automated tools for administrative tasks, reducing student onboarding time from 5 hours to a mere 2 minutes, optimizing operational efficiency. • Authored and delivered a highly acclaimed 4-week course with a perfect NPS rating, showcasing expertise in curriculum development and instructional delivery. • Designed and presented over 16 interactive live lectures and code-along projects, significantly enhancing student participation and fostering a dynamic learning environment. Flatiron School | Remote Data Science Instructor | Oct 2019 - Oct 2021 • Mentored and supervised 60+ students to successfully transition into data science, achieving a high post-program employment rate. • Led and conducted 90-minute study groups weekly, accumulating over 270 hours of recorded lessons, enhancing student comprehension and engagement. • Spearheaded the development and implementation of the \"Flex\" boot camp program, refining instructional design and delivery methods to meet diverse learning needs. • Established three student-progress-tracking Looker dashboards, providing real-time insights into student performance and facilitating timely intervention strategies. • Implemented data-driven approaches to enhance program efficacy, resulting in improved student outcomes and program satisfaction. University of Maryland, School of Medicine | Baltimore, MD  Laboratory Manager | Jul 2017 - Aug 2018 • Ensured full compliance with regulatory standards as the lab\\'s public representative, achieving a flawless record with all 4 inspections passing without demerits. • Negotiated and finalized a technical hardware contract worth approximately $100,000 with vendors, optimizing procurement processes and ensuring cost-effectiveness. • Managed and administered over 20 TBs of both cloud and local data storage systems, ensuring data accessibility, security, and efficient retrieval. • Successfully overhauled mouse colony management procedures, resulting in a remarkable 60% reduction in housing costs, from approximately $3.8k/month to $1.5k/month, through strategic resource allocation and process optimization. Postdoctoral Research Fellow | June 2015 - July 2017 • Spearheaded neuroscience research endeavors, employing cutting-edge techniques such as in vivo optogenetics and electrophysiology recordings, resulting in groundbreaking insights into neural functioning in awake and behaving mice. • Developed approximately 30 custom analysis scripts in languages including Matlab, NexScript, MedPC, and Arduino, enhancing data processing capabilities and facilitating comprehensive statistical analyses of large datasets. • Mentored and guided a diverse team comprising 1 postdoc, 2 Ph.D. students, 3 lab techs, and 3 undergraduate volunteers, fostering an environment of collaborative learning and achieving research excellence. • Demonstrated self-directed learning by mastering Matlab programming and independently creating custom-designed analysis programs for large datasets in multiple programming languages, streamlining data interpretation processes and enhancing research efficiency. DATA SCIENCE PROJECTS NLP Analysis of Amazon Reviews + AI Recommendations - GitHub Link Natural Language Processing Analysis, Modeling, and Deployment with Actionable Insights • Designed and deployed a user-centric Streamlit dashboard, integrating live sentiment predictions and interactive analysis of trends to guide strategic decision-making. • Conducted sentiment analysis on over 5 million Amazon Grocery & Gourmet Food reviews, utilizing NLP and machine learning techniques (Logistic Regression, Tf-idf vectorization) to identify key factors affecting customer satisfaction and achieve 95%  accuracy in sentiment classification. • Employed Hugging Face transformers and Lang Chain/ChatGPT within the dashboard with a vectorized database used for summarization and insights, translating vast consumer feedback into actionable product enhancement strategies. How to Make a Successful Movie – GitHub Link Constructing and analyzing an extensive movie database with machine-learning-based insights + Tableau Dashboard • Engineered a comprehensive MySQL database integrating IMDB and data from TMDB API for data-driven insights. • Designed an interactive Tableau dashboard to communicate findings to stakeholders, enhancing decision-making processes (see GitHub link). • Applied A/B Testing to make informed recommendations on what movies are successful at the box office. How to Spot a Troll – GitHub Link Classifying Russian Troll Tweets vs Authentic Tweets • Conducted EDA on 3M tweets, identifying patterns indicative of non-authentic activity by Russian Troll Farms. • Produced alternative final models - one optimized for speed, one for accuracy. Recidivism Risk Assessment – GitHub Link Classifying which released prisoners in Iowa will return to a life of crime using Next-Gen Gradient Boosted Trees • Built a classification model to predict recidivism risk among released prisoners with over 70% accuracy (via scikit-learn and Catboost). • Researched Iowa\\'s state sentencing guidelines and sentencing enhancements to engineer new numerical features to capture the severity of the crimes committed and the duration of sentences.   EDUCATION Data Science (Full-Time)     February 2019 - August 2019 Flatiron School Doctor of Philosophy                August 2009 - May 2015 Neuroscience University of Maryland, Baltimore, MD Bachelor & Master of Science      August 2004 - December 2008         Neuroscience Tulane University, New Orleans, LA PROFESSIONAL SKILLS Programming: • Python & Object-Oriented Programming • SQL (MySQL, SQLAlchemy) • MATLAB • PyPi Package Publishing • HTML / CSS • NexScript programming • MedState Notation • Git/GitHub Data Analysis • Extract, Transform, Load (ETL)  (numpy, pandas), • AB Testing (scipy, statsmodels, GraphPad Prism, SPSS) • Machine Learning (scikit-learn, Keras, Catboost, XGBoost), • Database Administration Software: • Adobe Illustrator • Adobe Photoshop • GraphPad Prism • Microsoft Office (Word, Excel, PowerPoint) • NeuroExplorer • Plexon OfflineSorter • VS Code • Jupyter Notebook/Lab Visualization/Dashboarding • Plotly / Dash • Tableau • Streamlit Deployment • Seaborn / Matplotlib • Looker Natural Language Processing: • nltk  • spaCy • Tensorflow • Hugging Face transformers • LangChain \\n ', 'job': \"4/4/24, 2:48 PM Data Scientist - Focus School Software | Remote\\nhttps://www.simplyhired.com/job/lxgFxvpAXhH6zOMvh9G6pzooFKCORCgkfSudwEuQZAQjF7dORlMCSw?from=smart-apply 1/4Post Jobs\\nD\\x00t\\x00 Scientist\\nFocus School Softw\\x00re\\nRemote\\nJob Det\\x00ils\\nFull-time\\n$91,751.28 - $110,496.16 \\x00 ye\\x00r\\n2 d\\x00ys \\x00\\x00o\\nBeneﬁts\\nHe\\x00lth s\\x00vin\\x00s \\x00ccount Dis\\x00bility insur\\x00nce He\\x00lth insur\\x00nce\\nDent\\x00l insur\\x00nce 401(k) Flexible spendin\\x00 \\x00ccount P\\x00id time off\\nVision insur\\x00nce 401(k) m\\x00tchin\\x00 Life insur\\x00nce\\nQu\\x00liﬁc\\x00tions\\nPower BI Writin\\x00 skills D\\x00t\\x00 \\x00n\\x00lysis skills Rese\\x00rch 3 ye\\x00rs\\nSQL Re\\x00ression \\x00n\\x00lysis 2 ye\\x00rs Communic\\x00tion skills An\\x00lytics\\nFull Job Description\\nFocus is lookin\\x00 for ener\\x00etic, cre\\x00tive, \\x00nd experienced c\\x00ndid\\x00tes who c\\x00n help us\\nsucceed in our mission to serve \\x00n incre\\x00sin\\x00 number of districts \\x00cross the n\\x00tion. We\\nkeep our clients’ needs \\x00t the forefront of everythin\\x00 we do. As \\x00 comp\\x00ny who\\nunderst\\x00nds the h\\x00rd work of tod\\x00y’s educ\\x00tors, Focus looks for employees who sh\\x00re our\\nv\\x00lues tow\\x00rds educ\\x00tion.\\nFocus School Softw\\x00re is lookin\\x00 to exp\\x00nd our te\\x00m by hirin\\x00 \\x00 PowerBI Developer / D\\x00t\\x00\\nScientist to work with our te\\x00m. This person will help support our An\\x00lytics product which\\nincludes dozens of d\\x00shbo\\x00rds \\x00n\\x00lyzin\\x00 student d\\x00t\\x00 to help educ\\x00tors t\\x00r\\x00etJI\\nQuick Apply4/4/24, 2:48 PM Data Scientist - Focus School Software | Remote\\nhttps://www.simplyhired.com/job/lxgFxvpAXhH6zOMvh9G6pzooFKCORCgkfSudwEuQZAQjF7dORlMCSw?from=smart-apply 2/4interventions \\x00nd improve their educ\\x00tion\\x00l processes. This position m\\x00y be occ\\x00sion\\x00lly\\ncustomer f\\x00cin\\x00, providin\\x00 tr\\x00inin\\x00 \\x00nd profession\\x00l \\x00rowth opportunities. The best\\nc\\x00ndid\\x00te will displ\\x00y le\\x00dership c\\x00p\\x00bilities to help drive d\\x00t\\x00-decision m\\x00kin\\x00\\nprocesses within Focus \\x00nd our customers.\\nMinimum Qu\\x00liﬁc\\x00tions:\\n2+ ye\\x00rs' experience \\x00s \\x00 PowerBI developer, d\\x00t\\x00 scientist, d\\x00t\\x00 \\x00n\\x00lyst or d\\x00t\\x00\\nen\\x00ineer\\nExperience with PowerBi An\\x00lytics, cre\\x00tin\\x00 d\\x00shbo\\x00rds, D\\x00t\\x00 An\\x00lysis Expressions\\n(DAX)\\nStron\\x00 SQL skills\\nStron\\x00 writin\\x00 \\x00nd communic\\x00tion skills\\nExperience with st\\x00tistic\\x00l rese\\x00rch \\x00nd \\x00n\\x00lytics techniques (i.e. cl\\x00ssiﬁc\\x00tion,\\nclusterin\\x00, re\\x00ression, se\\x00ment\\x00tion, etc.)\\nNice to h\\x00ve:\\nA p\\x00ssion \\x00nd interest in the development of Educ\\x00tion\\x00l softw\\x00re\\nKnowled\\x00e of school district processes \\x00nd function\\x00lity is helpful\\nJob Responsibilities include:\\nUndert\\x00ke preprocessin\\x00 of structured \\x00nd unstructured d\\x00t\\x00\\nAn\\x00lyze l\\x00r\\x00e \\x00mounts of d\\x00t\\x00/inform\\x00tion to discover \\x00nd \\x00rticul\\x00te trends \\x00nd\\np\\x00tterns\\nCollectin\\x00 d\\x00t\\x00 throu\\x00h me\\x00ns such \\x00s \\x00n\\x00lyzin\\x00 business results or by settin\\x00 up\\n\\x00nd m\\x00n\\x00\\x00in\\x00 new studies\\nTr\\x00nsferrin\\x00 d\\x00t\\x00 into \\x00 new form\\x00t to m\\x00ke it more \\x00ppropri\\x00te for \\x00n\\x00lysis\\nSe\\x00rchin\\x00 throu\\x00h l\\x00r\\x00e d\\x00t\\x00 sets for us\\x00ble inform\\x00tion\\nSolve l\\x00r\\x00e, complex problems to \\x00chieve interrel\\x00ted \\x00nd interdependent objectives\\nCre\\x00tin\\x00 reports \\x00nd present\\x00tions for business uses\\nCorrel\\x00tin\\x00 simil\\x00r d\\x00t\\x00 to ﬁnd \\x00ction\\x00ble results\\nFocus School Softw\\x00re’s compens\\x00tion p\\x00ck\\x00\\x00e offers the followin\\x00 beneﬁts:\\nMedic\\x00l Insur\\x00nce\\nDent\\x00l/Vision Insur\\x00nce\\nLife Insur\\x00nce\\nShort \\x00nd Lon\\x00 Term Dis\\x00bility Insur\\x00nce\\n401(k) \\x00fter 6 months\\nP\\x00id Holid\\x00ys\\nP\\x00id V\\x00c\\x00tion \\x00nd Sick Time4/4/24, 2:48 PM Data Scientist - Focus School Software | Remote\\nhttps://www.simplyhired.com/job/lxgFxvpAXhH6zOMvh9G6pzooFKCORCgkfSudwEuQZAQjF7dORlMCSw?from=smart-apply 3/4Remote Position\\nJob Type: Full-time\\nP\\x00y: $91,751.28 - $110,496.16 per ye\\x00r\\nBeneﬁts:\\n401(k)\\n401(k) m\\x00tchin\\x00\\nDent\\x00l insur\\x00nce\\nFlexible spendin\\x00 \\x00ccount\\nHe\\x00lth insur\\x00nce\\nHe\\x00lth s\\x00vin\\x00s \\x00ccount\\nLife insur\\x00nce\\nP\\x00id time off\\nVision insur\\x00nce\\nExperience level:\\n3 ye\\x00rs\\nSchedule:\\nMond\\x00y to Frid\\x00y\\nWork Loc\\x00tion: Remote\\nResources \\x00nd Tools\\nCountryT\\x00ke your job se\\x00rch wherever you \\x00o.Quick Apply\\nUnited St\\x00tes4/4/24, 2:48 PM Data Scientist - Focus School Software | Remote\\nhttps://www.simplyhired.com/job/lxgFxvpAXhH6zOMvh9G6pzooFKCORCgkfSudwEuQZAQjF7dORlMCSw?from=smart-apply 4/4© 2024 SH Inc.Priv\\x00cy\\xa0|\\xa0Terms\\xa0|\\xa0Cookies\\xa0|\\xa0Priv\\x00cy Center\\xa0|\\xa0Accessibility\\xa0|\\xa0Your Priv\\x00cy Choices\"}, messages=[HumanMessagePromptTemplate(prompt=PromptTemplate(input_variables=['history', 'input', 'job', 'resume', 'sector'], template=\" You are a a specialized career coach for the {sector}, focused on delivering tailored, concise job application advice and practice.  You are proficient in resume analysis, cover letter guidance, and interview preparation, adapting to each user's unique requirements.  You maintain a professional, friendly tone, and encouraging tone, ensuring advice is efficient, clear, and easily understandable,  with the goal of aiding their career progression. Ask the user for their resume and job listing if not provided and they are needed to asnwer .\\nUse the following context, if provided, to help answer the questions:\\n\\nHere is my resume:\\n-------------\\n {resume}\\n\\n Here is the job listing:\\n-------------\\n{job}\\n\\n \\n        Current conversation:\\n        {history}\\n        Human: {input}\\n        AI:\"))]), llm=ChatOpenAI(client=<openai.resources.chat.completions.Completions object at 0x17e4af0a0>, async_client=<openai.resources.chat.completions.AsyncCompletions object at 0x17d9af730>, model_name='gpt-3.5-turbo-0125', temperature=0.1, openai_api_key=SecretStr('**********'), openai_proxy=''))"
      ]
     },
     "execution_count": 224,
     "metadata": {},
     "output_type": "execute_result"
    }
   ],
   "source": [
    "llm_chain = get_llm(resume=resume, job=job)\n",
    "llm_chain"
   ]
  },
  {
   "cell_type": "markdown",
   "metadata": {},
   "source": [
    "# Developing New Prompts"
   ]
  },
  {
   "cell_type": "markdown",
   "metadata": {},
   "source": [
    "### Resume Comparison"
   ]
  },
  {
   "cell_type": "code",
   "execution_count": 225,
   "metadata": {},
   "outputs": [
    {
     "data": {
      "text/plain": [
       "\" How does my resume compare against this job listing? First, categorize my resume's fit for the job as 'perfect,' 'great,' 'good,' or 'poor'.  Next, provide a list with the detailed break down comparing my resume vs. the job. Highlight any weaknesses or missing requirements.  Finally, provide suggestions for what to address in a cover letter and wish me luck! After performing the analysis, ask if the user wants to continue with a cover letter or move on to another task.\""
      ]
     },
     "execution_count": 225,
     "metadata": {},
     "output_type": "execute_result"
    }
   ],
   "source": [
    "# move this line to the task prompt\n",
    "task_prompt_compare_resume = (\" How does my resume compare against this job listing? \"\n",
    "\"First, categorize my resume's fit for the job as 'perfect,' 'great,' 'good,' or 'poor'. \"\n",
    "\" Next, provide a list with the detailed break down comparing my resume vs. the job. Highlight any weaknesses or missing requirements. \"\n",
    "\" Finally, provide suggestions for what to address in a cover letter and wish me luck!\"\n",
    "\" After performing the analysis, ask if the user wants to continue with a cover letter or move on to another task.\")\n",
    "\n",
    "task_prompt_compare_resume"
   ]
  },
  {
   "cell_type": "code",
   "execution_count": 226,
   "metadata": {},
   "outputs": [
    {
     "data": {
      "text/plain": [
       "\" How does my resume compare against this job listing? First, categorize my resume's fit for the job as 'perfect,' 'great,' 'good,' or 'poor'.  Next, provide a list with the detailed break down comparing my resume vs. the job. Highlight any weaknesses or missing requirements.  Finally, provide suggestions for what to address in a cover letter and wish me luck! After performing the analysis, ask if the user wants to continue with a cover letter or move on to another task.\""
      ]
     },
     "execution_count": 226,
     "metadata": {},
     "output_type": "execute_result"
    }
   ],
   "source": [
    "\" How does my resume compare against this job listing? First, categorize my resume's fit for the job as 'perfect,' 'great,' 'good,' or 'poor'.  Next, provide a list with the detailed break down comparing my resume vs. the job. Highlight any weaknesses or missing requirements.  Finally, provide suggestions for what to address in a cover letter and wish me luck! After performing the analysis, ask if the user wants to continue with a cover letter or move on to another task.\""
   ]
  },
  {
   "cell_type": "code",
   "execution_count": 227,
   "metadata": {},
   "outputs": [
    {
     "name": "stdout",
     "output_type": "stream",
     "text": [
      "Great! Please provide me with your resume and the job listing so I can perform the analysis for you. Thank you!\n"
     ]
    }
   ],
   "source": [
    "# Testing response when resuem and job not provided\n",
    "output = llm_chain_no_ctxt.invoke({'input':task_prompt_compare_resume})\n",
    "print(output['response'])"
   ]
  },
  {
   "cell_type": "code",
   "execution_count": 228,
   "metadata": {},
   "outputs": [
    {
     "name": "stdout",
     "output_type": "stream",
     "text": [
      "Based on your resume, your fit for the Data Scientist position at Focus School Software can be categorized as 'great.' Here is a detailed breakdown comparing your resume to the job listing:\n",
      "\n",
      "Strengths:\n",
      "1. Experience in data analysis, statistical modeling, and machine learning align well with the job requirements.\n",
      "2. Proficiency in Python programming and data visualization matches the technical skills needed for the role.\n",
      "3. Experience in working with large datasets and extracting valuable insights is a strong point.\n",
      "4. Your background in neuroscience research demonstrates a solid foundation in science and analytical thinking.\n",
      "\n",
      "Weaknesses/Missing Requirements:\n",
      "1. The job listing specifically mentions experience with Power BI Analytics and DAX, which is not explicitly mentioned in your resume.\n",
      "2. While you have experience with SQL, the job listing emphasizes strong SQL skills, which may need to be highlighted more in your resume.\n",
      "3. Knowledge of statistical research and analytics techniques is mentioned in the job listing, so showcasing specific projects or experiences related to this would be beneficial.\n",
      "\n",
      "Suggestions for Cover Letter:\n",
      "In your cover letter, you can highlight your experience in data analysis, statistical modeling, and machine learning, emphasizing how these skills align with the requirements of the Data Scientist position at Focus School Software. Mention your ability to work with large datasets and extract actionable insights, showcasing your problem-solving and analytical skills. Additionally, express your interest in the development of educational software and your willingness to contribute to the mission of serving educators.\n",
      "\n",
      "Good luck with your application! Would you like to continue with drafting a cover letter or move on to another task?\n"
     ]
    }
   ],
   "source": [
    "# Testing response with context\n",
    "output = llm_chain.invoke({'input':task_prompt_compare_resume})\n",
    "# output = llm_chain.invoke({'input':task_prompt_compare_resume})\n",
    "print(output['response'])"
   ]
  },
  {
   "cell_type": "code",
   "execution_count": 229,
   "metadata": {},
   "outputs": [],
   "source": [
    "# output = llm_chain.invoke({'input':\"Sure lets write the cover letter.\"})\n",
    "# print(output['response'])"
   ]
  },
  {
   "cell_type": "markdown",
   "metadata": {},
   "source": [
    "### Interview Prep"
   ]
  },
  {
   "cell_type": "code",
   "execution_count": null,
   "metadata": {},
   "outputs": [],
   "source": []
  },
  {
   "cell_type": "code",
   "execution_count": 230,
   "metadata": {},
   "outputs": [
    {
     "name": "stdout",
     "output_type": "stream",
     "text": [
      " Help me prep for an upcoming interview. First, ask any questions that will help you understand which type of interview and job I am preparing for. Next, ask if I want to do A)a guided practice interview where you explain what the questions are designed to test and provide feedback.  or B) a mock interview with feedback at the end of the mock interview. \n"
     ]
    }
   ],
   "source": [
    "# move this line to the task prompt\n",
    "task_prompt_interview_prep = (\" Help me prep for an upcoming interview. \"\n",
    "\"First, ask any questions that will help you understand which type of interview and job I am preparing for. \"\n",
    "\"Next, ask if I want to do A)a guided practice interview where you explain what the questions are designed to test and provide feedback. \"\n",
    "\" or B) a mock interview with feedback at the end of the mock interview. \"\n",
    "# \"Cover both general interview questions as well as technical questions, depending on the type of job and type of interview. \"\n",
    ")\n",
    "\n",
    "print(task_prompt_interview_prep)"
   ]
  },
  {
   "cell_type": "code",
   "execution_count": 231,
   "metadata": {},
   "outputs": [
    {
     "name": "stdout",
     "output_type": "stream",
     "text": [
      "Great! Please provide me with your resume and the job listing so I can perform a detailed comparison for you. Thank you for sharing this information with me.\n"
     ]
    }
   ],
   "source": [
    "llm_chain = get_llm()\n",
    "output = llm_chain.invoke({'input':task_prompt_compare_resume})\n",
    "print(output['response'])"
   ]
  },
  {
   "cell_type": "code",
   "execution_count": 232,
   "metadata": {},
   "outputs": [
    {
     "name": "stdout",
     "output_type": "stream",
     "text": [
      "Great! Before we begin, could you please provide me with some information about the type of interview and job you are preparing for? Additionally, would you like to do a guided practice interview where I explain the questions and provide feedback, or would you prefer a mock interview with feedback at the end? Thank you for sharing this with me.\n"
     ]
    }
   ],
   "source": [
    "output = llm_chain.invoke({'input':task_prompt_interview_prep})\n",
    "print(output['response'])"
   ]
  },
  {
   "cell_type": "code",
   "execution_count": 233,
   "metadata": {},
   "outputs": [
    {
     "name": "stdout",
     "output_type": "stream",
     "text": [
      "Thank you for providing that information. For a second round interview, it's important to showcase your skills and experiences in more depth, as well as demonstrate your fit for the specific role and company culture. \n",
      "\n",
      "Since you've already shared the job listing with me, I will tailor the practice interview questions to align with the requirements and responsibilities of the position. Would you like to proceed with a guided practice interview where I explain the questions and provide feedback, or would you prefer a mock interview with feedback at the end? Let me know how you would like to proceed. Good luck with your interview preparation!\n"
     ]
    }
   ],
   "source": [
    "output = llm_chain.invoke({'input':\"The job is the one I uploaded to you earlier. The interview is a second round interview\"})\n",
    "print(output['response'])"
   ]
  },
  {
   "cell_type": "code",
   "execution_count": null,
   "metadata": {},
   "outputs": [],
   "source": []
  },
  {
   "cell_type": "markdown",
   "metadata": {},
   "source": [
    "## New Task Prompts"
   ]
  },
  {
   "cell_type": "markdown",
   "metadata": {},
   "source": [
    "> Note (04/15/24): adding new config folder with json file of prompts."
   ]
  },
  {
   "cell_type": "code",
   "execution_count": 234,
   "metadata": {},
   "outputs": [
    {
     "data": {
      "text/plain": [
       "\" How does my resume compare against this job listing? First, categorize my resume's fit for the job as 'perfect,' 'great,' 'good,' or 'poor'.  Next, provide a list with the detailed break down comparing my resume vs. the job. Highlight any weaknesses or missing requirements.  Finally, provide suggestions for what to address in a cover letter and wish me luck! After performing the analysis, ask if the user wants to continue with a cover letter or move on to another task.\""
      ]
     },
     "execution_count": 234,
     "metadata": {},
     "output_type": "execute_result"
    }
   ],
   "source": [
    "task_prompt_compare_resume = (\" How does my resume compare against this job listing? \"\n",
    "\"First, categorize my resume's fit for the job as 'perfect,' 'great,' 'good,' or 'poor'. \"\n",
    "\" Next, provide a list with the detailed break down comparing my resume vs. the job. Highlight any weaknesses or missing requirements. \"\n",
    "\" Finally, provide suggestions for what to address in a cover letter and wish me luck!\"\n",
    "\" After performing the analysis, ask if the user wants to continue with a cover letter or move on to another task.\")\n",
    "\n",
    "task_prompt_compare_resume"
   ]
  },
  {
   "cell_type": "code",
   "execution_count": 235,
   "metadata": {},
   "outputs": [
    {
     "name": "stdout",
     "output_type": "stream",
     "text": [
      " Help me prep for an upcoming interview. First, ask me any questions that will help you understand which type of interview and job I am preparing for. Assume the interview is for the job listing below. Next, ask if I want to do\n",
      "- A)a guided practice interview where you explain what the questions are designed to test and provide feedback.  \n",
      "- or B) a mock interview with feedback at the end of the mock interview. \n"
     ]
    }
   ],
   "source": [
    "task_prompt_interview_prep = (\" Help me prep for an upcoming interview. \"\n",
    "\"First, ask me any questions that will help you understand which type of interview and job I am preparing for. Assume the interview is for the job listing below. \"\n",
    "\"Next, ask if I want to do\\n- A)a guided practice interview where you explain what the questions are designed to test and provide feedback. \"\n",
    "\" \\n- or B) a mock interview with feedback at the end of the mock interview. \"\n",
    "# \"Cover both general interview questions as well as technical questions, depending on the type of job and type of interview. \"\n",
    ")\n",
    "\n",
    "print(task_prompt_interview_prep)"
   ]
  },
  {
   "cell_type": "code",
   "execution_count": 236,
   "metadata": {},
   "outputs": [
    {
     "data": {
      "text/plain": [
       "' Write a cover letter for this job using my resume. Use a memorable opening sentence that is very enthusiastic about the job.  Highlight my strengths and address any obvious missing qualifications.  '"
      ]
     },
     "execution_count": 236,
     "metadata": {},
     "output_type": "execute_result"
    }
   ],
   "source": [
    "task_prompt_cover_letter =(\" Write a cover letter for this job using my resume. Use a memorable opening sentence that is very enthusiastic about the job. \"  \n",
    "\" Highlight my strengths and address any obvious missing qualifications.  \") \n",
    "task_prompt_cover_letter\n",
    "\n"
   ]
  },
  {
   "cell_type": "code",
   "execution_count": 237,
   "metadata": {},
   "outputs": [],
   "source": [
    "# task_craft_cover_letter = (\" \"\n",
    "#                            \" \"\n",
    "#                            )"
   ]
  },
  {
   "cell_type": "code",
   "execution_count": 238,
   "metadata": {},
   "outputs": [
    {
     "data": {
      "text/plain": [
       "{'Compare Resume vs. Job Listing': \" How does my resume compare against this job listing? First, categorize my resume's fit for the job as 'perfect,' 'great,' 'good,' or 'poor'.  Next, provide a list with the detailed break down comparing my resume vs. the job. Highlight any weaknesses or missing requirements.  Finally, provide suggestions for what to address in a cover letter and wish me luck! After performing the analysis, ask if the user wants to continue with a cover letter or move on to another task.\",\n",
       " 'Interview Prep': ' Help me prep for an upcoming interview. First, ask me any questions that will help you understand which type of interview and job I am preparing for. Assume the interview is for the job listing below. Next, ask if I want to do\\n- A)a guided practice interview where you explain what the questions are designed to test and provide feedback.  \\n- or B) a mock interview with feedback at the end of the mock interview. ',\n",
       " 'Draft a Cover Letter': ' Write a cover letter for this job using my resume. Use a memorable opening sentence that is very enthusiastic about the job.  Highlight my strengths and address any obvious missing qualifications.  '}"
      ]
     },
     "execution_count": 238,
     "metadata": {},
     "output_type": "execute_result"
    }
   ],
   "source": [
    "prompts = {\"Compare Resume vs. Job Listing\":task_prompt_compare_resume,\n",
    "               \"Interview Prep\": task_prompt_interview_prep,\n",
    "               \"Draft a Cover Letter\": task_prompt_cover_letter}\n",
    "prompts"
   ]
  },
  {
   "cell_type": "code",
   "execution_count": null,
   "metadata": {},
   "outputs": [],
   "source": []
  },
  {
   "cell_type": "markdown",
   "metadata": {},
   "source": []
  },
  {
   "cell_type": "code",
   "execution_count": 239,
   "metadata": {},
   "outputs": [],
   "source": [
    "## create the config folder and json file\n",
    "import os, json\n",
    "config_folder = \"config/\"\n",
    "os.makedirs(config_folder, exist_ok=True)\n",
    "\n",
    "# save the config file for prompts.\n",
    "prompt_config_file  = os.path.join(config_folder, \"prompt_config.json\")\n",
    "prompt_config_file\n",
    "\n",
    "# if not os.path.exists(prompt_config_file):\n",
    "with open(prompt_config_file, 'w') as f:\n",
    "    json.dump(prompts,f)"
   ]
  },
  {
   "cell_type": "code",
   "execution_count": 240,
   "metadata": {},
   "outputs": [
    {
     "data": {
      "text/plain": [
       "dict_keys(['Compare Resume vs. Job Listing', 'Interview Prep', 'Draft a Cover Letter'])"
      ]
     },
     "execution_count": 240,
     "metadata": {},
     "output_type": "execute_result"
    }
   ],
   "source": [
    "with open(prompt_config_file, 'r') as f:\n",
    "    loaded_prompts = json.load(f)\n",
    "loaded_prompts.keys()"
   ]
  },
  {
   "cell_type": "code",
   "execution_count": 241,
   "metadata": {},
   "outputs": [
    {
     "data": {
      "text/plain": [
       "{'Compare Resume vs. Job Listing': \" How does my resume compare against this job listing? First, categorize my resume's fit for the job as 'perfect,' 'great,' 'good,' or 'poor'.  Next, provide a list with the detailed break down comparing my resume vs. the job. Highlight any weaknesses or missing requirements.  Finally, provide suggestions for what to address in a cover letter and wish me luck! After performing the analysis, ask if the user wants to continue with a cover letter or move on to another task.\",\n",
       " 'Interview Prep': ' Help me prep for an upcoming interview. First, ask me any questions that will help you understand which type of interview and job I am preparing for. Assume the interview is for the job listing below. Next, ask if I want to do\\n- A)a guided practice interview where you explain what the questions are designed to test and provide feedback.  \\n- or B) a mock interview with feedback at the end of the mock interview. ',\n",
       " 'Draft a Cover Letter': ' Write a cover letter for this job using my resume. Use a memorable opening sentence that is very enthusiastic about the job.  Highlight my strengths and address any obvious missing qualifications.  '}"
      ]
     },
     "execution_count": 241,
     "metadata": {},
     "output_type": "execute_result"
    }
   ],
   "source": [
    "def get_task_options(prompt_config_file = \"config/prompt_config.json\" ,options_only=False):\n",
    "    with open(prompt_config_file, 'r') as f:\n",
    "        task_prompt_dict = json.load(f)\n",
    "    if options_only:\n",
    "        return list(task_prompt_dict.keys())\n",
    "    else:\n",
    "        return task_prompt_dict\n",
    "    \n",
    "task_options = get_task_options()#')\n",
    "task_options"
   ]
  },
  {
   "cell_type": "code",
   "execution_count": null,
   "metadata": {},
   "outputs": [],
   "source": []
  },
  {
   "cell_type": "code",
   "execution_count": null,
   "metadata": {},
   "outputs": [],
   "source": []
  },
  {
   "cell_type": "markdown",
   "metadata": {},
   "source": [
    "### 04/15/23 Testing Updating Template partials"
   ]
  },
  {
   "cell_type": "markdown",
   "metadata": {},
   "source": [
    "- Need to allow for the resume and job to change on the fly, but still maintain conversation history.\n",
    "- try switching to using a `from langchain_core.runnables.history import RunnableWithMessageHistory`\n",
    "    - > https://python.langchain.com/docs/expression_language/how_to/message_history/\n"
   ]
  },
  {
   "cell_type": "code",
   "execution_count": 242,
   "metadata": {},
   "outputs": [],
   "source": [
    "from langchain_core.output_parsers import JsonOutputParser, StrOutputParser\n",
    "# from langchain.output_parsers import StructuredOutputParser,ResponseSchema,\n",
    "# from langchain.chains import LLMChain\n",
    "# from langchain_core.runnables.history import RunnableWithMessageHistory\n",
    "\n",
    "\n",
    "def get_llm_no_memory(model_type=\"gpt-3.5-turbo-0125\", temperature=0.1, #\n",
    "            system_prompt_template_func= get_system_prompt_str,#verbose=False,\n",
    "             verbose=True, sector=\"data science and analytics\"):#, resume='', job=''):\n",
    "    \"\"\"Version 2.0\"\"\"\n",
    "    # ## get prompt string\n",
    "    system_prompt = system_prompt_template_func()\n",
    "    # final_promp_str = system_prompt + \"\"\"\n",
    "    #     Current conversation:\n",
    "    #     {history}\n",
    "    #     Human: {input}\n",
    "    #     AI:\"\"\"\n",
    "        \n",
    "    # final_prompt_template = ChatPromptTemplate.from_template(final_promp_str)\n",
    "    final_prompt_template = ChatPromptTemplate.from_messages([\n",
    "        ('system',system_prompt),\n",
    "         MessagesPlaceholder(variable_name='history', optional=True),\n",
    "         ('human', '{input}'),\n",
    "    ])\n",
    "    final_prompt_template = final_prompt_template.partial(sector=sector)#, resume=resume, job=job)\n",
    "        \n",
    "    llm = ChatOpenAI(temperature=temperature, model=model_type)\n",
    "    \n",
    "    \n",
    "    llm_chain = final_prompt_template | llm | StrOutputParser(output_key=\"response\")\n",
    "    # llm_chain = ConversationChain(prompt=final_prompt_template, \n",
    "    #                               llm=llm, \n",
    "    #                               memory=None, \n",
    "    #                               verbose=verbose, \n",
    "    #                             #   input_key=\"input\",\n",
    "    #                               output_key=\"response\")#,#callbacks=callbacks)\n",
    "    \n",
    "    return llm_chain\n"
   ]
  },
  {
   "cell_type": "code",
   "execution_count": 243,
   "metadata": {},
   "outputs": [],
   "source": [
    "# ConversationChain(llm=ChatOpenAI()).prompt"
   ]
  },
  {
   "cell_type": "code",
   "execution_count": 244,
   "metadata": {},
   "outputs": [
    {
     "data": {
      "text/plain": [
       "ChatPromptTemplate(input_variables=['input', 'job', 'resume'], input_types={'history': typing.List[typing.Union[langchain_core.messages.ai.AIMessage, langchain_core.messages.human.HumanMessage, langchain_core.messages.chat.ChatMessage, langchain_core.messages.system.SystemMessage, langchain_core.messages.function.FunctionMessage, langchain_core.messages.tool.ToolMessage]]}, partial_variables={'history': [], 'sector': 'data science and analytics'}, messages=[SystemMessagePromptTemplate(prompt=PromptTemplate(input_variables=['job', 'resume', 'sector'], template=\" You are a a specialized career coach for the {sector}, focused on delivering tailored, concise job application advice and practice.  You are proficient in resume analysis, cover letter guidance, and interview preparation, adapting to each user's unique requirements.  You maintain a professional, friendly tone, and encouraging tone, ensuring advice is efficient, clear, and easily understandable,  with the goal of aiding their career progression. Ask the user for their resume and job listing if not provided and they are needed to asnwer .\\nUse the following context, if provided, to help answer the questions:\\n\\nHere is my resume:\\n-------------\\n {resume}\\n\\n Here is the job listing:\\n-------------\\n{job}\\n\\n \")), MessagesPlaceholder(variable_name='history', optional=True), HumanMessagePromptTemplate(prompt=PromptTemplate(input_variables=['input'], template='{input}'))])\n",
       "| ChatOpenAI(client=<openai.resources.chat.completions.Completions object at 0x17d9ac4f0>, async_client=<openai.resources.chat.completions.AsyncCompletions object at 0x17e30e740>, model_name='gpt-3.5-turbo-0125', temperature=0.1, openai_api_key=SecretStr('**********'), openai_proxy='')\n",
       "| StrOutputParser()"
      ]
     },
     "execution_count": 244,
     "metadata": {},
     "output_type": "execute_result"
    }
   ],
   "source": [
    "llm_no_mem = get_llm_no_memory()\n",
    "llm_no_mem"
   ]
  },
  {
   "cell_type": "code",
   "execution_count": 245,
   "metadata": {},
   "outputs": [
    {
     "data": {
      "text/plain": [
       "PromptInput(input=None, job=None, resume=None)"
      ]
     },
     "execution_count": 245,
     "metadata": {},
     "output_type": "execute_result"
    }
   ],
   "source": [
    "# llm_no_mem.prompt.input_variables\n",
    "llm_no_mem.input_schema()"
   ]
  },
  {
   "cell_type": "code",
   "execution_count": 246,
   "metadata": {},
   "outputs": [
    {
     "data": {
      "text/plain": [
       "[]"
      ]
     },
     "execution_count": 246,
     "metadata": {},
     "output_type": "execute_result"
    }
   ],
   "source": [
    "st_session_state_resume_text = \"\"\n",
    "st_session_state_job_listing_text = \"\"\n",
    "st_session_state_HISTORY = [] # llm_chain.get_input_schema().schema()\n",
    "st_session_state_HISTORY"
   ]
  },
  {
   "cell_type": "code",
   "execution_count": 247,
   "metadata": {},
   "outputs": [],
   "source": [
    "resume = read_pdf('data/James Irving Resume 2024.pdf')\n",
    "job_listing = read_pdf('data/Data Scientist - Focus School Software _ Remote.pdf')"
   ]
  },
  {
   "cell_type": "code",
   "execution_count": 248,
   "metadata": {},
   "outputs": [
    {
     "data": {
      "text/plain": [
       "\"I'd be happy to help with that! Please go ahead and provide me with your resume and the job listing you'd like me to compare it to.\""
      ]
     },
     "execution_count": 248,
     "metadata": {},
     "output_type": "execute_result"
    }
   ],
   "source": [
    "output = llm_no_mem.invoke({'input':'Compare my resume to this job',\n",
    "                   'resume':st_session_state_resume_text,\n",
    "                   'job':st_session_state_job_listing_text,})\n",
    "output"
   ]
  },
  {
   "cell_type": "code",
   "execution_count": 249,
   "metadata": {},
   "outputs": [
    {
     "data": {
      "text/plain": [
       "'Based on your resume and the job listing for the Data Scientist position at Focus School Software, here are some key points to consider:\\n\\n1. **Job Requirements**:\\n   - The job listing requires a minimum of 2+ years of experience as a PowerBI developer, data scientist, data analyst, or data engineer. Your experience as a Data Science Instructor and Curriculum Writer at Coding Dojo and Flatiron School align well with this requirement.\\n   - Strong SQL skills are also required, which you have listed under your professional skills.\\n   - The listing mentions the need for experience with statistical research and analytics techniques, such as classification, clustering, regression, segmentation, etc. Your experience in statistical modeling, machine learning, and data visualization should be beneficial here.\\n\\n2. **Responsibilities**:\\n   - The job responsibilities include preprocessing structured and unstructured data, analyzing large amounts of data to identify trends, transferring data into appropriate formats, and creating reports for business use. Your experience in data analysis, statistical modeling, and machine learning aligns well with these responsibilities.\\n\\n3. **Nice to Have**:\\n   - While not mandatory, having a passion for the development of educational software and knowledge of school district processes could be advantageous. Your background in neuroscience research and data science projects demonstrate your ability to work with complex datasets and derive actionable insights.\\n\\n4. **Technical Skills**:\\n   - Your proficiency in Python programming, machine learning, natural language processing, and data visualization tools like Tableau and Streamlit can be valuable for this role.\\n\\nOverall, your experience in data science, statistical modeling, and machine learning, coupled with your technical skills and project experience, make you a strong candidate for the Data Scientist position at Focus School Software. Make sure to highlight these relevant experiences and skills in your resume and cover letter when applying for the position. If you need help tailoring your resume or cover letter to better match the job listing, feel free to share them for further assistance.'"
      ]
     },
     "execution_count": 249,
     "metadata": {},
     "output_type": "execute_result"
    }
   ],
   "source": [
    "output = llm_no_mem.invoke({'input':'Compare my resume to this job',\n",
    "                   'resume':resume,\n",
    "                   'job':job,})\n",
    "output"
   ]
  },
  {
   "cell_type": "code",
   "execution_count": 250,
   "metadata": {},
   "outputs": [
    {
     "name": "stdout",
     "output_type": "stream",
     "text": [
      "Based on your resume and the job listing for the Data Scientist position at Focus School Software, here are some key points to consider:\n",
      "\n",
      "1. **Job Requirements**:\n",
      "   - The job listing requires a minimum of 2+ years of experience as a PowerBI developer, data scientist, data analyst, or data engineer. Your experience as a Data Science Instructor and Curriculum Writer at Coding Dojo and Flatiron School align well with this requirement.\n",
      "   - Strong SQL skills are also required, which you have listed under your professional skills.\n",
      "   - The listing mentions the need for experience with statistical research and analytics techniques, such as classification, clustering, regression, segmentation, etc. Your experience in statistical modeling, machine learning, and data visualization should be beneficial here.\n",
      "\n",
      "2. **Responsibilities**:\n",
      "   - The job responsibilities include preprocessing structured and unstructured data, analyzing large amounts of data to identify trends, transferring data into appropriate formats, and creating reports for business use. Your experience in data analysis, statistical modeling, and machine learning aligns well with these responsibilities.\n",
      "\n",
      "3. **Nice to Have**:\n",
      "   - While not mandatory, having a passion for the development of educational software and knowledge of school district processes could be advantageous. Your background in neuroscience research and data science projects demonstrate your ability to work with complex datasets and derive actionable insights.\n",
      "\n",
      "4. **Technical Skills**:\n",
      "   - Your proficiency in Python programming, machine learning, natural language processing, and data visualization tools like Tableau and Streamlit can be valuable for this role.\n",
      "\n",
      "Overall, your experience in data science, statistical modeling, and machine learning, coupled with your technical skills and project experience, make you a strong candidate for the Data Scientist position at Focus School Software. Make sure to highlight these relevant experiences and skills in your resume and cover letter when applying for the position. If you need help tailoring your resume or cover letter to better match the job listing, feel free to share them for further assistance.\n"
     ]
    }
   ],
   "source": [
    "print(output)"
   ]
  },
  {
   "cell_type": "code",
   "execution_count": 251,
   "metadata": {},
   "outputs": [],
   "source": [
    "def get_response(llm_no_mem, input, resume='', job='', history=[]):\n",
    "    output = llm_no_mem.invoke({'input':input,\n",
    "                   'resume':resume,\n",
    "                   'job':job,\n",
    "                   'history':history,})\n",
    "\n",
    "    # response = llm_no_mem.invoke({\"resume\":resume,\n",
    "    #                               \"job\":job,\n",
    "    #                               'input':input_text,\n",
    "    #                               'history':history})\n",
    "    \n",
    "    if isinstance(output, dict):\n",
    "        response = output['response']\n",
    "    else:\n",
    "        response = output\n",
    "    history.append(HumanMessage(content=input))\n",
    "    history.append(AIMessage(response))\n",
    "    return response, history\n",
    "    \n",
    "    "
   ]
  },
  {
   "cell_type": "code",
   "execution_count": 252,
   "metadata": {},
   "outputs": [
    {
     "data": {
      "text/plain": [
       "ChatPromptTemplate(input_variables=['input', 'job', 'resume'], input_types={'history': typing.List[typing.Union[langchain_core.messages.ai.AIMessage, langchain_core.messages.human.HumanMessage, langchain_core.messages.chat.ChatMessage, langchain_core.messages.system.SystemMessage, langchain_core.messages.function.FunctionMessage, langchain_core.messages.tool.ToolMessage]]}, partial_variables={'history': [], 'sector': 'data science and analytics'}, messages=[SystemMessagePromptTemplate(prompt=PromptTemplate(input_variables=['job', 'resume', 'sector'], template=\" You are a a specialized career coach for the {sector}, focused on delivering tailored, concise job application advice and practice.  You are proficient in resume analysis, cover letter guidance, and interview preparation, adapting to each user's unique requirements.  You maintain a professional, friendly tone, and encouraging tone, ensuring advice is efficient, clear, and easily understandable,  with the goal of aiding their career progression. Ask the user for their resume and job listing if not provided and they are needed to asnwer .\\nUse the following context, if provided, to help answer the questions:\\n\\nHere is my resume:\\n-------------\\n {resume}\\n\\n Here is the job listing:\\n-------------\\n{job}\\n\\n \")), MessagesPlaceholder(variable_name='history', optional=True), HumanMessagePromptTemplate(prompt=PromptTemplate(input_variables=['input'], template='{input}'))])\n",
       "| ChatOpenAI(client=<openai.resources.chat.completions.Completions object at 0x17e30f250>, async_client=<openai.resources.chat.completions.AsyncCompletions object at 0x11c7ef370>, model_name='gpt-3.5-turbo-0125', temperature=0.1, openai_api_key=SecretStr('**********'), openai_proxy='')\n",
       "| StrOutputParser()"
      ]
     },
     "execution_count": 252,
     "metadata": {},
     "output_type": "execute_result"
    }
   ],
   "source": [
    "st_session_state_HISTORY = []\n",
    "llm_no_mem = get_llm_no_memory()\n",
    "llm_no_mem"
   ]
  },
  {
   "cell_type": "code",
   "execution_count": 253,
   "metadata": {},
   "outputs": [
    {
     "name": "stdout",
     "output_type": "stream",
     "text": [
      "I'd be happy to help with that! Please go ahead and provide me with your resume and the job listing you'd like me to compare it to. Once I have both documents, I can provide you with a detailed analysis and recommendations on how to tailor your resume for the specific job.\n"
     ]
    }
   ],
   "source": [
    "output, st_session_state_HISTORY = get_response(llm_no_mem, input=\"Compare my resume to this job\", \n",
    "                      resume='', job='', history= st_session_state_HISTORY)\n",
    "print(output)"
   ]
  },
  {
   "cell_type": "code",
   "execution_count": 188,
   "metadata": {},
   "outputs": [
    {
     "data": {
      "text/plain": [
       "[HumanMessage(content='Compare my resume to this job'),\n",
       " AIMessage(content=\"I'd be happy to help with that! Please go ahead and provide me with your resume and the job listing you'd like me to compare it to.\")]"
      ]
     },
     "execution_count": 188,
     "metadata": {},
     "output_type": "execute_result"
    }
   ],
   "source": [
    "st_session_state_HISTORY"
   ]
  },
  {
   "cell_type": "code",
   "execution_count": 190,
   "metadata": {},
   "outputs": [
    {
     "name": "stdout",
     "output_type": "stream",
     "text": [
      "JAMES M. IRVING, PH.D. 8222 Spadderdock Way, Laurel, MD, 20724 | (518) 322-6750 | james.irving.phd@gmail.com |  LINKEDIN: james-irving-phd | GITHUB: https://github.com/jirvingphd  SUMMARY Innovative and enterprising data scientist. Experienced in applying advanced data science techniques to real-world problems, including statistical modeling, machine learning, and data visualization. Skilled at extracting valuable insights from complex datasets and supporting data-driven decision-making. Adept P \n",
      "\n",
      " 4/4/24, 2:48 PM Data Scientist - Focus School Software | Remote\n",
      "https://www.simplyhired.com/job/lxgFxvpAXhH6zOMvh9G6pzooFKCORCgkfSudwEuQZAQjF7dORlMCSw?from=smart-apply 1/4Post Jobs\n",
      "D\u0000t\u0000 Scientist\n",
      "Focus School Softw\u0000re\n",
      "Remote\n",
      "Job Det\u0000ils\n",
      "Full-time\n",
      "$91,751.28 - $110,496.16 \u0000 ye\u0000r\n",
      "2 d\u0000ys \u0000\u0000o\n",
      "Beneﬁts\n",
      "He\u0000lth s\u0000vin\u0000s \u0000ccount Dis\u0000bility insur\u0000nce He\u0000lth insur\u0000nce\n",
      "Dent\u0000l insur\u0000nce 401(k) Flexible spendin\u0000 \u0000ccount P\u0000id time off\n",
      "Vision insur\u0000nce 401(k) m\u0000tchin\u0000 Life insur\u0000nce\n",
      "Qu\u0000liﬁc\u0000tions\n",
      "Power BI Writin\n"
     ]
    }
   ],
   "source": [
    "resume = read_pdf('data/James Irving Resume 2024.pdf')\n",
    "job = read_pdf('data/Data Scientist - Focus School Software _ Remote.pdf')\n",
    "print(resume[:500], \"\\n\\n\", job[:500])\n"
   ]
  },
  {
   "cell_type": "code",
   "execution_count": 191,
   "metadata": {},
   "outputs": [
    {
     "name": "stdout",
     "output_type": "stream",
     "text": [
      "Thank you for providing both your resume and the job listing. Let's compare your qualifications to the job requirements:\n",
      "\n",
      "### Job Listing Requirements:\n",
      "1. **Power BI:** The job requires experience with Power BI Analytics and creating dashboards.\n",
      "2. **SQL Skills:** Strong SQL skills are necessary for this role.\n",
      "3. **Writing and Communication Skills:** The candidate should possess strong writing and communication skills.\n",
      "4. **Statistical Research and Analytics Techniques:** Experience with statistical research and analytics techniques like classification, clustering, regression, segmentation, etc.\n",
      "5. **Experience as a PowerBI Developer, Data Scientist, Analyst, or Engineer:** The candidate should have at least 2+ years of experience in one of these roles.\n",
      "\n",
      "### Your Qualifications:\n",
      "- **Power BI:** While your resume does not explicitly mention Power BI, your experience in data visualization, statistical modeling, and machine learning could be transferrable to working with Power BI.\n",
      "- **SQL Skills:** You have experience with SQL, which aligns with the job requirement.\n",
      "- **Writing and Communication Skills:** Your experience as a Data Science Instructor and Curriculum Writer demonstrates your strong communication skills.\n",
      "- **Statistical Research and Analytics Techniques:** Your background in statistical modeling, machine learning, and data analysis covers the required techniques.\n",
      "- **Experience:** You have experience as a Data Science Instructor, Curriculum Writer, and Data Science Researcher, which aligns with the job requirements.\n",
      "\n",
      "### Recommendations:\n",
      "1. **Highlight Relevant Skills:** Emphasize your experience with data visualization tools and statistical techniques in your resume.\n",
      "2. **Tailor Your Resume:** Customize your resume to showcase how your skills align with the job requirements, even if you haven't explicitly worked with Power BI.\n",
      "3. **Demonstrate Transferable Skills:** Showcase how your experience in curriculum development and data analysis can be applied to the role of a PowerBI Developer/Data Scientist.\n",
      "\n",
      "Overall, your background aligns well with the job requirements, and with some strategic resume adjustments, you can effectively demonstrate your suitability for the position. If you need help with specific resume updates or have any other questions, feel free to ask!\n"
     ]
    }
   ],
   "source": [
    "output, st_session_state_HISTORY = get_response(llm_no_mem, input=\"Here is my resume and the job\", \n",
    "                      resume=resume, job=job, history= st_session_state_HISTORY)\n",
    "print(output)"
   ]
  },
  {
   "cell_type": "code",
   "execution_count": 192,
   "metadata": {},
   "outputs": [
    {
     "data": {
      "text/plain": [
       "[HumanMessage(content='Compare my resume to this job'),\n",
       " AIMessage(content=\"I'd be happy to help with that! Please go ahead and provide me with your resume and the job listing you'd like me to compare it to.\"),\n",
       " HumanMessage(content='Here is my resume and the job'),\n",
       " AIMessage(content=\"Thank you for providing both your resume and the job listing. Let's compare your qualifications to the job requirements:\\n\\n### Job Listing Requirements:\\n1. **Power BI:** The job requires experience with Power BI Analytics and creating dashboards.\\n2. **SQL Skills:** Strong SQL skills are necessary for this role.\\n3. **Writing and Communication Skills:** The candidate should possess strong writing and communication skills.\\n4. **Statistical Research and Analytics Techniques:** Experience with statistical research and analytics techniques like classification, clustering, regression, segmentation, etc.\\n5. **Experience as a PowerBI Developer, Data Scientist, Analyst, or Engineer:** The candidate should have at least 2+ years of experience in one of these roles.\\n\\n### Your Qualifications:\\n- **Power BI:** While your resume does not explicitly mention Power BI, your experience in data visualization, statistical modeling, and machine learning could be transferrable to working with Power BI.\\n- **SQL Skills:** You have experience with SQL, which aligns with the job requirement.\\n- **Writing and Communication Skills:** Your experience as a Data Science Instructor and Curriculum Writer demonstrates your strong communication skills.\\n- **Statistical Research and Analytics Techniques:** Your background in statistical modeling, machine learning, and data analysis covers the required techniques.\\n- **Experience:** You have experience as a Data Science Instructor, Curriculum Writer, and Data Science Researcher, which aligns with the job requirements.\\n\\n### Recommendations:\\n1. **Highlight Relevant Skills:** Emphasize your experience with data visualization tools and statistical techniques in your resume.\\n2. **Tailor Your Resume:** Customize your resume to showcase how your skills align with the job requirements, even if you haven't explicitly worked with Power BI.\\n3. **Demonstrate Transferable Skills:** Showcase how your experience in curriculum development and data analysis can be applied to the role of a PowerBI Developer/Data Scientist.\\n\\nOverall, your background aligns well with the job requirements, and with some strategic resume adjustments, you can effectively demonstrate your suitability for the position. If you need help with specific resume updates or have any other questions, feel free to ask!\")]"
      ]
     },
     "execution_count": 192,
     "metadata": {},
     "output_type": "execute_result"
    }
   ],
   "source": [
    "st_session_state_HISTORY"
   ]
  },
  {
   "cell_type": "markdown",
   "metadata": {},
   "source": [
    "### Extracting the prompt"
   ]
  },
  {
   "cell_type": "code",
   "execution_count": 257,
   "metadata": {},
   "outputs": [
    {
     "data": {
      "text/plain": [
       "['Config',\n",
       " 'InputType',\n",
       " 'OutputType',\n",
       " 'abatch',\n",
       " 'abatch_as_completed',\n",
       " 'ainvoke',\n",
       " 'assign',\n",
       " 'astream',\n",
       " 'astream_events',\n",
       " 'astream_log',\n",
       " 'atransform',\n",
       " 'batch',\n",
       " 'batch_as_completed',\n",
       " 'bind',\n",
       " 'config_schema',\n",
       " 'config_specs',\n",
       " 'configurable_alternatives',\n",
       " 'configurable_fields',\n",
       " 'construct',\n",
       " 'copy',\n",
       " 'dict',\n",
       " 'first',\n",
       " 'from_orm',\n",
       " 'get_graph',\n",
       " 'get_input_schema',\n",
       " 'get_lc_namespace',\n",
       " 'get_name',\n",
       " 'get_output_schema',\n",
       " 'get_prompts',\n",
       " 'input_schema',\n",
       " 'invoke',\n",
       " 'is_lc_serializable',\n",
       " 'json',\n",
       " 'last',\n",
       " 'lc_attributes',\n",
       " 'lc_id',\n",
       " 'lc_secrets',\n",
       " 'map',\n",
       " 'middle',\n",
       " 'name',\n",
       " 'output_schema',\n",
       " 'parse_file',\n",
       " 'parse_obj',\n",
       " 'parse_raw',\n",
       " 'pick',\n",
       " 'pipe',\n",
       " 'schema',\n",
       " 'schema_json',\n",
       " 'steps',\n",
       " 'stream',\n",
       " 'to_json',\n",
       " 'to_json_not_implemented',\n",
       " 'transform',\n",
       " 'update_forward_refs',\n",
       " 'validate',\n",
       " 'with_config',\n",
       " 'with_fallbacks',\n",
       " 'with_listeners',\n",
       " 'with_retry',\n",
       " 'with_types']"
      ]
     },
     "execution_count": 257,
     "metadata": {},
     "output_type": "execute_result"
    }
   ],
   "source": [
    "#Temp check for prompt in LCEL\n",
    "[i for i in dir(llm_no_mem) if not i.startswith(\"_\")]"
   ]
  },
  {
   "cell_type": "code",
   "execution_count": 259,
   "metadata": {},
   "outputs": [
    {
     "name": "stdout",
     "output_type": "stream",
     "text": [
      "[ChatPromptTemplate(input_variables=['input', 'job', 'resume'], input_types={'history': typing.List[typing.Union[langchain_core.messages.ai.AIMessage, langchain_core.messages.human.HumanMessage, langchain_core.messages.chat.ChatMessage, langchain_core.messages.system.SystemMessage, langchain_core.messages.function.FunctionMessage, langchain_core.messages.tool.ToolMessage]]}, partial_variables={'history': [], 'sector': 'data science and analytics'}, messages=[SystemMessagePromptTemplate(prompt=PromptTemplate(input_variables=['job', 'resume', 'sector'], template=\" You are a a specialized career coach for the {sector}, focused on delivering tailored, concise job application advice and practice.  You are proficient in resume analysis, cover letter guidance, and interview preparation, adapting to each user's unique requirements.  You maintain a professional, friendly tone, and encouraging tone, ensuring advice is efficient, clear, and easily understandable,  with the goal of aiding their career progression. Ask the user for their resume and job listing if not provided and they are needed to asnwer .\\nUse the following context, if provided, to help answer the questions:\\n\\nHere is my resume:\\n-------------\\n {resume}\\n\\n Here is the job listing:\\n-------------\\n{job}\\n\\n \")), MessagesPlaceholder(variable_name='history', optional=True), HumanMessagePromptTemplate(prompt=PromptTemplate(input_variables=['input'], template='{input}'))])]\n"
     ]
    }
   ],
   "source": [
    "print(llm_no_mem.get_prompts())"
   ]
  },
  {
   "cell_type": "code",
   "execution_count": 263,
   "metadata": {},
   "outputs": [
    {
     "data": {
      "text/plain": [
       "1"
      ]
     },
     "execution_count": 263,
     "metadata": {},
     "output_type": "execute_result"
    }
   ],
   "source": [
    "retrieved_prompts =  llm_no_mem.get_prompts()\n",
    "len(retrieved_prompts)\n"
   ]
  },
  {
   "cell_type": "code",
   "execution_count": 264,
   "metadata": {},
   "outputs": [
    {
     "data": {
      "text/plain": [
       "ChatPromptTemplate(input_variables=['input', 'job', 'resume'], input_types={'history': typing.List[typing.Union[langchain_core.messages.ai.AIMessage, langchain_core.messages.human.HumanMessage, langchain_core.messages.chat.ChatMessage, langchain_core.messages.system.SystemMessage, langchain_core.messages.function.FunctionMessage, langchain_core.messages.tool.ToolMessage]]}, partial_variables={'history': [], 'sector': 'data science and analytics'}, messages=[SystemMessagePromptTemplate(prompt=PromptTemplate(input_variables=['job', 'resume', 'sector'], template=\" You are a a specialized career coach for the {sector}, focused on delivering tailored, concise job application advice and practice.  You are proficient in resume analysis, cover letter guidance, and interview preparation, adapting to each user's unique requirements.  You maintain a professional, friendly tone, and encouraging tone, ensuring advice is efficient, clear, and easily understandable,  with the goal of aiding their career progression. Ask the user for their resume and job listing if not provided and they are needed to asnwer .\\nUse the following context, if provided, to help answer the questions:\\n\\nHere is my resume:\\n-------------\\n {resume}\\n\\n Here is the job listing:\\n-------------\\n{job}\\n\\n \")), MessagesPlaceholder(variable_name='history', optional=True), HumanMessagePromptTemplate(prompt=PromptTemplate(input_variables=['input'], template='{input}'))])"
      ]
     },
     "execution_count": 264,
     "metadata": {},
     "output_type": "execute_result"
    }
   ],
   "source": [
    "retrieved_prompt =  llm_no_mem.get_prompts()[0]\n",
    "retrieved_prompt\n"
   ]
  },
  {
   "cell_type": "code",
   "execution_count": 267,
   "metadata": {},
   "outputs": [
    {
     "data": {
      "text/plain": [
       "[SystemMessagePromptTemplate(prompt=PromptTemplate(input_variables=['job', 'resume', 'sector'], template=\" You are a a specialized career coach for the {sector}, focused on delivering tailored, concise job application advice and practice.  You are proficient in resume analysis, cover letter guidance, and interview preparation, adapting to each user's unique requirements.  You maintain a professional, friendly tone, and encouraging tone, ensuring advice is efficient, clear, and easily understandable,  with the goal of aiding their career progression. Ask the user for their resume and job listing if not provided and they are needed to asnwer .\\nUse the following context, if provided, to help answer the questions:\\n\\nHere is my resume:\\n-------------\\n {resume}\\n\\n Here is the job listing:\\n-------------\\n{job}\\n\\n \")),\n",
       " MessagesPlaceholder(variable_name='history', optional=True),\n",
       " HumanMessagePromptTemplate(prompt=PromptTemplate(input_variables=['input'], template='{input}'))]"
      ]
     },
     "execution_count": 267,
     "metadata": {},
     "output_type": "execute_result"
    }
   ],
   "source": [
    "retrieved_prompt.messages"
   ]
  },
  {
   "cell_type": "markdown",
   "metadata": {},
   "source": [
    "# Adding NLP (WordClouds)"
   ]
  },
  {
   "cell_type": "markdown",
   "metadata": {},
   "source": [
    "## Improving PDF Text Extraction"
   ]
  },
  {
   "cell_type": "code",
   "execution_count": null,
   "metadata": {},
   "outputs": [],
   "source": [
    "\n",
    "ai_avatar  = \"🤖\"\n",
    "user_avatar = \"💬\"\n",
    "\n",
    "import PyPDF2\n",
    "\n",
    "def read_pdf(file):\n",
    "    \n",
    "    # stringio = StringIO(file.getvalue().decode(\"utf-8\"))\n",
    "     # To read file as bytes:\n",
    "    # bytes_data = file.getvalue()\n",
    "    # To convert to a string based IO:\n",
    "    # stringio = StringIO(file.getvalue())#.decode(\"utf-8\"))\n",
    "\n",
    "    # pdf_file_obj = open(file.name, 'rb')\n",
    "    # pdf_file_obj = open(file.getvalue(),'rb')\n",
    "    pdf_reader = PyPDF2.PdfReader(file)\n",
    "    text = \"\"\n",
    "    for page_num in range(len(pdf_reader.pages)):\n",
    "        # page_obj = pdf_reader.getPage(page_num)\n",
    "        page_obj = pdf_reader.pages[page_num]\n",
    "        text += page_obj.extract_text()\n",
    "    # pdf_file_obj.close()\n",
    "    return text"
   ]
  },
  {
   "cell_type": "code",
   "execution_count": 51,
   "metadata": {
    "execution": {
     "iopub.execute_input": "2024-04-24T17:57:28.253765Z",
     "iopub.status.busy": "2024-04-24T17:57:28.252719Z",
     "iopub.status.idle": "2024-04-24T17:57:28.268051Z",
     "shell.execute_reply": "2024-04-24T17:57:28.265195Z",
     "shell.execute_reply.started": "2024-04-24T17:57:28.253714Z"
    }
   },
   "outputs": [],
   "source": [
    "resume_fpath = 'data/James Irving Resume 2024.pdf'\n",
    "\n",
    "job_fpath='data/Data Scientist - Focus School Software _ Remote.pdf'\n",
    "job_fpath_simplyhired = \"data/SimplyHired-Data Scientist - Tech Holding _ Remote.pdf\"\n",
    "job_fpath_indeed = 'data/Indeed-Data Science-Columbia.pdf'\n",
    "job_fpath_linkedin = 'data/LinkedIn- AI & ML Engineer _ BDO USA _ LinkedIn.pdf'"
   ]
  },
  {
   "cell_type": "code",
   "execution_count": 49,
   "metadata": {
    "execution": {
     "iopub.execute_input": "2024-04-24T17:56:45.419955Z",
     "iopub.status.busy": "2024-04-24T17:56:45.418624Z",
     "iopub.status.idle": "2024-04-24T17:56:45.653087Z",
     "shell.execute_reply": "2024-04-24T17:56:45.652774Z",
     "shell.execute_reply.started": "2024-04-24T17:56:45.419885Z"
    }
   },
   "outputs": [
    {
     "name": "stdout",
     "output_type": "stream",
     "text": [
      "4/4/24, 3:17 PM Data Scientist - Tech Holding | Remote\n",
      "https://www.simplyhired.com/job/8Z7Gv5pReMw8zxJx720JEglUjBJo_qF4HMyTGZeSUmxrFq3zti_FZw 1/3Post Jobs\n",
      "D\u0000t\u0000 Scientist\n",
      "Tech Holdin\u0000\n",
      "Remote\n",
      "Job Det\u0000ils\n",
      "$120,000 - $130,000 \u0000 ye\u0000r\n",
      "Beneﬁts\n",
      "Dis\u0000bility insur\u0000nce He\u0000lth insur\u0000nce Unlimited p\u0000id time off\n",
      "Dent\u0000l insur\u0000nce Vision insur\u0000nce 401(k) m\u0000tchin\u0000 Flexible schedule\n",
      "Life insur\u0000nce\n",
      "Qu\u0000liﬁc\u0000tions\n",
      "Computer science Cloud infr\u0000structure RNN Computer Science\n",
      "D\u0000t\u0000 \u0000n\u0000lysis skills 3 ye\u0000rs St\u0000tistic\u0000l \u0000n\u0000lysis AWS\n",
      "B\u0000chelor's de\u0000ree M\u0000chine le\u0000rnin\u0000 CNN Computer networkin\u0000\n",
      "D\u0000t\u0000 science M\u0000chine le\u0000rnin\u0000 fr\u0000meworks Communic\u0000tion skills\n",
      "Full Job Description\n",
      "About us:\n",
      "Workin\u0000 \u0000t Tech Holdin\u0000 isn't just \u0000 job, it's \u0000n opportunity to be \u0000 p\u0000rt of somethin\u0000\n",
      "bi\u0000\u0000er. We \u0000re \u0000 full-service consultin\u0000 ﬁrm th\u0000t w\u0000s founded on the premise of deliverin\u0000\n",
      "predict\u0000ble outcomes \u0000nd hi\u0000h-qu\u0000lity solutions to our clients. Our founders \u0000nd te\u0000m\n",
      "members h\u0000ve industry experience \u0000nd h\u0000ve held senior positions in \u0000 wide v\u0000riety of\n",
      "comp\u0000nies – from emer\u0000in\u0000 st\u0000rtups to l\u0000r\u0000e Fortune 50 ﬁrms – \u0000nd we h\u0000ve t\u0000ken ourJI\n",
      "Quick Apply\n",
      "Quick Apply4/4/24, 3:17 PM Data Scientist - Tech Holding | Remote\n",
      "https://www.simplyhired.com/job/8Z7Gv5pReMw8zxJx720JEglUjBJo_qF4HMyTGZeSUmxrFq3zti_FZw 2/3combined experiences \u0000nd developed \u0000 unique \u0000ppro\u0000ch th\u0000t is supported by the\n",
      "principles of deep expertise, inte\u0000rity, tr\u0000nsp\u0000rency, \u0000nd depend\u0000bility.\n",
      "The Role:\n",
      "The D\u0000t\u0000 Scientist will be responsible for lever\u0000\u0000in\u0000 the power of d\u0000t\u0000 \u0000n\u0000lysis \u0000nd\n",
      "modelin\u0000 to solve complex problems \u0000nd drive str\u0000te\u0000ic decisions. Utilizin\u0000 \u0000 stron\u0000\n",
      "b\u0000ck\u0000round in AWS environments, the ide\u0000l c\u0000ndid\u0000te will extr\u0000ct insi\u0000hts from l\u0000r\u0000e\n",
      "d\u0000t\u0000sets, build predictive models, \u0000nd implement m\u0000chine le\u0000rnin\u0000 \u0000l\u0000orithms to support\n",
      "the comp\u0000ny's objectives.\n",
      "Wh\u0000t you will do:\n",
      "Develop \u0000nd implement d\u0000t\u0000 models, m\u0000chine le\u0000rnin\u0000 \u0000l\u0000orithms, \u0000nd \u0000n\u0000lytic\u0000l\n",
      "processes to support comp\u0000ny initi\u0000tives.\n",
      "Desi\u0000n \u0000nd construct d\u0000t\u0000 \u0000rchitectures for sc\u0000l\u0000bility, reli\u0000bility, \u0000nd perform\u0000nce\n",
      "within \u0000n AWS environment.\n",
      "An\u0000lyze l\u0000r\u0000e, complex d\u0000t\u0000sets to identify me\u0000nin\u0000ful p\u0000tterns \u0000nd trends, \u0000nd\n",
      "tr\u0000nsl\u0000te d\u0000t\u0000-driven insi\u0000hts into \u0000ction\u0000ble business str\u0000te\u0000ies.\n",
      "Coll\u0000bor\u0000te with cross-function\u0000l te\u0000ms to underst\u0000nd d\u0000t\u0000 needs \u0000nd deliver\n",
      "solutions th\u0000t en\u0000ble effective decision-m\u0000kin\u0000.\n",
      "Ensure d\u0000t\u0000 qu\u0000lity \u0000nd inte\u0000rity by developin\u0000 \u0000nd m\u0000int\u0000inin\u0000 cle\u0000r \u0000nd robust\n",
      "d\u0000t\u0000 pipelines.\n",
      "St\u0000y \u0000bre\u0000st of industry trends \u0000nd \u0000dv\u0000ncements in d\u0000t\u0000 science \u0000nd m\u0000chine\n",
      "le\u0000rnin\u0000 to m\u0000int\u0000in \u0000 competitive ed\u0000e.\n",
      "Required Skills:\n",
      "Minimum 3-4 ye\u0000rs of experience in d\u0000t\u0000 science or \u0000 rel\u0000ted ﬁeld.\n",
      "Proﬁciency with AWS cloud services \u0000nd infr\u0000structure \u0000s it pert\u0000ins to d\u0000t\u0000 science.\n",
      "Stron\u0000 found\u0000tion in computer science principles \u0000nd \u0000 deep underst\u0000ndin\u0000 of\n",
      "st\u0000tistic\u0000l \u0000n\u0000lysis.\n",
      "Must h\u0000ve certiﬁc\u0000tions in AWS, D\u0000t\u0000 En\u0000ineerin\u0000, \u0000nd D\u0000t\u0000 An\u0000lysis.\n",
      "Experience with m\u0000chine le\u0000rnin\u0000 fr\u0000meworks \u0000nd tools.\n",
      "Excellent problem-solvin\u0000 \u0000bilities \u0000nd \u0000 commitment to deliverin\u0000 hi\u0000h-qu\u0000lity\n",
      "results.\n",
      "Stron\u0000 communic\u0000tion skills with the \u0000bility to convey complex concepts to non-\n",
      "technic\u0000l st\u0000keholders.\n",
      "Nice to H\u0000ve:\n",
      "Experience with Convolution\u0000l Neur\u0000l Network (CNN)\n",
      "Experience with Recurrent Neur\u0000l Network (RNN)Quick Apply4/4/24, 3:17 PM Data Scientist - Tech Holding | Remote\n",
      "https://www.simplyhired.com/job/8Z7Gv5pReMw8zxJx720JEglUjBJo_qF4HMyTGZeSUmxrFq3zti_FZw 3/3Educ\u0000tion & Certiﬁc\u0000tions:\n",
      "B\u0000chelor's De\u0000ree in Computer Science or relev\u0000nt ye\u0000rs of work experience\n",
      "Wh\u0000t we offer:\n",
      "Flexible Work Hours\n",
      "Unlimited PTO\n",
      "Competitive S\u0000l\u0000ries\n",
      "He\u0000lth + Dent\u0000l + Vision + Life Insur\u0000nce\n",
      "Lon\u0000 Term dis\u0000bility + 401k M\u0000tch\n",
      "Profession\u0000l Development Opportunities\n",
      "S\u0000l\u0000ry Expect\u0000tions:\n",
      "$120-130k USD/ ye\u0000r\n",
      "Resources \u0000nd Tools\n",
      "CountryT\u0000ke your job se\u0000rch wherever you \u0000o.\n",
      "© 2024 SH Inc.Priv\u0000cy | Terms | Cookies | Priv\u0000cy Center | Accessibility | Your Priv\u0000cy ChoicesUnited St\u0000tes\n",
      "Quick Apply\n"
     ]
    }
   ],
   "source": [
    "example_simplyhired = read_pdf(job_fpath_simplyhired)\n",
    "print(example_simplyhired)"
   ]
  },
  {
   "cell_type": "code",
   "execution_count": 53,
   "metadata": {
    "execution": {
     "iopub.execute_input": "2024-04-24T17:57:42.742412Z",
     "iopub.status.busy": "2024-04-24T17:57:42.740248Z",
     "iopub.status.idle": "2024-04-24T17:57:43.466817Z",
     "shell.execute_reply": "2024-04-24T17:57:43.466512Z",
     "shell.execute_reply.started": "2024-04-24T17:57:42.742339Z"
    }
   },
   "outputs": [
    {
     "name": "stdout",
     "output_type": "stream",
     "text": [
      "AI & ML Engineer\n",
      "$100K/yr - $155K/yr···Mid-Senior level\n",
      "Machine Learning·Python·Show more\n",
      "10,001+ employees · Accounting\n",
      "1 school alum works here\n",
      "Skills: Artificial Intelligence (AI), Pattern Recognition, +8 more\n",
      "Apply SaveBDO USA· Columbia, MD ·1 month ago·28 applicants\n",
      "HybridFull-time\n",
      "Am I a good fit for this job? How can I best position myself fo\n",
      "About the job\n",
      "Job Description\n",
      "Job Summary:\n",
      "With a global network serving clients across multiple industries and countries, our\n",
      "analytics game changers are poised for widespread technological impact. Our\n",
      "industry-recognized team is in high demand across data analytics, robotic\n",
      "process automation, and artificial intelligence. We gravitate towards bright\n",
      "individuals who value impactful change, worldly purpose, and a personal\n",
      "connection with diverse innovators. This role allows you to work with a team of\n",
      "talented consultants, requiring you to balance innovation with pragmatic client\n",
      "expectation management. With our team, you will be challenged to build scalable\n",
      "solutions, while embracing a fail-forward mentality critical to evolution. Whether\n",
      "youʼre telling a data story in ways our clients never imagined or building advanced\n",
      "AI models with automated data engineering, the core purpose will be centered on\n",
      "using data to impact people in a meaningful way.\n",
      "This position will work with cutting edge technology, deliver high quality solutions\n",
      "across various industries and collaborate with teams on engagements that range\n",
      "in size and scope. This position will receive continuous career development\n",
      "opportunities, given the size and potential of client engagements. This role will\n",
      "perform hands-on delivery of solutions that include artificial intelligence (AI) and\n",
      "cognitive services, ML models, pipelines, databases, and other data analytics\n",
      "components, contributing to the development and unit testing of solutions.\n",
      "Job Duties\n",
      "Designs, and implements best in class solutions that include AI and\n",
      "cognitive services, ML models, data ingestion strategies, semantic layers\n",
      "and models, visualizations, streaming processes, API integrations, and\n",
      "automation (RPA) solutions for end-to-end data analytics solutions on\n",
      "primarily, but not limited to, cloud analytics platforms such as Azure and\n",
      "AWS\n",
      "Listens to client needs to align solutions with business requirements and\n",
      "delivery schedules\n",
      "Creates written functional and technical designs\n",
      "Participates in project status and stand meetings, and assists with\n",
      "providing aggregated project status for project and program managersHomeMy NetworkJobsMessagingNotificationsMe\n",
      " For BusinessLear\n",
      "2 1254/24/24, 1:54 PM (28) AI & ML Engineer | BDO USA | LinkedIn\n",
      "https://www.linkedin.com/jobs/view/3866911336/?eBP=CwEAAAGPET5Ue5oWGLmsFkyeWdZDoeYDvLIc3hupUJ92igPK7glibsZwKciq-ZSSXOWN7Wn7IeE24… 1/9Assists with SLA compliance of solutions, and performs performance\n",
      "tuning and optimization efforts of end-to-end solutions\n",
      "Writes code using multiple languages and correctly applies frameworks,\n",
      "architectural patterns, and software development principles\n",
      "Delivers high-performance, scalable, repeatable, and secure deliverables\n",
      "with broad impact (high throughput and low latency)\n",
      "Assists with implementation of governance programs and best practices\n",
      "Performs the cleaning and transforming of data from source systems into\n",
      "analytics models\n",
      "Implements models to support data visualizations and integrations\n",
      "Assists with implementing MLOps, DevOps, DataOps, methodologies on\n",
      "projects\n",
      "Writes custom integration logic in applicable programming languages\n",
      "Assists project managers with work breakdown structure creation,\n",
      "project estimation, resource staffing, workload planning and adjustments\n",
      "throughout the project lifecycle\n",
      "Assists clients with licensing, security, and cost estimation of solutions\n",
      "Performs code reviews to ensure adherence to standards\n",
      "Works directly with clients and team members to establish secure data\n",
      "analytics platforms and infrastructure\n",
      "Contributes to successful deployments of developed solutions and\n",
      "integration of DevOps and MLOps tools\n",
      "Maintains a broad and current understanding of data analytics and\n",
      "business intelligence strategies, cloud platforms, methodologies, and\n",
      "tools\n",
      "Builds client relationships during project execution, effectively becoming\n",
      "a trusted advisor of the client\n",
      "Participates in support activities for existing software solutions\n",
      "Other duties as assigned\n",
      "Supervisory Responsibilities\n",
      "Supervises the day-to-day workload of Associates on assigned\n",
      "engagements to ensure that timelines and deliverables are met, and\n",
      "reviews work product\n",
      "Education\n",
      "Qualifications, Knowledge, Skills, and Abilities:\n",
      "High School Diploma or GED equivalent, required\n",
      "Bachelorʼs degree, preferred; focus in Information Systems, Data Science\n",
      "or Computer Science, preferred\n",
      "Experience\n",
      "Five ( 5 ) or more years of experience within Artificial Intelligence , Data\n",
      "Analytics, Business Intelligence, Machine Learning, Application\n",
      "Development, required\n",
      "One ( 1 ) or more years of experience technically leading development\n",
      "projects, preferred\n",
      "One ( 1 ) or more years of consulting experience or implementation of\n",
      "cloud-based data analytics solutions, preferred\n",
      "License/Certifications\n",
      "N/A\n",
      "Software\n",
      "Strong experience with AI/ML model lifecycle, required\n",
      "Strong SQL skills including Data Definition Language (DDL), Data\n",
      "Manipulation Language (DML), views, functions, stored procedures, or\n",
      "performance tuning, required\n",
      "Experience with Data Warehousing, Data Modeling, Semantic Model\n",
      "Definition or Star Schema Construction, required\n",
      "Experience with AI & ML Platforms such as Azure Cognitive Services or\n",
      "AWS SageMaker & ML Services, required4/24/24, 1:54 PM (28) AI & ML Engineer | BDO USA | LinkedIn\n",
      "https://www.linkedin.com/jobs/view/3866911336/?eBP=CwEAAAGPET5Ue5oWGLmsFkyeWdZDoeYDvLIc3hupUJ92igPK7glibsZwKciq-ZSSXOWN7Wn7IeE24… 2/9Hands on delivery experience of end-to-end cloud data analytics\n",
      "solutions within Azure or AWS, preferred\n",
      "Experience with one (1) or more of the following computer languages,\n",
      "preferred:\n",
      "C#\n",
      "C++\n",
      "Python\n",
      "Java\n",
      "Scala\n",
      "Experience with tabular modeling within Power BI or Azure Analysis\n",
      "Services, preferred\n",
      "Experience with Git, DevOps, and MLOps deployment technologies,\n",
      "preferred\n",
      "Experience with Linux, preferred\n",
      "Experience with one (1) or more of the following, preferred:\n",
      "AI Algorithms/Machine Learning\n",
      "Computer Vision based AI technologies\n",
      "Language\n",
      "N/A\n",
      "Other Knowledge, Skills & Abilities\n",
      "Ability to work with a high degree of professionalism and autonomy\n",
      "Excellent verbal and written communication skills\n",
      "Solid organizational skills, especially the ability to meet project deadlines\n",
      "with a focus on details\n",
      "Ability to successfully multi-task while working independently or within a\n",
      "group environment\n",
      "Ability to work in a deadline-driven environment, and handle multiple\n",
      "projects simultaneously\n",
      "Ability to interact effectively with people at all organizational levels of the\n",
      "Firm\n",
      "Ability to effectively interact with a team of professionals and delegating\n",
      "work assignments, as needed\n",
      "Ability to build and maintain strong relationships with internal and client\n",
      "personnel\n",
      "Keywords:Data Analytics, Business Intelligence, BI, Solution Architect, Data\n",
      "Architect, Synapse, IoT, Machine Learning, PyTorch, TensorFlow, Data Lake,\n",
      "Stream, Cube, Microsoft, SQL Server, Tableau, .Net, C#, Qlik, Power BI, Machine\n",
      "Learning, Azure Data Factory, RedShift, UiPath, Cloud, RPA, AWS, Redshift,\n",
      "Kinesis, QuickSight, SageMaker, S3, Databricks, AWS Lake Formation, Snowflake,\n",
      "Python, Qlik, Athena, Data Pipeline, Glue, Star Schema, Data Modeling,\n",
      "Performance Tuning, SQL\n",
      "Individual salaries that are offered to a candidate are determined after\n",
      "consideration of numerous factors including but not limited to the candidateʼs\n",
      "qualifications, experience, skills, and geography.\n",
      "California Range: $100,000 - $155,000\n",
      "Colorado Range: $100,000 - $155,000\n",
      "NYC/Long Island/Westchester Range: $100,000 - $155,000\n",
      "Washington Range: $100,000 - $155,000\n",
      "About Us\n",
      "Join us at BDO, where you will find more than a career, youʼll find a place where\n",
      "your work is impactful, and you are valued for your individuality. We offer\n",
      "flexibility and opportunities for advancement. Our culture is centered around\n",
      "making meaningful connections, approaching interactions with curiosity, and\n",
      "being true to yourself, all while making a positive difference in the world.\n",
      "At BDO, our purpose of helping people thrive every day is at the heart of\n",
      "everything we do. Together, we are focused on delivering exceptional and\n",
      "sustainable outcomes and value for our people, our clients, and our communities.\n",
      "BDO is proud to be an ESOP company, reflecting a culture that puts people first,\n",
      "by sharing financially in our growth in value with our U.S. team. BDO professionals4/24/24, 1:54 PM (28) AI & ML Engineer | BDO USA | LinkedIn\n",
      "https://www.linkedin.com/jobs/view/3866911336/?eBP=CwEAAAGPET5Ue5oWGLmsFkyeWdZDoeYDvLIc3hupUJ92igPK7glibsZwKciq-ZSSXOWN7Wn7IeE24… 3/9See lessprovide assurance, tax and advisory services for a diverse range of clients across\n",
      "the U.S. and in over 160 countries through our global organization.\n",
      "BDO is the first large accounting and advisory organization to implement an\n",
      "Employee Stock Ownership Plan (ESOP). A qualified retirement plan, the ESOP\n",
      "offers participants a stake in the firmʼs success through beneficial ownership and\n",
      "a unique opportunity to enhance their financial well-being. The ESOP stands as a\n",
      "compelling addition to our comprehensive compensation and Total Rewards\n",
      "benefits* offerings. The annual allocation to the ESOP is fully funded by BDO\n",
      "through investments in company stock and grants employees the chance to grow\n",
      "their wealth over time as their shares vest and grow in value with the firmʼs\n",
      "success, with no employee contributions.\n",
      "We Are Committed To Delivering Exceptional Experiences To Middle Market\n",
      "Leaders By Sharing Insight-driven Perspectives, Helping Companies Take\n",
      "Business As Usual To Better Than Usual. With Industry Knowledge And\n",
      "Experience, a Breadth And Depth Of Resources, And Unwavering Commitment To\n",
      "Quality, We Pride Ourselves On\n",
      "Welcoming diverse perspectives and understanding the experience of our\n",
      "professionals and clients\n",
      "Empowering team members to explore their full potential\n",
      "Our talented team who brings varying skills, knowledge and experience to\n",
      "proactively help our clients navigate an expanding array of complex\n",
      "challenges and opportunities\n",
      "Celebrating ingenuity and innovation to transform our business and help\n",
      "our clients transform theirs\n",
      "Focus on resilience and sustainability to positively impact our people,\n",
      "clients, and communities\n",
      "Benefits may be subject to eligibility requirements.\n",
      "Equal Opportunity Employer, including disability/vets\n",
      "Click here to find out more!\n",
      "All qualified applicants will receive consideration for employment without regard\n",
      "to race, color, religion, sex, national origin, disability or protected veteran status.\n",
      "\"BDO USA, P.A. is an EO employer M/F/Veteran/Disability\"\n",
      "Set alert for similar jobs\n",
      "Machine Learning Engineer, Columbia, MDSet alert\n",
      "Details found in the job post\n",
      "Retrieved from the description\n",
      "Developer Role\n",
      "Machine Learning, DevOps, Embedded & Firmware, Data Engineering,\n",
      "Game\n",
      "Technology\n",
      "Python, Scala, GitHub, C, NET Framework, AWS, C++, Java, Azure, SQL\n",
      "Pay found in job post\n",
      "Retrieved from the description.\n",
      "Base salary\n",
      "$100,000/yr - $155,000/yr (from job description)4/24/24, 1:54 PM (28) AI & ML Engineer | BDO USA | LinkedIn\n",
      "https://www.linkedin.com/jobs/view/3866911336/?eBP=CwEAAAGPET5Ue5oWGLmsFkyeWdZDoeYDvLIc3hupUJ92igPK7glibsZwKciq-ZSSXOWN7Wn7IeE24… 4/9Qualifications\n",
      "4 skills match your profile. Stand out by adding other skills you\n",
      "have.\n",
      "Skills associated with the job post\n",
      "Identified by LinkedIn\n",
      "4 skills on your profile\n",
      "Artificial Intelligence (AI), Data Modeling, Data Science, and Pattern Recogni…\n",
      "6 skills missing on your profile\n",
      "AWS SageMaker, Custom Integration, DDL, Data Manipulation, Star Schema,…\n",
      "Additional skills among applicants\n",
      "8 skills other applicants have\n",
      "Data Analysis, Deep Learning, Machine Learning, PyTorch, Python (Program…\n",
      "Show qualification details\n",
      "Put your best foot forward with your application\n",
      "Hire a resume writer\n",
      "Get a resume review\n",
      "See how you compare to other applicants\n",
      "Applicants for this job\n",
      "28Applicants\n",
      "1Applicant in the past day\n",
      "Applicant seniority level\n",
      "13 Entry level applicants\n",
      "3 Senior level applicants\n",
      "Applicant education level\n",
      "19%have a Doctor of Philosophy (Similar to you)\n",
      "70%have a Master's Degree\n",
      "11%have a Bachelor's Degree\n",
      "Applicants are in these locations4/24/24, 1:54 PM (28) AI & ML Engineer | BDO USA | LinkedIn\n",
      "https://www.linkedin.com/jobs/view/3866911336/?eBP=CwEAAAGPET5Ue5oWGLmsFkyeWdZDoeYDvLIc3hupUJ92igPK7glibsZwKciq-ZSSXOWN7Wn7IeE24… 5/910-15 applicants\n",
      "Washington DC-Baltimore\n",
      "Area\n",
      "1-5 applicants\n",
      "San Francisco Bay Area\n",
      "1-5 applicants\n",
      "United States\n",
      "See if BDO USA is hiring people like you\n",
      "Show more Premium insightsThe latest hiring trends.\n",
      "10,371\n",
      "Total employees0%\n",
      "Company-wide\n",
      "2 year growth12%\n",
      "Finance\n",
      "2 year growth\n",
      "Median employee tenure ‧4 yearsApr 2022 Oct 2022 Apr 2023 Oct 2023 Apr 20245,00010,00015,000\n",
      "BDO USA hires candidates from some of these companies and schools\n",
      "BDO USA hired 1 person from Flatiron School.See all\n",
      "Finance hires at BDO USA came from\n",
      "these companies and more.\n",
      "See more companiesFinance hires at BDO USA came from\n",
      "these schools and more.\n",
      "See more schools\n",
      "About the company\n",
      "BDO USA\n",
      "147,714 followersFollow\n",
      "Accounting•10,001+ employees•10,371 on LinkedIn\n",
      "Reset map4/24/24, 1:54 PM (28) AI & ML Engineer | BDO USA | LinkedIn\n",
      "https://www.linkedin.com/jobs/view/3866911336/?eBP=CwEAAAGPET5Ue5oWGLmsFkyeWdZDoeYDvLIc3hupUJ92igPK7glibsZwKciq-ZSSXOWN7Wn7IeE24… 6/9More jobsCommitments\n",
      "Work-life balance\n",
      "Diversity, equity, and inclusion\n",
      "Career growth and learning\n",
      "Environmental sustainability\n",
      "Social impact\n",
      "Learn more\n",
      "Company photos\n",
      "Show moreThe measure of our success is in what we achieve together.\n",
      "At BDO, culture is the first order of business. We succeed when we cultivate a\n",
      "conscious and caring corporate culture that puts people at the center of……show more\n",
      "As the needs of our people and clients have evolved, so has our flexible……Show more\n",
      "Diversity, equity, and inclusion at BDO starts the way everything at BDO starts ……Show more\n",
      "At BDO, you can do much more than fulfill your career ambitions — you can……Show more\n",
      "For us, sustainability isnʼt about checking boxes. Itʼs about taking steps to……Show more\n",
      "Our core purpose is helping people thrive, every day. At BDO, we believe that ou……Show more\n",
      "Interested in working with us in the future?\n",
      "Privately share your profile with our recruiters – youʼll be noted as\n",
      "expressing interest for up to a year.Learn more\n",
      "Iʼm interested\n",
      "Machine Learning\n",
      "Engineer\n",
      "Elsdon Consulting ltd\n",
      "Columbia, MD (On-site)\n",
      "Actively recruiting\n",
      "6 days agoEasy ApplyMachine Learning\n",
      "Engineer\n",
      "RAND\n",
      "Washington DC-Baltimore Area\n",
      "(On-site)\n",
      "1 week ago\n",
      "4/24/24, 1:54 PM (28) AI & ML Engineer | BDO USA | LinkedIn\n",
      "https://www.linkedin.com/jobs/view/3866911336/?eBP=CwEAAAGPET5Ue5oWGLmsFkyeWdZDoeYDvLIc3hupUJ92igPK7glibsZwKciq-ZSSXOWN7Wn7IeE24… 7/9See more jobs like thisSoftware and AI\n",
      "Integration Engineer\n",
      "Booz Allen Hamilton\n",
      "Honolulu, HI (Hybrid)\n",
      "2 connections work here\n",
      "3 weeks agoSoftware Engineer /\n",
      "Research Scientist\n",
      "Parsons Corporation\n",
      "Aberdeen, MD (On-site)\n",
      "Actively recruiting\n",
      "6 days ago16 applicants\n",
      "Machine Learning\n",
      "Engineer / AI Engineer\n",
      "Dice\n",
      "Minneapolis, MN (On-site)\n",
      "2 hours agoAI Software Developer\n",
      "IBM\n",
      "Yorktown Heights, NY\n",
      "3 company alumni work here\n",
      "2 weeks ago\n",
      "Machine Learning\n",
      "Engineer\n",
      "RAND\n",
      "Pittsburgh, PA (On-site)\n",
      "1 week agoSoftware Engineer-\n",
      "Remote\n",
      "Jacobs\n",
      "Hanover, MD\n",
      "1 company alum works here\n",
      "1 week ago\n",
      "Data Engineer (Jr/Mid)\n",
      "CGI\n",
      "Baltimore, MD\n",
      "Actively recruiting\n",
      "1 month agoSoftware Engineer\n",
      "Boeing\n",
      "Annapolis Junction, MD\n",
      "6 company alumni work here\n",
      "2 weeks ago\n",
      "Systems Engineer\n",
      "The Johns Hopkins University\n",
      "Baltimore, MD (Hybrid)\n",
      "2 connections work here\n",
      "3 weeks agoJunior AI/ML Software\n",
      "Engineer\n",
      "Dice\n",
      "Washington, VA (On-site)\n",
      "2 hours ago4/24/24, 1:54 PM (28) AI & ML Engineer | BDO USA | LinkedIn\n",
      "https://www.linkedin.com/jobs/view/3866911336/?eBP=CwEAAAGPET5Ue5oWGLmsFkyeWdZDoeYDvLIc3hupUJ92igPK7glibsZwKciq-ZSSXOWN7Wn7IeE24… 8/9About Accessibility Talent Solutions\n",
      "Community Guidelines Careers Marketing Solutions\n",
      "Ad Choices Advertising\n",
      "Sales Solutions Mobile Small Business\n",
      "Safety CenterQuestions?\n",
      "Visit our Help Center.\n",
      "Manage your account and privacy\n",
      "Go to your Settings.\n",
      "Recommendation transparency\n",
      "Learn more about Recommended Content.Select Language\n",
      "LinkedIn Corporation © 2024Learn skills to get a new job with these courses\n",
      "20,722 viewers\n",
      "1,890 viewers\n",
      "Show more on LinkedIn Learning\n",
      "ETL in Python and SQL\n",
      "Learning Azure Stream Analytics\n",
      "Essentials of MLOps with Azure: 2 Databricks MLflow and MLflow\n",
      "Tracking\n",
      "Looking for talent?Post a job\n",
      "Privacy & Terms\n",
      "English (English)4/24/24, 1:54 PM (28) AI & ML Engineer | BDO USA | LinkedIn\n",
      "https://www.linkedin.com/jobs/view/3866911336/?eBP=CwEAAAGPET5Ue5oWGLmsFkyeWdZDoeYDvLIc3hupUJ92igPK7glibsZwKciq-ZSSXOWN7Wn7IeE24… 9/9\n"
     ]
    }
   ],
   "source": [
    "example_linkedin = read_pdf(job_fpath_linkedin)\n",
    "print(example_linkedin)"
   ]
  },
  {
   "cell_type": "code",
   "execution_count": 55,
   "metadata": {
    "execution": {
     "iopub.execute_input": "2024-04-24T17:57:58.945247Z",
     "iopub.status.busy": "2024-04-24T17:57:58.944256Z",
     "iopub.status.idle": "2024-04-24T17:57:59.121383Z",
     "shell.execute_reply": "2024-04-24T17:57:59.121058Z",
     "shell.execute_reply.started": "2024-04-24T17:57:58.945189Z"
    }
   },
   "outputs": [
    {
     "name": "stdout",
     "output_type": "stream",
     "text": [
      "Data Science, Lead Associate\n",
      "Peraton ·3.1\n",
      "Columbia, MD 21045\n",
      "$112,000 - $179,000 a year - Full-time\n",
      "Peraton\n",
      "284 reviews\n",
      "Read what people are saying about working here.\n",
      "Pro\u0000le insights\n",
      "You have matching quali\u0000cations, based on your pro\u0000le  and the job description\n",
      "Skills\n",
      "Education4\n",
      "What Job title, keywords, or co Where remote Find Jobs\n",
      "Job Company\n",
      "Apply now\n",
      "Statistics ETL AI4/24/24, 1:52 PM Data Science, Lead Associate - Columbia, MD 21045 - Indeed.com\n",
      "https://www.indeed.com/viewjob?jk=56caf7cd23fc352b&tk=1hs8jpqkkj4r6801&from=hp&vjs=3&advn=7754896540747842&adid=401315534&ad=-6NYlbfkN0B… 1/5Job details\n",
      "Here’s how the job details align with your pro\u0000le .\n",
      "Pay\n",
      "Job type\n",
      "Location\n",
      "Columbia, MD 21045\n",
      "Bene\u0000ts\n",
      "Pulled from the full job description\n",
      "Full job description\n",
      "About Peraton\n",
      "Peraton is a next-generation national security company that drives missions of consequence\n",
      "spanning the globe and extending to the farthest reaches of the galaxy. As the world's leadingMaster's degree High school diploma or GED Doctoral degree\n",
      "Bachelor's degree\n",
      "$112,000 - $179,000 a year\n",
      "Full-time\n",
      "Dental insurance\n",
      "Disability insurance\n",
      "Health insurance\n",
      "Paid parental leave\n",
      "Paid time o\u0000\n",
      "Parental leave\n",
      "Tuition reimbursement\n",
      "Vision insurance\n",
      "Show fewer4/24/24, 1:52 PM Data Science, Lead Associate - Columbia, MD 21045 - Indeed.com\n",
      "https://www.indeed.com/viewjob?jk=56caf7cd23fc352b&tk=1hs8jpqkkj4r6801&from=hp&vjs=3&advn=7754896540747842&adid=401315534&ad=-6NYlbfkN0B… 2/5mission capability integrator and transformative enterprise IT provider, we deliver trusted, highly\n",
      "di\u0000erentiated solutions and technologies to protect our nation and allies. Peraton operates at the\n",
      "critical nexus between traditional and nontraditional threats across all domains: land, sea, space,\n",
      "air, and cyberspace. The company serves as a valued partner to essential government agencies\n",
      "and supports every branch of the U.S. armed forces. Each day, our employees do the can't be done\n",
      "by solving the most daunting challenges facing our customers. Visit peraton.com to learn how\n",
      "we're keeping people around the world safe and secure.\n",
      "Responsibilities\n",
      "Peraton is hiring a Data Scientist to join our Cyber Mission business unit in Fort Meade, Maryland.\n",
      "As a Data Scientist on our team, you will support one of the largest enterprise-wide engineering\n",
      "contracts within the Intelligence Community. This is a full-time position requiring 1880 hours of\n",
      "support per year; and work is performed at a customer location. As a Data Scientist on our team\n",
      "you will provide support and related services to help simplify, automate, and hasten data\n",
      "movement across the mission platform. The successful individual will perform end-to-end\n",
      "systems engineering for data \u0000ows from the perspective of data modeling, data mapping, and\n",
      "support to implementers and mission customers. This position requires strong software and\n",
      "systems engineering expertise across the full life cycle of data and limited need for high-level\n",
      "direction. Key activities include:\n",
      "Framing, de\u0000ning, and bounding Enterprise level data needs and concerns into broad\n",
      "actionable initiatives with clearly identi\u0000able downstream tasking\n",
      "Recommending new automation strategies and maturing current automation e\u0000orts\n",
      "Performing high-level data requirements analysis to support the application of data\n",
      "standards across the enterprise.\n",
      "Operating within, and coordinating across, teams that employ varying development\n",
      "methodologies (Agile, Scrum, and Kanban).\n",
      "Possessing an instinctive aptitude to leverage information and knowledge sharing networks\n",
      "and navigating con\u0000ict in a way that fosters constructive outcomes.\n",
      "The selected candidate will demonstrate the aptitude to learn and grow in the following areas.\n",
      "Experience in one or more of these areas will greatly increase the probability of success.\n",
      "Hands on data wrangling: Extract Transform Load (or ETL), Databases, DBA, shell scripting\n",
      "Hands on experience with Data Serializations (AVRO/protobuf/YAML/XML/JSON)\n",
      "Problem framing, pattern recognition, AI/ML exposure\n",
      "SIGINT understanding\n",
      "Facility with data query DSLs (e.g. SQL)4/24/24, 1:52 PM Data Science, Lead Associate - Columbia, MD 21045 - Indeed.com\n",
      "https://www.indeed.com/viewjob?jk=56caf7cd23fc352b&tk=1hs8jpqkkj4r6801&from=hp&vjs=3&advn=7754896540747842&adid=401315534&ad=-6NYlbfkN0B… 3/5Quali\u0000cations\n",
      "Bachelor's degree Computer Science, Mathematics, or related discipline plus six years of\n",
      "experience in Mathematics/Statistics, Computer Science, and analysis of data syntax and\n",
      "semantics; High School Diploma or GED plus seven years of experience in\n",
      "Mathematics/Statistics, Computer Science, and analysis of data syntax and semantic; a\n",
      "Master's degree from an accredited college or university in Computer Science, Mathematics,\n",
      "or related discipline and three years of experience; or a or PhD degree from an accredited\n",
      "college or university in Computer Science, Mathematics, or related discipline.\n",
      "Position requires TS/SCI clearance with polygraph.\n",
      "Applicants selected will be subject to a government security investigation and must meet\n",
      "eligibility requirements for access to classi\u0000ed information.\n",
      "Peraton o\u0000ers enhanced bene\u0000ts to employees working on this critical National Security\n",
      "program, which include heavily subsidized employee bene\u0000ts coverage for you and your\n",
      "dependents, 25 days of PTO accrued annually up to a generous PTO cap and eligible to participate\n",
      "in an attractive bonus plan\n",
      "Peraton is an Equal Opportunity/A\u0000rmative Action Employer. We consider applicants without\n",
      "regard to race, color, religion, age, national origin, ancestry, ethnicity, gender, gender identity,\n",
      "gender expression, sexual orientation, marital status, veteran status, disability, genetic\n",
      "information, citizenship status, or membership in any other group protected by federal, state, or\n",
      "local law.\n",
      "#AJCM\n",
      "Target Salary Range\n",
      "$112,000 - $179,000. This represents the typical salary range for this position based on\n",
      "experience and other factors.\n",
      "SCA / Union / Intern Rate or Range\n",
      "EEO\n",
      "An Equal Opportunity Employer including Disability/Veteran.\n",
      "Our Values\n",
      "Bene\u0000ts\n",
      "At Peraton, our bene\u0000ts are designed to help keep you at your best beyond the work you do with4/24/24, 1:52 PM Data Science, Lead Associate - Columbia, MD 21045 - Indeed.com\n",
      "https://www.indeed.com/viewjob?jk=56caf7cd23fc352b&tk=1hs8jpqkkj4r6801&from=hp&vjs=3&advn=7754896540747842&adid=401315534&ad=-6NYlbfkN0B… 4/5us daily. We're fully committed to the growth of our employees. From fully comprehensive medical\n",
      "plans to tuition reimbursement, tuition assistance, and fertility treatment, we are there to support\n",
      "you all the way.\n",
      "Paid Time-O\u0000 and Holidays\n",
      "Retirement\n",
      "Life & Disability Insurance\n",
      "Career Development\n",
      "Tuition Assistance and Student Loan Financing\n",
      "Paid Parental Leave\n",
      "Additional Bene\u0000ts\n",
      "Medical, Dental, & Vision Care\n",
      "Data Scientist jobs in Columbia, MD\n",
      "Jobs at Peraton in Columbia, MD\n",
      "Data Scientist salaries in Columbia, MD\n",
      "Hiring Lab Career Advice Browse Jobs Browse Companies Salaries Indeed Events\n",
      "Work at Indeed Countries About Help Center ESG at Indeed\n",
      "© 2024 Indeed Your Privacy Choices Accessibility at Indeed Privacy Center and Ad Choices\n",
      "Terms\n",
      "Report job4/24/24, 1:52 PM Data Science, Lead Associate - Columbia, MD 21045 - Indeed.com\n",
      "https://www.indeed.com/viewjob?jk=56caf7cd23fc352b&tk=1hs8jpqkkj4r6801&from=hp&vjs=3&advn=7754896540747842&adid=401315534&ad=-6NYlbfkN0B… 5/5\n"
     ]
    }
   ],
   "source": [
    "example_indeed = read_pdf(job_fpath_indeed)\n",
    "print(example_indeed)"
   ]
  },
  {
   "cell_type": "code",
   "execution_count": null,
   "metadata": {},
   "outputs": [],
   "source": []
  },
  {
   "cell_type": "code",
   "execution_count": null,
   "metadata": {},
   "outputs": [],
   "source": []
  },
  {
   "cell_type": "code",
   "execution_count": null,
   "metadata": {},
   "outputs": [],
   "source": []
  },
  {
   "cell_type": "code",
   "execution_count": 19,
   "metadata": {
    "execution": {
     "iopub.execute_input": "2024-04-24T17:26:20.061906Z",
     "iopub.status.busy": "2024-04-24T17:26:20.061106Z",
     "iopub.status.idle": "2024-04-24T17:26:20.072750Z",
     "shell.execute_reply": "2024-04-24T17:26:20.071872Z",
     "shell.execute_reply.started": "2024-04-24T17:26:20.061868Z"
    }
   },
   "outputs": [
    {
     "data": {
      "text/plain": [
       "<PyPDF2._reader.PdfReader at 0x1679d7670>"
      ]
     },
     "execution_count": 19,
     "metadata": {},
     "output_type": "execute_result"
    }
   ],
   "source": [
    "file = job_fpath\n",
    "reader = PyPDF2.PdfReader(file)\n",
    "reader"
   ]
  },
  {
   "cell_type": "code",
   "execution_count": 21,
   "metadata": {
    "execution": {
     "iopub.execute_input": "2024-04-24T17:27:03.326371Z",
     "iopub.status.busy": "2024-04-24T17:27:03.325326Z",
     "iopub.status.idle": "2024-04-24T17:27:03.340482Z",
     "shell.execute_reply": "2024-04-24T17:27:03.339335Z",
     "shell.execute_reply.started": "2024-04-24T17:27:03.326306Z"
    }
   },
   "outputs": [
    {
     "data": {
      "text/plain": [
       "{'/Title': 'Data Scientist - Focus School Software | Remote',\n",
       " '/Creator': 'Mozilla/5.0 (Macintosh; Intel Mac OS X 10_15_7) AppleWebKit/537.36 (KHTML, like Gecko) Chrome/123.0.0.0 Safari/537.36',\n",
       " '/Producer': 'Skia/PDF m123',\n",
       " '/CreationDate': \"D:20240404184824+00'00'\",\n",
       " '/ModDate': \"D:20240404184824+00'00'\"}"
      ]
     },
     "execution_count": 21,
     "metadata": {},
     "output_type": "execute_result"
    }
   ],
   "source": [
    "reader.metadata"
   ]
  },
  {
   "cell_type": "code",
   "execution_count": 39,
   "metadata": {
    "execution": {
     "iopub.execute_input": "2024-04-24T17:45:46.656916Z",
     "iopub.status.busy": "2024-04-24T17:45:46.655664Z",
     "iopub.status.idle": "2024-04-24T17:45:46.667426Z",
     "shell.execute_reply": "2024-04-24T17:45:46.666398Z",
     "shell.execute_reply.started": "2024-04-24T17:45:46.656861Z"
    }
   },
   "outputs": [],
   "source": [
    "# reader.pages"
   ]
  },
  {
   "cell_type": "code",
   "execution_count": 40,
   "metadata": {
    "execution": {
     "iopub.execute_input": "2024-04-24T17:45:49.051837Z",
     "iopub.status.busy": "2024-04-24T17:45:49.050784Z",
     "iopub.status.idle": "2024-04-24T17:45:49.060030Z",
     "shell.execute_reply": "2024-04-24T17:45:49.058564Z",
     "shell.execute_reply.started": "2024-04-24T17:45:49.051775Z"
    }
   },
   "outputs": [],
   "source": [
    "page = reader.pages[0]\n",
    "# page"
   ]
  },
  {
   "cell_type": "code",
   "execution_count": 28,
   "metadata": {
    "execution": {
     "iopub.execute_input": "2024-04-24T17:28:29.248658Z",
     "iopub.status.busy": "2024-04-24T17:28:29.247481Z",
     "iopub.status.idle": "2024-04-24T17:28:29.310563Z",
     "shell.execute_reply": "2024-04-24T17:28:29.310196Z",
     "shell.execute_reply.started": "2024-04-24T17:28:29.248591Z"
    }
   },
   "outputs": [
    {
     "name": "stdout",
     "output_type": "stream",
     "text": [
      "4/4/24, 2:48 PM Data Scientist - Focus School Software | Remote\n",
      "https://www.simplyhired.com/job/lxgFxvpAXhH6zOMvh9G6pzooFKCORCgkfSudwEuQZAQjF7dORlMCSw?from=smart-apply 1/4Post Jobs\n",
      "D\u0000t\u0000 Scientist\n",
      "Focus School Softw\u0000re\n",
      "Remote\n",
      "Job Det\u0000ils\n",
      "Full-time\n",
      "$91,751.28 - $110,496.16 \u0000 ye\u0000r\n",
      "2 d\u0000ys \u0000\u0000o\n",
      "Beneﬁts\n",
      "He\u0000lth s\u0000vin\u0000s \u0000ccount Dis\u0000bility insur\u0000nce He\u0000lth insur\u0000nce\n",
      "Dent\u0000l insur\u0000nce 401(k) Flexible spendin\u0000 \u0000ccount P\u0000id time off\n",
      "Vision insur\u0000nce 401(k) m\u0000tchin\u0000 Life insur\u0000nce\n",
      "Qu\u0000liﬁc\u0000tions\n",
      "Power BI Writin\u0000 skills D\u0000t\u0000 \u0000n\u0000lysis skills Rese\u0000rch 3 ye\u0000rs\n",
      "SQL Re\u0000ression \u0000n\u0000lysis 2 ye\u0000rs Communic\u0000tion skills An\u0000lytics\n",
      "Full Job Description\n",
      "Focus is lookin\u0000 for ener\u0000etic, cre\u0000tive, \u0000nd experienced c\u0000ndid\u0000tes who c\u0000n help us\n",
      "succeed in our mission to serve \u0000n incre\u0000sin\u0000 number of districts \u0000cross the n\u0000tion. We\n",
      "keep our clients’ needs \u0000t the forefront of everythin\u0000 we do. As \u0000 comp\u0000ny who\n",
      "underst\u0000nds the h\u0000rd work of tod\u0000y’s educ\u0000tors, Focus looks for employees who sh\u0000re our\n",
      "v\u0000lues tow\u0000rds educ\u0000tion.\n",
      "Focus School Softw\u0000re is lookin\u0000 to exp\u0000nd our te\u0000m by hirin\u0000 \u0000 PowerBI Developer / D\u0000t\u0000\n",
      "Scientist to work with our te\u0000m. This person will help support our An\u0000lytics product which\n",
      "includes dozens of d\u0000shbo\u0000rds \u0000n\u0000lyzin\u0000 student d\u0000t\u0000 to help educ\u0000tors t\u0000r\u0000etJI\n",
      "Quick Apply\n"
     ]
    }
   ],
   "source": [
    "print(page.extract_text())"
   ]
  },
  {
   "cell_type": "markdown",
   "metadata": {},
   "source": [
    "### Trying OCR (PDF as Img)"
   ]
  },
  {
   "cell_type": "code",
   "execution_count": 34,
   "metadata": {
    "execution": {
     "iopub.execute_input": "2024-04-24T17:35:42.031951Z",
     "iopub.status.busy": "2024-04-24T17:35:42.031045Z",
     "iopub.status.idle": "2024-04-24T17:35:45.335481Z",
     "shell.execute_reply": "2024-04-24T17:35:45.334711Z",
     "shell.execute_reply.started": "2024-04-24T17:35:42.031903Z"
    }
   },
   "outputs": [
    {
     "name": "stdout",
     "output_type": "stream",
     "text": [
      "Requirement already satisfied: pytesseract in /opt/homebrew/Caskroom/miniforge/base/envs/dojo-env/lib/python3.10/site-packages (0.3.10)\n",
      "Collecting pdf2img\n",
      "  Downloading pdf2img-0.1.2.tar.gz (8.5 kB)\n",
      "  Preparing metadata (setup.py) ... \u001b[?25ldone\n",
      "\u001b[?25hRequirement already satisfied: packaging>=21.3 in /Users/codingdojo/.local/lib/python3.10/site-packages (from pytesseract) (23.2)\n",
      "Requirement already satisfied: Pillow>=8.0.0 in /opt/homebrew/Caskroom/miniforge/base/envs/dojo-env/lib/python3.10/site-packages (from pytesseract) (9.5.0)\n",
      "Building wheels for collected packages: pdf2img\n",
      "  Building wheel for pdf2img (setup.py) ... \u001b[?25ldone\n",
      "\u001b[?25h  Created wheel for pdf2img: filename=pdf2img-0.1.2-py3-none-any.whl size=9240 sha256=5dcf666a46e6728531c8a221627c0183f4d9ef6c1e806b7e44a4874a64284c2a\n",
      "  Stored in directory: /Users/codingdojo/Library/Caches/pip/wheels/7f/ce/db/9cb36b5b9740928098b2a9784653023a09346063988de88907\n",
      "Successfully built pdf2img\n",
      "Installing collected packages: pdf2img\n",
      "Successfully installed pdf2img-0.1.2\n"
     ]
    }
   ],
   "source": [
    "!pip install pytesseract pdf2img"
   ]
  },
  {
   "cell_type": "code",
   "execution_count": 38,
   "metadata": {
    "execution": {
     "iopub.execute_input": "2024-04-24T17:41:56.190010Z",
     "iopub.status.busy": "2024-04-24T17:41:56.188742Z",
     "iopub.status.idle": "2024-04-24T17:42:00.170300Z",
     "shell.execute_reply": "2024-04-24T17:42:00.169906Z",
     "shell.execute_reply.started": "2024-04-24T17:41:56.189957Z"
    }
   },
   "outputs": [
    {
     "name": "stdout",
     "output_type": "stream",
     "text": [
      "4/4/24, 2:48 PM Data Scientist - Focus School Software | Remote\n",
      "\n",
      "SimplyHired. SPostioss @\n",
      "\n",
      "Data Scientist\n",
      "\n",
      "f8 Focus School Software\n",
      "@ Remote ° % Quick Apply\n",
      "\n",
      "Job Details\n",
      "\n",
      "& Full-time\n",
      "\n",
      "S $91,751.28 - $110,496.16 a year\n",
      "\n",
      "© 2 days ago\n",
      "\n",
      "Benefits\n",
      "Health savings account Disability insurance Health insurance\n",
      "Dental insurance 401(k) Flexible spending account Paid time off\n",
      "Vision insurance 401(k) matching Life insurance\n",
      "\n",
      "Qualifications\n",
      "Power BI Writing skills Data analysis skills Research 3 years\n",
      "SQL Regression analysis 2 years Communication skills Analytics\n",
      "\n",
      "Full Job Description\n",
      "\n",
      "Focus is looking for energetic, creative, and experienced candidates who can help us\n",
      "succeed in our mission to serve an increasing number of districts across the nation. We\n",
      "keep our clients’ needs at the forefront of everything we do. As a company who\n",
      "understands the hard work of today’s educators, Focus looks for employees who share our\n",
      "values towards education.\n",
      "\n",
      "Focus School Software is looking to expand our team by hiring a PowerBl Developer / Data\n",
      "Scientist to work with our team. This person will help support our Analytics product which\n",
      "includes dozens of dashboards analyzing student data to help educators target\n",
      "\n",
      "https://www.simplyhired.com/job/lxgFxvpA XhH6zOMvh9G6pzooFK CORCgkfSudwEuQZA QjF7dORIMCSw?from=smart-apply\n",
      "\n",
      "1/4\n",
      "\n",
      "4/4/24, 2:48 PM Data Scientist - Focus School Software | Remote\n",
      "interventions and improve their educational processes. This position may be occasionally\n",
      "customer facing, providing training and professional growth opportunities. The best\n",
      "candidate will display leadership capabilities to help drive data-decision making\n",
      "processes within Focus and our customers.\n",
      "\n",
      "Minimum Qualifications:\n",
      "\n",
      "¢ 2+ years' experience as a PowerBl developer, data scientist, data analyst or data\n",
      "engineer\n",
      "\n",
      "¢ Experience with PowerBi Analytics, creating dashboards, Data Analysis Expressions\n",
      "(DAX)\n",
      "\n",
      "¢ Strong SQL skills\n",
      "\n",
      "¢ Strong writing and communication skills\n",
      "\n",
      "e Experience with statistical research and analytics techniques (i.e. classification,\n",
      "clustering, regression, segmentation, etc.)\n",
      "\n",
      "Nice to have:\n",
      "\n",
      "¢ A passion and interest in the development of Educational software\n",
      "¢ Knowledge of school district processes and functionality is helpful\n",
      "\n",
      "Job Responsibilities include:\n",
      "\n",
      "e Undertake preprocessing of structured and unstructured data\n",
      "\n",
      "¢ Analyze large amounts of data/information to discover and articulate trends and\n",
      "patterns\n",
      "\n",
      "¢ Collecting data through means such as analyzing business results or by setting up\n",
      "and managing new studies\n",
      "\n",
      "¢ Transferring data into a new format to make it more appropriate for analysis\n",
      "\n",
      "¢ Searching through large data sets for usable information\n",
      "\n",
      "¢ Solve large, complex problems to achieve interrelated and interdependent objectives\n",
      "\n",
      "¢ Creating reports and presentations for business uses\n",
      "\n",
      "¢ Correlating similar data to find actionable results\n",
      "\n",
      "Focus School Software’s compensation package offers the following benefits:\n",
      "\n",
      "¢ Medical Insurance\n",
      "\n",
      "¢ Dental/Vision Insurance\n",
      "\n",
      "¢ Life Insurance\n",
      "\n",
      "¢ Short and Long Term Disability Insurance\n",
      "e 401(k) after 6 months\n",
      "\n",
      "¢ Paid Holidays\n",
      "\n",
      "¢ Paid Vacation and Sick Time\n",
      "\n",
      "https://www.simplyhired.com/job/IxgFxvpAXhH6zOMvh9G6pzooFKCORCgkfSudwEuQZAQjF7dORIMCSw?from=smart-apply 2/4\n",
      "\n",
      "4/4/24, 2:48 PM Data Scientist - Focus School Software | Remote\n",
      "\n",
      "¢ Remote Position\n",
      "Job Type: Full-time\n",
      "Pay: $91,751.28 - $110,496.16 per year\n",
      "Benefits:\n",
      "\n",
      "© 401(k)\n",
      "\n",
      "e 401(k) matching\n",
      "\n",
      "¢ Dental insurance\n",
      "\n",
      "e Flexible spending account\n",
      "¢ Health insurance\n",
      "\n",
      "e Health savings account\n",
      "\n",
      "e Life insurance\n",
      "\n",
      "e Paid time off\n",
      "\n",
      "e Vision insurance\n",
      "\n",
      "Experience level:\n",
      "\n",
      "e 3 years\n",
      "Schedule:\n",
      "\n",
      "¢ Monday to Friday\n",
      "\n",
      "Work Location: Remote\n",
      "\n",
      "e % Quick Apply\n",
      "\n",
      "Resources and Tools v\n",
      "\n",
      "Si m plyH i red Take your job search wherever you go.\n",
      "e\n",
      "\n",
      "Country\n",
      "\n",
      "| United States v\n",
      "\n",
      "https://www.simplyhired.com/job/lxgFxvpA XhH6zOMvh9G6pzooFK CORCgkfSudwEuQZA QjF7dORIMCSw?from=smart-apply\n",
      "\n",
      "3/4\n",
      "\n",
      "4/4/24, 2:48 PM Data Scientist - Focus School Software | Remote\n",
      "\n",
      "©2024SHInc. Privacy | Terms | Cookies | PrivacyCenter | Accessibility | Your Privacy Choices VE\n",
      "\n",
      "https://www.simplyhired.com/job/lxgFxvpA XhH6zOMvh9G6pzooFK CORCgkfSudwEuQZA QjF7dORIMCSw?from=smart-apply 4/4\n",
      "\n",
      "\n"
     ]
    }
   ],
   "source": [
    "import pytesseract\n",
    "from PIL import Image\n",
    "from pdf2image import convert_from_path\n",
    "\n",
    "def extract_text_from_image_pdf(pdf_path):\n",
    "    images = convert_from_path(pdf_path)\n",
    "    text = ''\n",
    "    for image in images:\n",
    "        text += pytesseract.image_to_string(image) + '\\n'\n",
    "    return text\n",
    "\n",
    "\n",
    "extracted_text = extract_text_from_image_pdf(job_fpath)\n",
    "print(extracted_text)\n"
   ]
  },
  {
   "cell_type": "code",
   "execution_count": 58,
   "metadata": {
    "execution": {
     "iopub.execute_input": "2024-04-24T18:01:13.587794Z",
     "iopub.status.busy": "2024-04-24T18:01:13.587011Z",
     "iopub.status.idle": "2024-04-24T18:01:17.073088Z",
     "shell.execute_reply": "2024-04-24T18:01:17.072680Z",
     "shell.execute_reply.started": "2024-04-24T18:01:13.587709Z"
    }
   },
   "outputs": [
    {
     "name": "stdout",
     "output_type": "stream",
     "text": [
      "4/4/24, 3:17 PM Data Scientist - Tech Holding | Remote\n",
      "\n",
      "SimplyHired. & Post Jobs 0\n",
      "Data Scientist\n",
      "\n",
      "§ Tech Holding\n",
      "@ Remote ad % Quick Apply\n",
      "\n",
      "Job Details\n",
      "S $120,000 - $130,000 a year\n",
      "\n",
      "Benefits\n",
      "Disability insurance Health insurance Unlimited paid time off\n",
      "Dental insurance Vision insurance 401(k) matching Flexible schedule\n",
      "\n",
      "Life insurance\n",
      "\n",
      "Qualifications\n",
      "Computer science Cloud infrastructure RNN Computer Science\n",
      "Data analysis skills 3 years Statistical analysis AWS\n",
      "Bachelor's degree Machine learning CNN Computer networking\n",
      "Data science Machine learning frameworks Communication skills\n",
      "\n",
      "Full Job Description\n",
      "\n",
      "About us:\n",
      "\n",
      "Working at Tech Holding isn't just a job, it's an opportunity to be a part of something\n",
      "bigger. We are a full-service consulting firm that was founded on the premise of delivering\n",
      "predictable outcomes and high-quality solutions to our clients. Our founders and team\n",
      "\n",
      "e % Quick Apply\n",
      "\n",
      "https://www.simplyhired.com/job/8Z7Gv5pReM w8zxJx720JEglUjBJo_qF4HMyTGZeS UmxrFq3zti_FZw\n",
      "\n",
      "1/3\n",
      "\n",
      "4/4/24, 3:17 PM. Data Scientist - Tech Holding | Remote\n",
      "combined experiences and developed a unique approach that is supported by the\n",
      "principles of deep expertise, integrity, transparency, and dependability.\n",
      "The Role:\n",
      "\n",
      "The Data Scientist will be responsible for leveraging the power of data analysis and\n",
      "modeling to solve complex problems and drive strategic decisions. Utilizing a strong\n",
      "background in AWS environments, the ideal candidate will extract insights from large\n",
      "datasets, build predictive models, and implement machine learning algorithms to support\n",
      "the company's objectives.\n",
      "\n",
      "What you will do:\n",
      "\n",
      "¢ Develop and implement data models, machine learning algorithms, and analytical\n",
      "processes to support company initiatives.\n",
      "\n",
      "¢ Design and construct data architectures for scalability, reliability, and performance\n",
      "within an AWS environment.\n",
      "\n",
      "¢ Analyze large, complex datasets to identify meaningful patterns and trends, and\n",
      "translate data-driven insights into actionable business strategies.\n",
      "\n",
      "¢ Collaborate with cross-functional teams to understand data needs and deliver\n",
      "solutions that enable effective decision-making.\n",
      "\n",
      "e Ensure data quality and integrity by developing and maintaining clear and robust\n",
      "data pipelines.\n",
      "\n",
      "¢ Stay abreast of industry trends and advancements in data science and machine\n",
      "learning to maintain a competitive edge.\n",
      "\n",
      "Required Skills:\n",
      "\n",
      "¢ Minimum 3-4 years of experience in data science or a related field.\n",
      "\n",
      "¢ Proficiency with AWS cloud services and infrastructure as it pertains to data science.\n",
      "\n",
      "¢ Strong foundation in computer science principles and a deep understanding of\n",
      "statistical analysis.\n",
      "\n",
      "¢ Must have certifications in AWS, Data Engineering, and Data Analysis.\n",
      "\n",
      "¢ Experience with machine learning frameworks and tools.\n",
      "\n",
      "e Excellent problem-solving abilities and a commitment to delivering high-quality\n",
      "results.\n",
      "\n",
      "¢ Strong communication skills with the ability to convey complex concepts to non-\n",
      "technical stakeholders.\n",
      "\n",
      "Nice to Have:\n",
      "\n",
      "e Fyneriance with Canvaliutianal Naural Netwark (CNN)\n",
      "\n",
      "e % Quick Apply\n",
      "\n",
      "https://www.simplyhired.com/job/8Z7Gv5pReM w8zxJx720JEglUjBJo_qF4HMyTGZeS UmxrFq3zti_FZw 2/3\n",
      "\n",
      "4/4/24, 3:17 PM Data Scientist - Tech Holding | Remote\n",
      "\n",
      "Education & Certifications:\n",
      "¢ Bachelor's Degree in Computer Science or relevant years of work experience\n",
      "What we offer:\n",
      "\n",
      "e Flexible Work Hours\n",
      "\n",
      "¢ Unlimited PTO\n",
      "\n",
      "¢ Competitive Salaries\n",
      "\n",
      "¢ Health + Dental + Vision + Life Insurance\n",
      "¢ Long Term disability + 401k Match\n",
      "\n",
      "¢ Professional Development Opportunities\n",
      "\n",
      "Salary Expectations:\n",
      "\n",
      "e $120-130k USD/ year\n",
      "\n",
      "Resources and Tools v\n",
      "\n",
      "Si m plyH i red Take your job search wherever you go.\n",
      "e\n",
      "\n",
      "Country\n",
      "\n",
      "| United States v\n",
      "\n",
      "© 2024SHInc. Privacy | Terms | Cookies | PrivacyCenter | Accessibility | Your Privacy Choices VE}\n",
      "\n",
      "e % Quick Apply\n",
      "\n",
      "https://www.simplyhired.com/job/8Z7Gv5pReM w8zxJx720JEglUjBJo_qF4HMyTGZeS UmxrFq3zti_FZw 3/3\n",
      "\n",
      "\n"
     ]
    }
   ],
   "source": [
    "\n",
    "extracted_simplyhired = extract_text_from_image_pdf(job_fpath_simplyhired)\n",
    "print(extracted_simplyhired)"
   ]
  },
  {
   "cell_type": "code",
   "execution_count": 56,
   "metadata": {
    "execution": {
     "iopub.execute_input": "2024-04-24T18:00:40.820322Z",
     "iopub.status.busy": "2024-04-24T18:00:40.819826Z",
     "iopub.status.idle": "2024-04-24T18:00:47.193523Z",
     "shell.execute_reply": "2024-04-24T18:00:47.193078Z",
     "shell.execute_reply.started": "2024-04-24T18:00:40.820295Z"
    }
   },
   "outputs": [
    {
     "name": "stdout",
     "output_type": "stream",
     "text": [
      "4/24/24, 1:52 PM Data Science, Lead Associate - Columbia, MD 21045 - Indeed.com\n",
      "\n",
      "“indeed Aa @ =\n",
      "\n",
      "| What Job title, keywords, or co | Wher remote\n",
      "\n",
      "Peraton\n",
      "TOGETHER, WE DO THE\n",
      "\n",
      "CAN'T BE DONE\n",
      "\n",
      "Fearlessly.solving the toughest national security challenges\n",
      "\n",
      "Peraton\n",
      "\n",
      "Data Science, Lead Associate\n",
      "Peraton@ - 31 &\n",
      "\n",
      "Columbia, MD 21045\n",
      "\n",
      "$112,000 - $179,000 a year - Full-time\n",
      "\n",
      "Peraton\n",
      "\n",
      "WI WI 284 reviews\n",
      "\n",
      "Read what people are saying about working here.\n",
      "\n",
      "Job Company\n",
      "\n",
      "Apply now @ |\n",
      "Profile insights\n",
      "You have matching qualifications, based on your profile 4 and the job description\n",
      "“@ Skills\n",
      "\n",
      "Y Statistics v yY ETL v Y Al v\n",
      "\n",
      "AQ = Education\n",
      "\n",
      "https://www.indeed.com/viewjob?jk=56caf7cd23fc352b&tk=1 hs8jpqkkj4r680 | &from=hp& vjs=3 &advn=7754896540747842&adid=40 13 15534&ad=-6N YIbfkNOB... 1/5\n",
      "\n",
      "4/24/24, 1:52 PM Data Science, Lead Associate - Columbia, MD 21045 - Indeed.com\n",
      "Y Master'sdegree v VY HighschooldiplomaorGED v Y Doctoraldegree v\n",
      "\n",
      "YY Bachelor'sdegree v\n",
      "\n",
      "Job details\n",
      "\n",
      "Here’s how the job details align with your profile &.\n",
      "\n",
      "=) Pay\n",
      "\n",
      "@ $112,000-$179,000ayear v\n",
      "\n",
      "m= Jobtype\n",
      "@ Full-time v\n",
      "Location\n",
      "\n",
      "9 Columbia, MD 21045\n",
      "\n",
      "Benefits\n",
      "\n",
      "Pulled from the full job description\n",
      "\n",
      "e Dental insurance\n",
      "\n",
      "e Disability insurance\n",
      "\n",
      "e Health insurance\n",
      "\n",
      "e Paid parental leave\n",
      "\n",
      "e Paid time off\n",
      "\n",
      "e Parental leave\n",
      "\n",
      "e Tuition reimbursement\n",
      "e Vision insurance\n",
      "\n",
      "Show fewer “%\n",
      "\n",
      "Full job description\n",
      "\n",
      "About Peraton\n",
      "Peraton is a next-generation national security company that drives missions of consequence\n",
      "spanning the globe and extending to the farthest reaches of the galaxy. As the world's leading\n",
      "\n",
      "https://www.indeed.com/viewjob?jk=56caf7cd23fc352b&tk=| hs8jpqkkj4r680 | &from=hp& vjs=3 &advn=7754896540747842&adid=40 13 15534&ad=-6N YIbfkNOB... 2/5\n",
      "\n",
      "4/24/24, 1:52 PM Data Science, Lead Associate - Columbia, MD 21045 - Indeed.com\n",
      "mission capability integrator and transformative enterprise IT provider, we deliver trusted, highly\n",
      "differentiated solutions and technologies to protect our nation and allies. Peraton operates at the\n",
      "critical nexus between traditional and nontraditional threats across all domains: land, sea, space,\n",
      "air, and cyberspace. The company serves as a valued partner to essential government agencies\n",
      "and supports every branch of the U.S. armed forces. Each day, our employees do the can't be done\n",
      "by solving the most daunting challenges facing our customers. Visit peraton.com to learn how\n",
      "we're keeping people around the world safe and secure.\n",
      "Responsibilities\n",
      "\n",
      "Peraton is hiring a Data Scientist to join our Cyber Mission business unit in Fort Meade, Maryland.\n",
      "Asa Data Scientist on our team, you will support one of the largest enterprise-wide engineering\n",
      "contracts within the Intelligence Community. This is a full-time position requiring 1880 hours of\n",
      "support per year; and work is performed at a customer location. As a Data Scientist on our team\n",
      "you will provide support and related services to help simplify, automate, and hasten data\n",
      "movement across the mission platform. The successful individual will perform end-to-end\n",
      "systems engineering for data flows from the perspective of data modeling, data mapping, and\n",
      "support to implementers and mission customers. This position requires strong software and\n",
      "systems engineering expertise across the full life cycle of data and limited need for high-level\n",
      "direction. Key activities include:\n",
      "\n",
      "e Framing, defining, and bounding Enterprise level data needs and concerns into broad\n",
      "actionable initiatives with clearly identifiable downstream tasking\n",
      "\n",
      "e Recommending new automation strategies and maturing current automation efforts\n",
      "\n",
      "e Performing high-level data requirements analysis to support the application of data\n",
      "standards across the enterprise.\n",
      "\n",
      "e Operating within, and coordinating across, teams that employ varying development\n",
      "\n",
      "methodologies (Agile, Scrum, and Kanban).\n",
      "e Possessing an instinctive aptitude to leverage information and knowledge sharing networks\n",
      "and navigating conflict in a way that fosters constructive outcomes.\n",
      "\n",
      "The selected candidate will demonstrate the aptitude to learn and grow inthe following areas.\n",
      "Experience in one or more of these areas will greatly increase the probability of success.\n",
      "\n",
      "e Hands on data wrangling: Extract Transform Load (or ETL), Databases, DBA, shell scripting\n",
      "e Hands on experience with Data Serializations (AVRO/protobuf/YAML/XMLJSON)\n",
      "\n",
      "e Problem framing, pattern recognition, Al/ML exposure\n",
      "\n",
      "e SIGINT understanding\n",
      "\n",
      "e Facility with data query DSLs (e.g. SQL)\n",
      "\n",
      "https://www.indeed.com/viewjob?jk=56caf7cd23fc352b&tk=| hs8jpqkkj4r680 | &from=hp&vjs=3 &advn=7754896540747842&adid=40 | 315534&ad=-6N YIbfkNOB... 3/5\n",
      "\n",
      "4/24/24, 1:52 PM Data Science, Lead Associate - Columbia, MD 21045 - Indeed.com\n",
      "\n",
      "Qualifications\n",
      "\n",
      "e Bachelor's degree Computer Science, Mathematics, or related discipline plus six years of\n",
      "experience in Mathematics/Statistics, Computer Science, and analysis of data syntax and\n",
      "semantics; High School Diploma or GED plus seven years of experience in\n",
      "Mathematics/Statistics, Computer Science, and analysis of data syntax and semantic; a\n",
      "Master's degree from an accredited college or university in Computer Science, Mathematics,\n",
      "or related discipline and three years of experience; or a or PhD degree from an accredited\n",
      "college or university in Computer Science, Mathematics, or related discipline.\n",
      "\n",
      "e Position requires TS/SCI clearance with polygraph.\n",
      "\n",
      "Applicants selected will be subject to a government security investigation and must meet\n",
      "eligibility requirements for access to classified information.\n",
      "\n",
      "Peraton offers enhanced benefits to employees working on this critical National Security\n",
      "program, which include heavily subsidized employee benefits coverage for you and your\n",
      "dependents, 25 days of PTO accrued annually up to a generous PTO cap and eligible to participate\n",
      "in an attractive bonus plan\n",
      "\n",
      "Peraton is an Equal Opportunity/Affirmative Action Employer. We consider applicants without\n",
      "regard to race, color, religion, age, national origin, ancestry, ethnicity, gender, gender identity,\n",
      "gender expression, sexual orientation, marital status, veteran status, disability, genetic\n",
      "information, citizenship status, or membership in any other group protected by federal, state, or\n",
      "local law.\n",
      "\n",
      "#AJCM\n",
      "\n",
      "Target Salary Range\n",
      "\n",
      "$112,000 - $179,000. This represents the typical salary range for this position based on\n",
      "experience and other factors.\n",
      "\n",
      "SCA / Union / Intern Rate or Range\n",
      "\n",
      "EEO\n",
      "An Equal Opportunity Employer including Disability/Veteran.\n",
      "\n",
      "Our Values\n",
      "Benefits\n",
      "\n",
      "At Peraton, our benefits are designed to help keep you at your best beyond the work you do with\n",
      "\n",
      "https://www.indeed.com/viewjob?jk=56caf7cd23fc352b&tk=1 hs8jpqkkj4r680 | &from=hp& vjs=3 &advn=7754896540747842&adid=40 | 3 15534&ad=-6N YIbfkNOB... 4/5\n",
      "\n",
      "4/24/24, 1:52 PM Data Science, Lead Associate - Columbia, MD 21045 - Indeed.com\n",
      "us daily. We're fully committed to the growth of our employees. From fully comprehensive medical\n",
      "plans to tuition reimbursement, tuition assistance, and fertility treatment, we are there to support\n",
      "you all the way.\n",
      "\n",
      "e Paid Time-Off and Holidays\n",
      "\n",
      "e Retirement\n",
      "\n",
      "e Life & Disability Insurance\n",
      "\n",
      "e Career Development\n",
      "\n",
      "e Tuition Assistance and Student Loan Financing\n",
      "e Paid Parental Leave\n",
      "\n",
      "e Additional Benefits\n",
      "\n",
      "e Medical, Dental, & Vision Care\n",
      "\n",
      "P@ Report job\n",
      "\n",
      "Data Scientist jobs in Columbia, MD\n",
      "\n",
      "Jobs at Peraton in Columbia, MD\n",
      "\n",
      "Data Scientist salaries in Columbia, MD\n",
      "\n",
      "HiringLab  CareerAdvice BrowseJobs BrowseCompanies Salaries Indeed Events\n",
      "\n",
      "WorkatIndeed Countries About HelpCenter ESGat Indeed\n",
      "\n",
      "© 2024 Indeed Your Privacy Choices Accessibility at Indeed Privacy Center and Ad Choices\n",
      "\n",
      "Terms\n",
      "\n",
      "https://www.indeed.com/viewjob?jk=56caf7cd23fc352b&tk=| hs8jpqkkj4r680 | &from=hp& vjs=3 &advn=7754896540747842&adid=40 13 15534&ad=-6N YIbfkNOB... S/S\n",
      "\n",
      "\n"
     ]
    }
   ],
   "source": [
    "\n",
    "extracted_indeed = extract_text_from_image_pdf(job_fpath_indeed)\n",
    "print(extracted_indeed)"
   ]
  },
  {
   "cell_type": "code",
   "execution_count": 57,
   "metadata": {
    "execution": {
     "iopub.execute_input": "2024-04-24T18:00:54.450199Z",
     "iopub.status.busy": "2024-04-24T18:00:54.449396Z",
     "iopub.status.idle": "2024-04-24T18:01:07.589174Z",
     "shell.execute_reply": "2024-04-24T18:01:07.588740Z",
     "shell.execute_reply.started": "2024-04-24T18:00:54.450160Z"
    }
   },
   "outputs": [
    {
     "name": "stdout",
     "output_type": "stream",
     "text": [
      "4/24/24, 1:54 PM (28) AI & ML Engineer | BDO USA| LinkedIn\n",
      "\n",
      "in| Q rsd go «s ea DP @ i B\n",
      "Home My Network\n",
      "\n",
      "Jobs Messaging Notifications Mew For Business ~ Lear\n",
      "\n",
      "© 7\n",
      "\n",
      "Al & ML Engineer @\n",
      "\n",
      "BDO USA - Columbia, MD - 1 month ago - 28 applicants\n",
      "\n",
      "@ s100K/yr - $155K/yr- Hybrid - Full-time - Mid-Senior level\n",
      "\n",
      "Machine Learning - Python - Show more\n",
      "\n",
      "1 school alum works here\n",
      "\n",
      "=\n",
      "[=]\n",
      "\n",
      "10,001+ employees - Accounting\n",
      "e\n",
      "\n",
      "a\n",
      "\n",
      "y—\n",
      "\n",
      "y=\n",
      "\n",
      "y=\n",
      "\n",
      "Skills: Artificial Intelligence (Al), Pattern Recognition, +8 more\n",
      "\n",
      "{+ + Am|a good fit for this job? + How can | best position myself | >\n",
      "\n",
      "Apply @\n",
      "\n",
      "About the job\n",
      "\n",
      "Job Description\n",
      "Job Summary:\n",
      "\n",
      "With a global network serving clients across multiple industries and countries, our\n",
      "analytics game changers are poised for widespread technological impact. Our\n",
      "industry-recognized team is in high demand across data analytics, robotic\n",
      "process automation, and artificial intelligence. We gravitate towards bright\n",
      "individuals who value impactful change, worldly purpose, and a personal\n",
      "connection with diverse innovators. This role allows you to work with a team of\n",
      "talented consultants, requiring you to balance innovation with pragmatic client\n",
      "expectation management. With our team, you will be challenged to build scalable\n",
      "solutions, while embracing a fail-forward mentality critical to evolution. Whether\n",
      "you're telling a data story in ways our clients never imagined or building advanced\n",
      "Al models with automated data engineering, the core purpose will be centered on\n",
      "using data to impact people in a meaningful way.\n",
      "\n",
      "This position will work with cutting edge technology, deliver high quality solutions\n",
      "across various industries and collaborate with teams on engagements that range\n",
      "in size and scope. This position will receive continuous career development\n",
      "opportunities, given the size and potential of client engagements. This role will\n",
      "perform hands-on delivery of solutions that include artificial intelligence (Al) and\n",
      "cognitive services, ML models, pipelines, databases, and other data analytics\n",
      "components, contributing to the development and unit testing of solutions.\n",
      "\n",
      "Job Duties\n",
      "\n",
      "* Designs, and implements best in class solutions that include Al and\n",
      "cognitive services, ML models, data ingestion strategies, semantic layers\n",
      "and models, visualizations, streaming processes, API integrations, and\n",
      "automation (RPA) solutions for end-to-end data analytics solutions on\n",
      "primarily, but not limited to, cloud analytics platforms such as Azure and\n",
      "AWS\n",
      "\n",
      "e Listens to client needs to align solutions with business requirements and\n",
      "delivery schedules\n",
      "\n",
      "e Creates written functional and technical designs\n",
      "\n",
      "e Participates in project status and stand meetings, and assists with\n",
      "providing aggregated project status for project and program managers\n",
      "\n",
      "https://www.linkedin.com/jobs/view/38669 | 1336/?eBP=CwEAAAGPETSUeSoWGLmsFkyeWdZDoeY DvLIc3hupUJ92igPK7glibsZwKciq-ZSSKOWN7Wn7IeE24... 1/9\n",
      "\n",
      "4/24/24, 1:54 PM (28) AI & ML Engineer | BDO USA| LinkedIn\n",
      "\n",
      "e Assists with SLA compliance of solutions, and performs performance\n",
      "tuning and optimization efforts of end-to-end solutions\n",
      "\n",
      "e Writes code using multiple languages and correctly applies frameworks,\n",
      "architectural patterns, and software development principles\n",
      "\n",
      "¢ Delivers high-performance, scalable, repeatable, and secure deliverables\n",
      "with broad impact (high throughput and low latency)\n",
      "\n",
      "e Assists with implementation of governance programs and best practices\n",
      "\n",
      "e Performs the cleaning and transforming of data from source systems into\n",
      "analytics models\n",
      "\n",
      "e Implements models to support data visualizations and integrations\n",
      "\n",
      "e Assists with implementing MLOps, DevOps, DataOps, methodologies on\n",
      "projects\n",
      "\n",
      "e Writes custom integration logic in applicable programming languages\n",
      "\n",
      "e Assists project managers with work breakdown structure creation,\n",
      "project estimation, resource staffing, workload planning and adjustments\n",
      "throughout the project lifecycle\n",
      "\n",
      "e Assists clients with licensing, security, and cost estimation of solutions\n",
      "\n",
      "¢ Performs code reviews to ensure adherence to standards\n",
      "\n",
      "e Works directly with clients and team members to establish secure data\n",
      "analytics platforms and infrastructure\n",
      "\n",
      "e Contributes to successful deployments of developed solutions and\n",
      "integration of DevOps and MLOps tools\n",
      "\n",
      "e Maintains a broad and current understanding of data analytics and\n",
      "business intelligence strategies, cloud platforms, methodologies, and\n",
      "tools\n",
      "\n",
      "e Builds client relationships during project execution, effectively becoming\n",
      "a trusted advisor of the client\n",
      "\n",
      "e Participates in support activities for existing software solutions\n",
      "\n",
      "e Other duties as assigned\n",
      "\n",
      "Supervisory Responsibilities\n",
      "e Supervises the day-to-day workload of Associates on assigned\n",
      "\n",
      "engagements to ensure that timelines and deliverables are met, and\n",
      "reviews work product\n",
      "\n",
      "Education\n",
      "\n",
      "Qualifications, Knowledge, Skills, and Abilities:\n",
      "\n",
      "e High School Diploma or GED equivalent, required\n",
      "\n",
      "e Bachelor's degree, preferred; focus in Information Systems, Data Science\n",
      "or Computer Science, preferred\n",
      "\n",
      "Experience\n",
      "\n",
      "e Five (5) or more years of experience within Artificial Intelligence , Data\n",
      "Analytics, Business Intelligence, Machine Learning, Application\n",
      "Development, required\n",
      "\n",
      "e One (1) or more years of experience technically leading development\n",
      "projects, preferred\n",
      "\n",
      "e One (1) or more years of consulting experience or implementation of\n",
      "cloud-based data analytics solutions, preferred\n",
      "\n",
      "License/Certifications\n",
      "\n",
      "° N/A\n",
      "\n",
      "Software\n",
      "\n",
      "* Strong experience with Al/ML model lifecycle, required\n",
      "\n",
      "e Strong SQL skills including Data Definition Language (DDL), Data\n",
      "Manipulation Language (DML), views, functions, stored procedures, or\n",
      "performance tuning, required\n",
      "\n",
      "e Experience with Data Warehousing, Data Modeling, Semantic Model\n",
      "Definition or Star Schema Construction, required\n",
      "\n",
      "e Experience with Al & ML Platforms such as Azure Cognitive Services or\n",
      "AWS SageMaker & ML Services, required\n",
      "\n",
      "https://www.linkedin.com/jobs/view/38669 1 1336/?eBP=CwEAAAGPETSUeSoWGLmsFkyeWdZDoeY DvLIc3hupUJ92igPK7glibsZwKciq-ZSSKOWN7Wn7IeE24... 2/9\n",
      "\n",
      "4/24/24, 1:54 PM\n",
      "\n",
      "https://www.linkedin.com/jobs/view/38669 | 1336/?eBP=CwEAAAGPETSUeSoWGLmsFkyeWdZDoeY DvLIc3hupUJ92igPK7glibsZwKciq-ZSSXOWN7Wn7IcE24...\n",
      "\n",
      "(28) AI & ML Engineer | BDO USA| LinkedIn\n",
      "\n",
      "e Hands on delivery experience of end-to-end cloud data analytics\n",
      "solutions within Azure or AWS, preferred\n",
      "e Experience with one (1) or more of the following computer languages,\n",
      "preferred:\n",
      "° CH\n",
      "© C++\n",
      "e Python\n",
      "° Java\n",
      "¢ Scala\n",
      "e Experience with tabular modeling within Power BI or Azure Analysis\n",
      "Services, preferred\n",
      "e Experience with Git, DevOps, and MLOps deployment technologies,\n",
      "preferred\n",
      "e Experience with Linux, preferred\n",
      "e Experience with one (1) or more of the following, preferred:\n",
      "e Al Algorithms/Machine Learning\n",
      "* Computer Vision based Al technologies\n",
      "Language\n",
      "\n",
      "e N/A\n",
      "\n",
      "Other Knowledge, Skills & Abilities\n",
      "\n",
      "e Ability to work with a high degree of professionalism and autonomy\n",
      "\n",
      "¢ Excellent verbal and written communication skills\n",
      "\n",
      "© Solid organizational skills, especially the ability to meet project deadlines\n",
      "with a focus on details\n",
      "\n",
      "e Ability to successfully multi-task while working independently or within a\n",
      "group environment\n",
      "\n",
      "e Ability to work in a deadline-driven environment, and handle multiple\n",
      "projects simultaneously\n",
      "\n",
      "e Ability to interact effectively with people at all organizational levels of the\n",
      "Firm\n",
      "\n",
      "e Ability to effectively interact with a team of professionals and delegating\n",
      "\n",
      "work assignments, as needed\n",
      "\n",
      "Ability to build and maintain strong relationships with internal and client\n",
      "\n",
      "personnel\n",
      "\n",
      "Keywords: Data Analytics, Business Intelligence, BI, Solution Architect, Data\n",
      "Architect, Synapse, loT, Machine Learning, PyTorch, TensorFlow, Data Lake,\n",
      "Stream, Cube, Microsoft, SQL Server, Tableau, .Net, C#, Qlik, Power BI, Machine\n",
      "Learning, Azure Data Factory, RedShift, UiPath, Cloud, RPA, AWS, Redshift,\n",
      "Kinesis, QuickSight, SageMaker, S3, Databricks, AWS Lake Formation, Snowflake,\n",
      "Python, Qlik, Athena, Data Pipeline, Glue, Star Schema, Data Modeling,\n",
      "Performance Tuning, SQL\n",
      "\n",
      "Individual salaries that are offered to a candidate are determined after\n",
      "consideration of numerous factors including but not limited to the candidate's\n",
      "qualifications, experience, skills, and geography.\n",
      "\n",
      "California Range: $100,000 - $155,000\n",
      "\n",
      "Colorado Range: $100,000 - $155,000\n",
      "\n",
      "NYC/Long Island/Westchester Range: $100,000 - $155,000\n",
      "Washington Range: $100,000 - $155,000\n",
      "\n",
      "About Us\n",
      "\n",
      "Join us at BDO, where you will find more than a career, you'll find a place where\n",
      "your work is impactful, and you are valued for your individuality. We offer\n",
      "flexibility and opportunities for advancement. Our culture is centered around\n",
      "making meaningful connections, approaching interactions with curiosity, and\n",
      "being true to yourself, all while making a positive difference in the world.\n",
      "\n",
      "At BDO, our purpose of helping people thrive every day is at the heart of\n",
      "everything we do. Together, we are focused on delivering exceptional and\n",
      "sustainable outcomes and value for our people, our clients, and our communities.\n",
      "BDO is proud to be an ESOP company, reflecting a culture that puts people first,\n",
      "by sharing financially in our growth in value with our U.S. team. BDO professionals\n",
      "\n",
      "3/9\n",
      "\n",
      "4/24/24, 1:54 PM\n",
      "\n",
      "(28) AI & ML Engineer | BDO USA| LinkedIn\n",
      "\n",
      "provide assurance, tax and advisory services for a diverse range of clients across\n",
      "the U.S. and in over 160 countries through our global organization.\n",
      "\n",
      "BDO is the first large accounting and advisory organization to implement an\n",
      "Employee Stock Ownership Plan (ESOP). A qualified retirement plan, the ESOP\n",
      "offers participants a stake in the firm's success through beneficial ownership and\n",
      "a unique opportunity to enhance their financial well-being. The ESOP stands as a\n",
      "compelling addition to our comprehensive compensation and Total Rewards\n",
      "benefits* offerings. The annual allocation to the ESOP is fully funded by BDO\n",
      "through investments in company stock and grants employees the chance to grow\n",
      "their wealth over time as their shares vest and grow in value with the firm's\n",
      "success, with no employee contributions.\n",
      "\n",
      "We Are Committed To Delivering Exceptional Experiences To Middle Market\n",
      "Leaders By Sharing Insight-driven Perspectives, Helping Companies Take\n",
      "Business As Usual To Better Than Usual. With Industry Knowledge And\n",
      "Experience, a Breadth And Depth Of Resources, And Unwavering Commitment To\n",
      "Quality, We Pride Ourselves On\n",
      "\n",
      "e Welcoming diverse perspectives and understanding the experience of our\n",
      "professionals and clients\n",
      "\n",
      "e° Empowering team members to explore their full potential\n",
      "\n",
      "© Our talented team who brings varying skills, knowledge and experience to\n",
      "\n",
      "proactively help our clients navigate an expanding array of complex\n",
      "\n",
      "challenges and opportunities\n",
      "\n",
      "Celebrating ingenuity and innovation to transform our business and help\n",
      "\n",
      "our clients transform theirs\n",
      "\n",
      "e Focus on resilience and sustainability to positively impact our people,\n",
      "clients, and communities\n",
      "\n",
      "° Benefits may be subject to eligibility requirements.\n",
      "\n",
      "Equal Opportunity Employer, including disability/vets\n",
      "Click here to find out more!\n",
      "\n",
      "All qualified applicants will receive consideration for employment without regard\n",
      "to race, color, religion, sex, national origin, disability or protected veteran status.\n",
      "\n",
      "“BDO USA, P.A. is an EO employer M/F/Veteran/Disability\"\n",
      "\n",
      "See less ~\n",
      "\n",
      "Set alert for similar jobs\n",
      "\n",
      "Machine Learning Engineer, Columbia, MD\n",
      "\n",
      "Details found in the job post\n",
      "\n",
      "Retrieved from the description\n",
      "\n",
      "Developer Role\n",
      "Machine Learning, DevOps, Embedded & Firmware, Data Engineering,\n",
      "Game\n",
      "\n",
      "Technology\n",
      "Python, Scala, GitHub, C, NET Framework, AWS, C++, Java, Azure, SQL\n",
      "\n",
      "Pay found in job post\n",
      "\n",
      "Retrieved from the description.\n",
      "\n",
      "Base salary\n",
      "$100,000/yr - $155,000/yr (from job description)\n",
      "\n",
      "https://www.linkedin.com/jobs/view/38669 | 1336/?eBP=CwEAAAGPETSUeSoWGLmsFkyeWdZDoeY DvLIc3hupUJ92igPK7glibsZwKciq-ZSSXOWN7Wn7IcE24...\n",
      "\n",
      "4/9\n",
      "\n",
      "4/24/24, 1:54 PM (28) AI & ML Engineer | BDO USA| LinkedIn\n",
      "\n",
      "© PREMIUM\n",
      "Qualifications\n",
      "\n",
      "K 4 skills match your profile. Stand out by adding other skills you\n",
      "» have.\n",
      "\n",
      "Skills associated with the job post\n",
      "Identified by Linkedin\n",
      "\n",
      "@ 4skills on your profile\n",
      "Artificial Intelligence (Al), Data Modeling, Data Science, and Pattern Recogri...\n",
      "\n",
      "@ 6skills missing on your profile\n",
      "AWS SageMaker, Custom Integration, DDL, Data Manipulation, Star Schema,...\n",
      "\n",
      "Additional skills among applicants\n",
      "\n",
      "@ 8 skills other applicants have\n",
      "Data Analysis, Deep Learning, Machine Learning, PyTorch, Python (Program...\n",
      "\n",
      "(‘show qualification details >)\n",
      "\n",
      "=) Put your best foot forward with your application\n",
      "\n",
      "Hire a resume writer\n",
      "\n",
      "C Get a resume review +)\n",
      "\n",
      "© PREMIUM e\n",
      "\n",
      "See how you compare to other applicants\n",
      "Applicants for this job\n",
      "\n",
      "28 Applicants\n",
      "1 Applicant in the past day\n",
      "\n",
      "Applicant seniority level\n",
      "\n",
      "13 Entry level applicants\n",
      "\n",
      "3 Senior level applicants\n",
      "ee)\n",
      "\n",
      "Applicant education level\n",
      "1 9 have a Doctor of Philosophy (Similar to you)\n",
      "%\n",
      "\n",
      "have a Master's Degree\n",
      "70%\n",
      "\n",
      "have a Bachelor's Degree\n",
      "11%\n",
      "\n",
      "Applicants are in these locations\n",
      "\n",
      "https://www.linkedin.com/jobs/view/38669 | 1336/2?eBP=CwEAAAGPETSUe5oWGLmsFkyeWdZDoeY DvLIc3hupUJ92igPK7glibsZwKciq-ZSSXOWN7Wn7IeE24... 5/9\n",
      "\n",
      "4/24/24, 1:54 PM\n",
      "\n",
      "(28) AI & ML Engineer | BDO USA| LinkedIn\n",
      "\n",
      "© Reset map\n",
      "\n",
      "10-15 applicants v\n",
      "\n",
      "Washington DC-Baltimore\n",
      "Area\n",
      "\n",
      "1-5 applicants\n",
      "\n",
      "San Francisco Bay Area e e\n",
      "°\n",
      "\n",
      "1-5 applicants\n",
      "\n",
      "United States\n",
      "\n",
      "© PREMIUM e\n",
      "\n",
      "See if BDO USA is hiring people like you\n",
      "\n",
      "The latest hiring trends.\n",
      "\n",
      "10,371 2 0% vy 12%\n",
      "Total employees Company-wide Finance\n",
      "2 year growth 2 year growth\n",
      "15,000\n",
      "OO. OOO 0\n",
      "10,000\n",
      "5,000\n",
      "\n",
      "Apr 2022 Oct 2022 Apr 2023 Oct 2023 Apr 2024\n",
      "\n",
      "© Median employee tenure - 4 years\n",
      "\n",
      "BDO USA hires candidates from some of these companies and schools\n",
      "\n",
      "[{ 800 USA hired 1 person from Flatiron School. See all\n",
      "\n",
      "Finance hires at BDO USA came from Finance hires at BDO USA came from\n",
      "these companies and more. these schools and more.\n",
      "\n",
      "BB oft:\n",
      "\n",
      "See more companies See more schools\n",
      "\n",
      "Show more Premium insights\n",
      "\n",
      "About the company\n",
      "\n",
      "BDO USA\n",
      "147,714 followers\n",
      "\n",
      "Accounting - 10,001+ employees + 10,371 on Linkedin\n",
      "\n",
      "https://www.linkedin.com/jobs/view/38669 | 1336/?eBP=CwEAAAGPETSUeSoWGLmsFkyeWdZDoeY DvLIc3hupUJ92igPK7glibsZwKciq-ZSSXOWN7Wn7IcE24...\n",
      "\n",
      "6/9\n",
      "\n",
      "4/24/24, 1:54 PM (28) AI & ML Engineer | BDO USA| LinkedIn\n",
      "\n",
      "The measure of our success is in what we achieve together.\n",
      "At BDO, culture is the first order of business. We succeed when we cultivate a\n",
      "conscious and caring corporate culture that puts people at the cente... show more\n",
      "\n",
      "Commitments @\n",
      "\n",
      "Work-life balance\n",
      "\n",
      "As the needs of our people and clients have evolved, so has our flex ... Show more\n",
      "\n",
      "Diversity, equity, and inclusion\n",
      "Diversity, equity, and inclusion at BDO starts the way everything at B... Show more\n",
      "\n",
      "Career growth and learning\n",
      "\n",
      "At BDO, you can do much more than fulfill your career ambitions — y... Show more\n",
      "\n",
      "Environmental sustainability\n",
      "For us, sustainability isn't about checking boxes. It's about taking sti... Show more\n",
      "\n",
      "Social impact\n",
      "\n",
      "Our core purpose is helping people thrive, every day. At BDO, we be ... Show more\n",
      "\n",
      "Learn more\n",
      "\n",
      "Interested in working with us in the future?\n",
      "\n",
      "Privately share your profile with our recruiters — you'll be noted as\n",
      "expressing interest for up to a year. Learn more\n",
      "\n",
      "I'm interested\n",
      "\n",
      "Company photos\n",
      "\n",
      "Show more\n",
      "More jobs\n",
      "RAND\n",
      "Machine Learning Machine Learning\n",
      "Engineer Engineer\n",
      "Elsdon Consulting Itd RAND\n",
      "Columbia, MD (On-site) Washington DC-Baltimore Area\n",
      "(On-site)\n",
      "\n",
      "G@ Actively recruiting\n",
      "6 days ago - ffi] Easy Apply 1 week ago\n",
      "\n",
      "Booz\n",
      "\n",
      "Allen PARSONS\n",
      "\n",
      "https://www.linkedin.com/jobs/view/38669 | 1336/2?eBP=CwEAAAGPETSUe5oWGLmsFkyeWdZDoeY DvLIc3hupUJ92igPK7glibsZwKciq-ZSSXOWN7Wn7IeE24... 7/9\n",
      "\n",
      "4/24/24, 1:54 PM\n",
      "\n",
      "https://www.linkedin.com/jobs/view/38669 | 1336/?eBP=CwEAAAGPETSUeSoWGLmsFkyeWdZDoeY DvLIc3hupUJ92igPK7glibsZwKciq-ZSSXOWN7Wn7IcE24...\n",
      "\n",
      "Software and Al\n",
      "\n",
      "Integration Engineer @\n",
      "Booz Allen Hamilton\n",
      "Honolulu, HI (Hybrid)\n",
      "\n",
      "r @) 2 connections work here\n",
      "\n",
      "3 weeks ago\n",
      "\n",
      "]\n",
      "\n",
      "Machine Learning\n",
      "\n",
      "Engineer / Al Engineer\n",
      "Dice\n",
      "Minneapolis, MN (On-site)\n",
      "\n",
      "2 hours ago\n",
      "\n",
      "RAND\n",
      "\n",
      "Machine Learning\n",
      "\n",
      "Engineer\n",
      "RAND\n",
      "Pittsburgh, PA (On-site)\n",
      "\n",
      "1 week ago\n",
      "\n",
      "CGI\n",
      "\n",
      "Data Engineer (Jr/Mid) @\n",
      "CGI\n",
      "Baltimore, MD\n",
      "\n",
      "G@ Actively recruiting\n",
      "\n",
      "1 month ago\n",
      "\n",
      "a= |\n",
      "\n",
      "Systems Engineer @\n",
      "The Johns Hopkins University\n",
      "Baltimore, MD (Hybrid)\n",
      "\n",
      "ie 2 connections work here\n",
      "\n",
      "3 weeks ago\n",
      "\n",
      "See more jobs like this\n",
      "\n",
      "(28) AI & ML Engineer | BDO USA| LinkedIn\n",
      "\n",
      "Software Engineer /\n",
      "Research Scientist @\n",
      "Parsons Corporation\n",
      "Aberdeen, MD (On-site)\n",
      "\n",
      "G Actively recruiting\n",
      "\n",
      "6 days ago - 16 applicants\n",
      "\n",
      "Al Software Developer\n",
      "IBM\n",
      "Yorktown Heights, NY\n",
      "\n",
      "i 3 company alumni work here\n",
      "\n",
      "2 weeks ago\n",
      "\n",
      "Software Engineer-\n",
      "\n",
      "Remote @\n",
      "Jacobs\n",
      "Hanover, MD.\n",
      "\n",
      "BE company sum works here\n",
      "\n",
      "1 week ago\n",
      "\n",
      "oo\n",
      "\n",
      "Software Engineer @\n",
      "Boeing\n",
      "Annapolis Junction, MD\n",
      "\n",
      "i 6 company alumni work here\n",
      "\n",
      "2 weeks ago\n",
      "\n",
      "]\n",
      "\n",
      "Junior Al/ML Software\n",
      "\n",
      "Engineer\n",
      "Dice\n",
      "Washington, VA (On-site)\n",
      "\n",
      "2 hours ago\n",
      "\n",
      "© PREMIUM\n",
      "\n",
      "8/9\n",
      "\n",
      "4/24/24, 1:54 PM\n",
      "\n",
      "About\n",
      "Community Guidelines\n",
      "Privacy & Terms ¥\n",
      "Sales Solutions\n",
      "\n",
      "Safety Center\n",
      "\n",
      "Linkedin Corporation © 2024\n",
      "\n",
      "https://www.linkedin.com/jobs/view/38669 | 1336/?eBP=CwEAAAGPETSUe5oWGLmsFkyeWdZDoeY DvLIc3hupUJ92igPK7glibsZwKciq-ZSSXOWN7Wn7IeE24...\n",
      "\n",
      "Accessibility\n",
      "Careers\n",
      "Ad Choices\n",
      "\n",
      "Mobile\n",
      "\n",
      "(28) AI & ML Engineer | BDO USA| LinkedIn\n",
      "\n",
      "Learn skills to get a new job with these courses\n",
      "\n",
      "ETL in Python and SQL\n",
      "\n",
      "20,722 viewers\n",
      "\n",
      "c Learning Azure Stream Analytics\n",
      "\n",
      "Essentials of MLOps with Azure: 2 Databricks MLflow and MLflow\n",
      "\n",
      "Tracking\n",
      "\n",
      "1,890 viewers\n",
      "\n",
      "Show more on LinkedIn Learning\n",
      "\n",
      "Looking for talent? Post a job\n",
      "\n",
      "Talent Solutions\n",
      "Marketing Solutions\n",
      "Advertising\n",
      "\n",
      "Small Business\n",
      "\n",
      "Questions?\n",
      "Visit our Help Center.\n",
      "\n",
      "Ped Manage your account and privacy\n",
      "Go to your Settings.\n",
      "\n",
      "Recommendation transparency\n",
      "Learn more about Recommended Content.\n",
      "\n",
      "Select Language\n",
      "\n",
      "English (English)\n",
      "\n",
      "9/9\n",
      "\n",
      "\n"
     ]
    }
   ],
   "source": [
    "\n",
    "extracted_linkedin = extract_text_from_image_pdf(job_fpath_linkedin)\n",
    "print(extracted_linkedin)"
   ]
  },
  {
   "cell_type": "markdown",
   "metadata": {},
   "source": [
    "## WordClouds"
   ]
  },
  {
   "cell_type": "code",
   "execution_count": 11,
   "metadata": {
    "execution": {
     "iopub.execute_input": "2024-04-24T17:23:28.165620Z",
     "iopub.status.busy": "2024-04-24T17:23:28.164571Z",
     "iopub.status.idle": "2024-04-24T17:23:28.177702Z",
     "shell.execute_reply": "2024-04-24T17:23:28.176664Z",
     "shell.execute_reply.started": "2024-04-24T17:23:28.165558Z"
    }
   },
   "outputs": [],
   "source": [
    "import matplotlib.pyplot as plt\n"
   ]
  },
  {
   "cell_type": "code",
   "execution_count": 12,
   "metadata": {
    "execution": {
     "iopub.execute_input": "2024-04-24T17:23:28.642242Z",
     "iopub.status.busy": "2024-04-24T17:23:28.640921Z",
     "iopub.status.idle": "2024-04-24T17:23:28.978629Z",
     "shell.execute_reply": "2024-04-24T17:23:28.978223Z",
     "shell.execute_reply.started": "2024-04-24T17:23:28.642178Z"
    }
   },
   "outputs": [],
   "source": [
    "import plotly.express as px"
   ]
  },
  {
   "cell_type": "code",
   "execution_count": 13,
   "metadata": {
    "execution": {
     "iopub.execute_input": "2024-04-24T17:23:29.086698Z",
     "iopub.status.busy": "2024-04-24T17:23:29.086245Z",
     "iopub.status.idle": "2024-04-24T17:23:29.107702Z",
     "shell.execute_reply": "2024-04-24T17:23:29.107266Z",
     "shell.execute_reply.started": "2024-04-24T17:23:29.086678Z"
    }
   },
   "outputs": [],
   "source": [
    "from wordcloud import WordCloud, STOPWORDS\n",
    "import plotly.graph_objs as go\n",
    "\n",
    "def plotly_wordcloud(text):\n",
    "    wc = WordCloud(stopwords = set(STOPWORDS),\n",
    "                   max_words = 200,\n",
    "                   max_font_size = 100)\n",
    "    wc.generate(text)\n",
    "    \n",
    "    word_list=[]\n",
    "    freq_list=[]\n",
    "    fontsize_list=[]\n",
    "    position_list=[]\n",
    "    orientation_list=[]\n",
    "    color_list=[]\n",
    "\n",
    "    for (word, freq), fontsize, position, orientation, color in wc.layout_:\n",
    "        word_list.append(word)\n",
    "        freq_list.append(freq)\n",
    "        fontsize_list.append(fontsize)\n",
    "        position_list.append(position)\n",
    "        orientation_list.append(orientation)\n",
    "        color_list.append(color)\n",
    "        \n",
    "    # get the positions\n",
    "    x=[]\n",
    "    y=[]\n",
    "    for i in position_list:\n",
    "        x.append(i[0])\n",
    "        y.append(i[1])\n",
    "            \n",
    "    # get the relative occurence frequencies\n",
    "    new_freq_list = []\n",
    "    for i in freq_list:\n",
    "        new_freq_list.append(i*100)\n",
    "    new_freq_list\n",
    "    \n",
    "    trace = go.Scatter(x=x, \n",
    "                       y=y, \n",
    "                       textfont = dict(size=new_freq_list,\n",
    "                                       color=color_list),\n",
    "                       hoverinfo='text',\n",
    "                       hovertext=['{0}{1}'.format(w, f) for w, f in zip(word_list, freq_list)],\n",
    "                       mode='text',  \n",
    "                       text=word_list\n",
    "                      )\n",
    "    \n",
    "    layout = go.Layout({'xaxis': {'showgrid': False, 'showticklabels': False, 'zeroline': False},\n",
    "                        'yaxis': {'showgrid': False, 'showticklabels': False, 'zeroline': False}})\n",
    "    \n",
    "    fig = go.Figure(data=[trace], layout=layout)\n",
    "    \n",
    "    return fig# px.wordcloud(job)"
   ]
  },
  {
   "cell_type": "code",
   "execution_count": 16,
   "metadata": {
    "execution": {
     "iopub.execute_input": "2024-04-24T17:23:42.379879Z",
     "iopub.status.busy": "2024-04-24T17:23:42.378795Z",
     "iopub.status.idle": "2024-04-24T17:23:42.391897Z",
     "shell.execute_reply": "2024-04-24T17:23:42.390634Z",
     "shell.execute_reply.started": "2024-04-24T17:23:42.379815Z"
    }
   },
   "outputs": [
    {
     "data": {
      "text/plain": [
       "\"4/4/24, 2:48 PM Data Scientist - Focus School Software | Remote\\nhttps://www.simplyhired.com/job/lxgFxvpAXhH6zOMvh9G6pzooFKCORCgkfSudwEuQZAQjF7dORlMCSw?from=smart-apply 1/4Post Jobs\\nD\\x00t\\x00 Scientist\\nFocus School Softw\\x00re\\nRemote\\nJob Det\\x00ils\\nFull-time\\n$91,751.28 - $110,496.16 \\x00 ye\\x00r\\n2 d\\x00ys \\x00\\x00o\\nBeneﬁts\\nHe\\x00lth s\\x00vin\\x00s \\x00ccount Dis\\x00bility insur\\x00nce He\\x00lth insur\\x00nce\\nDent\\x00l insur\\x00nce 401(k) Flexible spendin\\x00 \\x00ccount P\\x00id time off\\nVision insur\\x00nce 401(k) m\\x00tchin\\x00 Life insur\\x00nce\\nQu\\x00liﬁc\\x00tions\\nPower BI Writin\\x00 skills D\\x00t\\x00 \\x00n\\x00lysis skills Rese\\x00rch 3 ye\\x00rs\\nSQL Re\\x00ression \\x00n\\x00lysis 2 ye\\x00rs Communic\\x00tion skills An\\x00lytics\\nFull Job Description\\nFocus is lookin\\x00 for ener\\x00etic, cre\\x00tive, \\x00nd experienced c\\x00ndid\\x00tes who c\\x00n help us\\nsucceed in our mission to serve \\x00n incre\\x00sin\\x00 number of districts \\x00cross the n\\x00tion. We\\nkeep our clients’ needs \\x00t the forefront of everythin\\x00 we do. As \\x00 comp\\x00ny who\\nunderst\\x00nds the h\\x00rd work of tod\\x00y’s educ\\x00tors, Focus looks for employees who sh\\x00re our\\nv\\x00lues tow\\x00rds educ\\x00tion.\\nFocus School Softw\\x00re is lookin\\x00 to exp\\x00nd our te\\x00m by hirin\\x00 \\x00 PowerBI Developer / D\\x00t\\x00\\nScientist to work with our te\\x00m. This person will help support our An\\x00lytics product which\\nincludes dozens of d\\x00shbo\\x00rds \\x00n\\x00lyzin\\x00 student d\\x00t\\x00 to help educ\\x00tors t\\x00r\\x00etJI\\nQuick Apply4/4/24, 2:48 PM Data Scientist - Focus School Software | Remote\\nhttps://www.simplyhired.com/job/lxgFxvpAXhH6zOMvh9G6pzooFKCORCgkfSudwEuQZAQjF7dORlMCSw?from=smart-apply 2/4interventions \\x00nd improve their educ\\x00tion\\x00l processes. This position m\\x00y be occ\\x00sion\\x00lly\\ncustomer f\\x00cin\\x00, providin\\x00 tr\\x00inin\\x00 \\x00nd profession\\x00l \\x00rowth opportunities. The best\\nc\\x00ndid\\x00te will displ\\x00y le\\x00dership c\\x00p\\x00bilities to help drive d\\x00t\\x00-decision m\\x00kin\\x00\\nprocesses within Focus \\x00nd our customers.\\nMinimum Qu\\x00liﬁc\\x00tions:\\n2+ ye\\x00rs' experience \\x00s \\x00 PowerBI developer, d\\x00t\\x00 scientist, d\\x00t\\x00 \\x00n\\x00lyst or d\\x00t\\x00\\nen\\x00ineer\\nExperience with PowerBi An\\x00lytics, cre\\x00tin\\x00 d\\x00shbo\\x00rds, D\\x00t\\x00 An\\x00lysis Expressions\\n(DAX)\\nStron\\x00 SQL skills\\nStron\\x00 writin\\x00 \\x00nd communic\\x00tion skills\\nExperience with st\\x00tistic\\x00l rese\\x00rch \\x00nd \\x00n\\x00lytics techniques (i.e. cl\\x00ssiﬁc\\x00tion,\\nclusterin\\x00, re\\x00ression, se\\x00ment\\x00tion, etc.)\\nNice to h\\x00ve:\\nA p\\x00ssion \\x00nd interest in the development of Educ\\x00tion\\x00l softw\\x00re\\nKnowled\\x00e of school district processes \\x00nd function\\x00lity is helpful\\nJob Responsibilities include:\\nUndert\\x00ke preprocessin\\x00 of structured \\x00nd unstructured d\\x00t\\x00\\nAn\\x00lyze l\\x00r\\x00e \\x00mounts of d\\x00t\\x00/inform\\x00tion to discover \\x00nd \\x00rticul\\x00te trends \\x00nd\\np\\x00tterns\\nCollectin\\x00 d\\x00t\\x00 throu\\x00h me\\x00ns such \\x00s \\x00n\\x00lyzin\\x00 business results or by settin\\x00 up\\n\\x00nd m\\x00n\\x00\\x00in\\x00 new studies\\nTr\\x00nsferrin\\x00 d\\x00t\\x00 into \\x00 new form\\x00t to m\\x00ke it more \\x00ppropri\\x00te for \\x00n\\x00lysis\\nSe\\x00rchin\\x00 throu\\x00h l\\x00r\\x00e d\\x00t\\x00 sets for us\\x00ble inform\\x00tion\\nSolve l\\x00r\\x00e, complex problems to \\x00chieve interrel\\x00ted \\x00nd interdependent objectives\\nCre\\x00tin\\x00 reports \\x00nd present\\x00tions for business uses\\nCorrel\\x00tin\\x00 simil\\x00r d\\x00t\\x00 to ﬁnd \\x00ction\\x00ble results\\nFocus School Softw\\x00re’s compens\\x00tion p\\x00ck\\x00\\x00e offers the followin\\x00 beneﬁts:\\nMedic\\x00l Insur\\x00nce\\nDent\\x00l/Vision Insur\\x00nce\\nLife Insur\\x00nce\\nShort \\x00nd Lon\\x00 Term Dis\\x00bility Insur\\x00nce\\n401(k) \\x00fter 6 months\\nP\\x00id Holid\\x00ys\\nP\\x00id V\\x00c\\x00tion \\x00nd Sick Time4/4/24, 2:48 PM Data Scientist - Focus School Software | Remote\\nhttps://www.simplyhired.com/job/lxgFxvpAXhH6zOMvh9G6pzooFKCORCgkfSudwEuQZAQjF7dORlMCSw?from=smart-apply 3/4Remote Position\\nJob Type: Full-time\\nP\\x00y: $91,751.28 - $110,496.16 per ye\\x00r\\nBeneﬁts:\\n401(k)\\n401(k) m\\x00tchin\\x00\\nDent\\x00l insur\\x00nce\\nFlexible spendin\\x00 \\x00ccount\\nHe\\x00lth insur\\x00nce\\nHe\\x00lth s\\x00vin\\x00s \\x00ccount\\nLife insur\\x00nce\\nP\\x00id time off\\nVision insur\\x00nce\\nExperience level:\\n3 ye\\x00rs\\nSchedule:\\nMond\\x00y to Frid\\x00y\\nWork Loc\\x00tion: Remote\\nResources \\x00nd Tools\\nCountryT\\x00ke your job se\\x00rch wherever you \\x00o.Quick Apply\\nUnited St\\x00tes4/4/24, 2:48 PM Data Scientist - Focus School Software | Remote\\nhttps://www.simplyhired.com/job/lxgFxvpAXhH6zOMvh9G6pzooFKCORCgkfSudwEuQZAQjF7dORlMCSw?from=smart-apply 4/4© 2024 SH Inc.Priv\\x00cy\\xa0|\\xa0Terms\\xa0|\\xa0Cookies\\xa0|\\xa0Priv\\x00cy Center\\xa0|\\xa0Accessibility\\xa0|\\xa0Your Priv\\x00cy Choices\""
      ]
     },
     "execution_count": 16,
     "metadata": {},
     "output_type": "execute_result"
    }
   ],
   "source": [
    "job"
   ]
  },
  {
   "cell_type": "code",
   "execution_count": 14,
   "metadata": {
    "execution": {
     "iopub.execute_input": "2024-04-24T17:23:29.726482Z",
     "iopub.status.busy": "2024-04-24T17:23:29.724512Z",
     "iopub.status.idle": "2024-04-24T17:23:29.867049Z",
     "shell.execute_reply": "2024-04-24T17:23:29.866743Z",
     "shell.execute_reply.started": "2024-04-24T17:23:29.726423Z"
    }
   },
   "outputs": [
    {
     "data": {
      "text/plain": [
       "<wordcloud.wordcloud.WordCloud at 0x166921de0>"
      ]
     },
     "execution_count": 14,
     "metadata": {},
     "output_type": "execute_result"
    }
   ],
   "source": [
    "wc = WordCloud(stopwords = set(STOPWORDS))\n",
    "cloud = wc.generate_from_text(job)\n",
    "cloud"
   ]
  },
  {
   "cell_type": "code",
   "execution_count": 15,
   "metadata": {
    "execution": {
     "iopub.execute_input": "2024-04-24T17:23:30.921700Z",
     "iopub.status.busy": "2024-04-24T17:23:30.920668Z",
     "iopub.status.idle": "2024-04-24T17:23:31.072765Z",
     "shell.execute_reply": "2024-04-24T17:23:31.072341Z",
     "shell.execute_reply.started": "2024-04-24T17:23:30.921635Z"
    }
   },
   "outputs": [
    {
     "data": {
      "text/plain": [
       "<matplotlib.image.AxesImage at 0x166957160>"
      ]
     },
     "execution_count": 15,
     "metadata": {},
     "output_type": "execute_result"
    },
    {
     "data": {
      "image/png": "[encoded data removed]",
      "text/plain": [
       "<Figure size 640x480 with 1 Axes>"
      ]
     },
     "metadata": {},
     "output_type": "display_data"
    }
   ],
   "source": [
    "plt.imshow(cloud, interpolation='bilinear')"
   ]
  },
  {
   "cell_type": "code",
   "execution_count": 19,
   "metadata": {},
   "outputs": [
    {
     "data": {
      "text/plain": [
       "[(('nd', 1.0), 98, (94, 1), None, 'rgb(162, 218, 55)'),\n",
       " (('tion', 0.8421052631578947), 90, (109, 168), None, 'rgb(34, 139, 141)'),\n",
       " (('d t', 0.7894736842105263), 86, (9, 135), None, 'rgb(71, 44, 122)'),\n",
       " (('insur nce', 0.6842105263157895), 42, (75, 154), None, 'rgb(59, 82, 139)'),\n",
       " (('n', 0.631578947368421), 40, (21, 46), 2, 'rgb(67, 62, 133)'),\n",
       " (('l', 0.5789473684210527), 38, (34, 214), None, 'rgb(223, 227, 24)'),\n",
       " (('s', 0.42105263157894735), 33, (6, 180), None, 'rgb(47, 107, 142)'),\n",
       " (('m', 0.42105263157894735), 33, (5, 299), None, 'rgb(226, 228, 24)'),\n",
       " (('y', 0.42105263157894735), 33, (47, 93), None, 'rgb(42, 119, 142)'),\n",
       " (('Focus School', 0.3684210526315789),\n",
       "  26,\n",
       "  (178, 180),\n",
       "  None,\n",
       "  'rgb(45, 178, 125)'),\n",
       " (('job', 0.3157894736842105), 24, (16, 350), 2, 'rgb(184, 222, 41)'),\n",
       " (('ye', 0.3157894736842105), 24, (168, 49), None, 'rgb(162, 218, 55)'),\n",
       " (('te', 0.3157894736842105), 24, (177, 89), None, 'rgb(56, 185, 119)'),\n",
       " (('e', 0.3157894736842105), 24, (131, 130), None, 'rgb(218, 227, 25)'),\n",
       " (('P', 0.2631578947368421), 22, (173, 15), None, 'rgb(229, 228, 25)'),\n",
       " (('skills', 0.2631578947368421), 22, (88, 1), None, 'rgb(70, 8, 92)'),\n",
       " (('c', 0.2631578947368421), 22, (7, 58), None, 'rgb(213, 226, 26)'),\n",
       " (('educ', 0.2631578947368421), 22, (33, 5), 2, 'rgb(33, 142, 141)'),\n",
       " (('Scientist Focus', 0.2631578947368421),\n",
       "  22,\n",
       "  (3, 381),\n",
       "  2,\n",
       "  'rgb(72, 35, 116)'),\n",
       " (('simplyhired', 0.21052631578947367),\n",
       "  17,\n",
       "  (109, 267),\n",
       "  None,\n",
       "  'rgb(72, 26, 108)'),\n",
       " (('time', 0.21052631578947367), 17, (66, 44), None, 'rgb(49, 103, 142)'),\n",
       " (('lth', 0.21052631578947367), 17, (151, 202), None, 'rgb(112, 207, 87)'),\n",
       " (('ccount', 0.21052631578947367), 17, (69, 317), None, 'rgb(58, 83, 139)'),\n",
       " (('lysis', 0.21052631578947367), 17, (171, 118), None, 'rgb(35, 137, 142)'),\n",
       " (('lytics', 0.21052631578947367), 17, (42, 285), None, 'rgb(60, 79, 138)'),\n",
       " (('help', 0.21052631578947367), 17, (39, 198), 2, 'rgb(72, 33, 115)'),\n",
       " (('h', 0.21052631578947367), 17, (40, 112), None, 'rgb(34, 141, 141)'),\n",
       " (('rd', 0.21052631578947367), 17, (133, 256), None, 'rgb(63, 188, 115)'),\n",
       " (('Experience', 0.21052631578947367), 17, (7, 70), None, 'rgb(115, 208, 86)'),\n",
       " (('PM Data', 0.21052631578947367), 17, (1, 198), None, 'rgb(45, 178, 125)'),\n",
       " (('Data Scientist', 0.21052631578947367),\n",
       "  10,\n",
       "  (75, 221),\n",
       "  None,\n",
       "  'rgb(139, 214, 70)'),\n",
       " (('School Software', 0.21052631578947367),\n",
       "  10,\n",
       "  (107, 118),\n",
       "  None,\n",
       "  'rgb(53, 94, 141)'),\n",
       " (('Software Remote', 0.21052631578947367),\n",
       "  10,\n",
       "  (84, 65),\n",
       "  None,\n",
       "  'rgb(218, 227, 25)'),\n",
       " (('Remote https', 0.21052631578947367),\n",
       "  10,\n",
       "  (189, 14),\n",
       "  None,\n",
       "  'rgb(218, 227, 25)')]"
      ]
     },
     "execution_count": 19,
     "metadata": {},
     "output_type": "execute_result"
    }
   ],
   "source": [
    "wc.layout_"
   ]
  },
  {
   "cell_type": "code",
   "execution_count": 15,
   "metadata": {},
   "outputs": [
    {
     "data": {
      "application/vnd.plotly.v1+json": {
       "config": {
        "plotlyServerURL": "https://plot.ly"
       },
       "data": [
        {
         "hoverinfo": "text",
         "hovertext": [
          "nd1.0",
          "tion0.8421052631578947",
          "d t0.7894736842105263",
          "insur nce0.6842105263157895",
          "n0.631578947368421",
          "l0.5789473684210527",
          "s0.42105263157894735",
          "m0.42105263157894735",
          "y0.42105263157894735",
          "Focus School0.3684210526315789",
          "job0.3157894736842105",
          "ye0.3157894736842105",
          "te0.3157894736842105",
          "e0.3157894736842105",
          "P0.2631578947368421",
          "skills0.2631578947368421",
          "c0.2631578947368421",
          "educ0.2631578947368421",
          "Scientist Focus0.2631578947368421",
          "simplyhired0.21052631578947367",
          "time0.21052631578947367",
          "lth0.21052631578947367",
          "ccount0.21052631578947367",
          "lysis0.21052631578947367",
          "lytics0.21052631578947367",
          "help0.21052631578947367",
          "h0.21052631578947367",
          "rd0.21052631578947367",
          "Experience0.21052631578947367",
          "PM Data0.21052631578947367",
          "Data Scientist0.21052631578947367",
          "School Software0.21052631578947367",
          "Software Remote0.21052631578947367",
          "Remote https0.21052631578947367"
         ],
         "mode": "text",
         "text": [
          "nd",
          "tion",
          "d t",
          "insur nce",
          "n",
          "l",
          "s",
          "m",
          "y",
          "Focus School",
          "job",
          "ye",
          "te",
          "e",
          "P",
          "skills",
          "c",
          "educ",
          "Scientist Focus",
          "simplyhired",
          "time",
          "lth",
          "ccount",
          "lysis",
          "lytics",
          "help",
          "h",
          "rd",
          "Experience",
          "PM Data",
          "Data Scientist",
          "School Software",
          "Software Remote",
          "Remote https"
         ],
         "textfont": {
          "color": [
           "rgb(241, 229, 29)",
           "rgb(46, 110, 142)",
           "rgb(32, 146, 140)",
           "rgb(229, 228, 25)",
           "rgb(49, 102, 142)",
           "rgb(65, 68, 135)",
           "rgb(49, 104, 142)",
           "rgb(55, 90, 140)",
           "rgb(144, 215, 67)",
           "rgb(40, 174, 128)",
           "rgb(117, 208, 84)",
           "rgb(48, 105, 142)",
           "rgb(70, 8, 92)",
           "rgb(66, 63, 133)",
           "rgb(66, 63, 133)",
           "rgb(39, 126, 142)",
           "rgb(44, 114, 142)",
           "rgb(34, 168, 132)",
           "rgb(30, 156, 137)",
           "rgb(65, 66, 135)",
           "rgb(30, 156, 137)",
           "rgb(70, 50, 126)",
           "rgb(144, 215, 67)",
           "rgb(88, 199, 101)",
           "rgb(134, 213, 73)",
           "rgb(63, 188, 115)",
           "rgb(31, 159, 136)",
           "rgb(157, 217, 59)",
           "rgb(223, 227, 24)",
           "rgb(229, 228, 25)",
           "rgb(49, 104, 142)",
           "rgb(69, 53, 129)",
           "rgb(33, 142, 141)",
           "rgb(31, 150, 139)"
          ],
          "size": [
           100,
           84.21052631578947,
           78.94736842105263,
           68.42105263157895,
           63.1578947368421,
           57.89473684210527,
           42.10526315789473,
           42.10526315789473,
           42.10526315789473,
           36.84210526315789,
           31.57894736842105,
           31.57894736842105,
           31.57894736842105,
           31.57894736842105,
           26.31578947368421,
           26.31578947368421,
           26.31578947368421,
           26.31578947368421,
           26.31578947368421,
           21.052631578947366,
           21.052631578947366,
           21.052631578947366,
           21.052631578947366,
           21.052631578947366,
           21.052631578947366,
           21.052631578947366,
           21.052631578947366,
           21.052631578947366,
           21.052631578947366,
           21.052631578947366,
           21.052631578947366,
           21.052631578947366,
           21.052631578947366,
           21.052631578947366
          ]
         },
         "type": "scatter",
         "x": [
          81,
          5,
          21,
          158,
          12,
          161,
          91,
          78,
          110,
          142,
          89,
          101,
          121,
          103,
          138,
          38,
          2,
          77,
          6,
          9,
          70,
          125,
          39,
          182,
          77,
          43,
          15,
          108,
          95,
          25,
          160,
          1,
          3,
          57
         ],
         "y": [
          43,
          1,
          215,
          108,
          354,
          24,
          307,
          280,
          334,
          157,
          173,
          269,
          179,
          20,
          29,
          375,
          203,
          76,
          219,
          94,
          304,
          242,
          267,
          67,
          1,
          38,
          381,
          255,
          5,
          267,
          43,
          321,
          2,
          274
         ]
        }
       ],
       "layout": {
        "template": {
         "data": {
          "candlestick": [
           {
            "decreasing": {
             "line": {
              "color": "#000033"
             }
            },
            "increasing": {
             "line": {
              "color": "#000032"
             }
            },
            "type": "candlestick"
           }
          ],
          "contour": [
           {
            "colorscale": [
             [
              0,
              "#000011"
             ],
             [
              0.1111111111111111,
              "#000012"
             ],
             [
              0.2222222222222222,
              "#000013"
             ],
             [
              0.3333333333333333,
              "#000014"
             ],
             [
              0.4444444444444444,
              "#000015"
             ],
             [
              0.5555555555555556,
              "#000016"
             ],
             [
              0.6666666666666666,
              "#000017"
             ],
             [
              0.7777777777777778,
              "#000018"
             ],
             [
              0.8888888888888888,
              "#000019"
             ],
             [
              1,
              "#000020"
             ]
            ],
            "type": "contour"
           }
          ],
          "contourcarpet": [
           {
            "colorscale": [
             [
              0,
              "#000011"
             ],
             [
              0.1111111111111111,
              "#000012"
             ],
             [
              0.2222222222222222,
              "#000013"
             ],
             [
              0.3333333333333333,
              "#000014"
             ],
             [
              0.4444444444444444,
              "#000015"
             ],
             [
              0.5555555555555556,
              "#000016"
             ],
             [
              0.6666666666666666,
              "#000017"
             ],
             [
              0.7777777777777778,
              "#000018"
             ],
             [
              0.8888888888888888,
              "#000019"
             ],
             [
              1,
              "#000020"
             ]
            ],
            "type": "contourcarpet"
           }
          ],
          "heatmap": [
           {
            "colorscale": [
             [
              0,
              "#000011"
             ],
             [
              0.1111111111111111,
              "#000012"
             ],
             [
              0.2222222222222222,
              "#000013"
             ],
             [
              0.3333333333333333,
              "#000014"
             ],
             [
              0.4444444444444444,
              "#000015"
             ],
             [
              0.5555555555555556,
              "#000016"
             ],
             [
              0.6666666666666666,
              "#000017"
             ],
             [
              0.7777777777777778,
              "#000018"
             ],
             [
              0.8888888888888888,
              "#000019"
             ],
             [
              1,
              "#000020"
             ]
            ],
            "type": "heatmap"
           }
          ],
          "histogram2d": [
           {
            "colorscale": [
             [
              0,
              "#000011"
             ],
             [
              0.1111111111111111,
              "#000012"
             ],
             [
              0.2222222222222222,
              "#000013"
             ],
             [
              0.3333333333333333,
              "#000014"
             ],
             [
              0.4444444444444444,
              "#000015"
             ],
             [
              0.5555555555555556,
              "#000016"
             ],
             [
              0.6666666666666666,
              "#000017"
             ],
             [
              0.7777777777777778,
              "#000018"
             ],
             [
              0.8888888888888888,
              "#000019"
             ],
             [
              1,
              "#000020"
             ]
            ],
            "type": "histogram2d"
           }
          ],
          "icicle": [
           {
            "textfont": {
             "color": "white"
            },
            "type": "icicle"
           }
          ],
          "sankey": [
           {
            "textfont": {
             "color": "#000036"
            },
            "type": "sankey"
           }
          ],
          "scatter": [
           {
            "marker": {
             "line": {
              "width": 0
             }
            },
            "type": "scatter"
           }
          ],
          "table": [
           {
            "cells": {
             "fill": {
              "color": "#000038"
             },
             "font": {
              "color": "#000037"
             },
             "line": {
              "color": "#000039"
             }
            },
            "header": {
             "fill": {
              "color": "#000040"
             },
             "font": {
              "color": "#000036"
             },
             "line": {
              "color": "#000039"
             }
            },
            "type": "table"
           }
          ],
          "waterfall": [
           {
            "connector": {
             "line": {
              "color": "#000036",
              "width": 2
             }
            },
            "decreasing": {
             "marker": {
              "color": "#000033"
             }
            },
            "increasing": {
             "marker": {
              "color": "#000032"
             }
            },
            "totals": {
             "marker": {
              "color": "#000034"
             }
            },
            "type": "waterfall"
           }
          ]
         },
         "layout": {
          "coloraxis": {
           "colorscale": [
            [
             0,
             "#000011"
            ],
            [
             0.1111111111111111,
             "#000012"
            ],
            [
             0.2222222222222222,
             "#000013"
            ],
            [
             0.3333333333333333,
             "#000014"
            ],
            [
             0.4444444444444444,
             "#000015"
            ],
            [
             0.5555555555555556,
             "#000016"
            ],
            [
             0.6666666666666666,
             "#000017"
            ],
            [
             0.7777777777777778,
             "#000018"
            ],
            [
             0.8888888888888888,
             "#000019"
            ],
            [
             1,
             "#000020"
            ]
           ]
          },
          "colorscale": {
           "diverging": [
            [
             0,
             "#000021"
            ],
            [
             0.1,
             "#000022"
            ],
            [
             0.2,
             "#000023"
            ],
            [
             0.3,
             "#000024"
            ],
            [
             0.4,
             "#000025"
            ],
            [
             0.5,
             "#000026"
            ],
            [
             0.6,
             "#000027"
            ],
            [
             0.7,
             "#000028"
            ],
            [
             0.8,
             "#000029"
            ],
            [
             0.9,
             "#000030"
            ],
            [
             1,
             "#000031"
            ]
           ],
           "sequential": [
            [
             0,
             "#000011"
            ],
            [
             0.1111111111111111,
             "#000012"
            ],
            [
             0.2222222222222222,
             "#000013"
            ],
            [
             0.3333333333333333,
             "#000014"
            ],
            [
             0.4444444444444444,
             "#000015"
            ],
            [
             0.5555555555555556,
             "#000016"
            ],
            [
             0.6666666666666666,
             "#000017"
            ],
            [
             0.7777777777777778,
             "#000018"
            ],
            [
             0.8888888888888888,
             "#000019"
            ],
            [
             1,
             "#000020"
            ]
           ],
           "sequentialminus": [
            [
             0,
             "#000011"
            ],
            [
             0.1111111111111111,
             "#000012"
            ],
            [
             0.2222222222222222,
             "#000013"
            ],
            [
             0.3333333333333333,
             "#000014"
            ],
            [
             0.4444444444444444,
             "#000015"
            ],
            [
             0.5555555555555556,
             "#000016"
            ],
            [
             0.6666666666666666,
             "#000017"
            ],
            [
             0.7777777777777778,
             "#000018"
            ],
            [
             0.8888888888888888,
             "#000019"
            ],
            [
             1,
             "#000020"
            ]
           ]
          },
          "colorway": [
           "#000001",
           "#000002",
           "#000003",
           "#000004",
           "#000005",
           "#000006",
           "#000007",
           "#000008",
           "#000009",
           "#000010"
          ]
         }
        },
        "xaxis": {
         "showgrid": false,
         "showticklabels": false,
         "zeroline": false
        },
        "yaxis": {
         "showgrid": false,
         "showticklabels": false,
         "zeroline": false
        }
       }
      }
     },
     "metadata": {},
     "output_type": "display_data"
    }
   ],
   "source": [
    "fig = plotly_wordcloud(job)\n",
    "fig"
   ]
  },
  {
   "cell_type": "code",
   "execution_count": null,
   "metadata": {},
   "outputs": [],
   "source": []
  }
 ],
 "metadata": {
  "kernelspec": {
   "display_name": "Python (dojo-env)",
   "language": "python",
   "name": "dojo-env"
  },
  "language_info": {
   "codemirror_mode": {
    "name": "ipython",
    "version": 3
   },
   "file_extension": ".py",
   "mimetype": "text/x-python",
   "name": "python",
   "nbconvert_exporter": "python",
   "pygments_lexer": "ipython3",
   "version": "3.10.10"
  }
 },
 "nbformat": 4,
 "nbformat_minor": 4
}
